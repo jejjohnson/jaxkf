{
 "cells": [
  {
   "cell_type": "markdown",
   "id": "31838ab4-02d1-4272-9a20-543407d0fcd4",
   "metadata": {},
   "source": [
    "# Kalman Filter Walkthrough"
   ]
  },
  {
   "cell_type": "markdown",
   "id": "3b2bb552-e565-4601-91bc-c74b76d66c71",
   "metadata": {},
   "source": [
    "This notebook will walk through the Kalman Filter (KF) algorithm. It is a simple state-space model which makes some Gaussian assumptions about the transition dynamics and the emission dynamics. This results in a very simple model to use because all of the important quantities of interest (e.g. filtering, smoothing, and forecasting) are available in closed-form.\n",
    "\n",
    "**Resources**:\n",
    "\n",
    "* "
   ]
  },
  {
   "cell_type": "markdown",
   "id": "c73f2777-f998-42bf-be4f-9b21618de76e",
   "metadata": {},
   "source": [
    "## Model"
   ]
  },
  {
   "cell_type": "markdown",
   "id": "402d3a5f-13bb-4940-a48a-060c73f4e32f",
   "metadata": {},
   "source": [
    "**Transition Model**\n",
    "\n",
    "This model describes the transition dynamics between the different states at time $t$ and $t+1$.\n",
    "\n",
    "$$\n",
    "\\mathbf{z}_{t} = \\mathbf{A}_t \\mathbf{z}_{t-1} + \\mathbf{Q}_t\n",
    "$$\n",
    "\n",
    "Notice how it assumes a linear transition with an additive Gaussin noise assumption, $\\boldsymbol{\\epsilon}_{\\mathbf{z}_t} \\sim \\mathcal{N}(\\mathbf{0},\\mathbf{Q}_t)$. We can also rewrite this as a conditional distribution.\n",
    "\n",
    "$$\n",
    "p(\\mathbf{z}_{t}|\\mathbf{z}_{t-1}) = \\mathcal{N}(\\mathbf{z}_t|\\mathbf{A}_t\\mathbf{z}_{t-1}, \\mathbf{Q}_t)\n",
    "$$"
   ]
  },
  {
   "cell_type": "markdown",
   "id": "cfccb263-4791-4464-9f87-c698a6ab15ff",
   "metadata": {},
   "source": [
    "---\n",
    "**Observation Model**\n",
    "\n",
    "$$\n",
    "\\mathbf{x}_t = \\mathbf{C}_t\\mathbf{z}_t + \\mathbf{R}_t\n",
    "$$\n",
    "\n",
    "where can also rewrite this as a distribution:\n",
    "\n",
    "$$\n",
    "p(\\mathbf{x}_t|\\mathbf{z}_t) = \\mathcal{N}(\\mathbf{x}_t|\\mathbf{C}_t\\mathbf{z}_t, \\mathbf{R}_t)\n",
    "$$\n"
   ]
  },
  {
   "cell_type": "markdown",
   "id": "2e9c3e98-7d69-48ff-a99a-ec02ae5738a5",
   "metadata": {},
   "source": [
    "---\n",
    "**Free Parameters**\n",
    "\n",
    "In this case, we have the following free parameters, $\\boldsymbol{\\theta}_t$, in this model:\n",
    "\n",
    "$$\n",
    "\\boldsymbol{\\theta}_t = \\left\\{\\mathbf{A}_t, \\mathbf{Q}_t, \\mathbf{C}_t, \\mathbf{R}_t \\right\\}\n",
    "$$\n",
    "\n",
    "**Note**: we can assume the parameters are independent of time, $t$, which would provide us with a simpler model. This is called a *stationary* assumption which may be cheaper, but also invalid in some cases."
   ]
  },
  {
   "cell_type": "code",
   "execution_count": 48,
   "id": "8e741880-6420-4cfd-8edd-c2b6e28973cd",
   "metadata": {},
   "outputs": [],
   "source": [
    "import numpy as np\n",
    "from typing import NamedTuple\n",
    "from dataclasses import dataclass\n",
    "from scipy import stats\n",
    "from einops import repeat\n",
    "import matplotlib.pyplot as plt\n",
    "from filterpy.kalman import KalmanFilter, update, predict, batch_filter, rts_smoother\n",
    "\n"
   ]
  },
  {
   "cell_type": "markdown",
   "id": "54abedc7-ba0e-4e42-9557-7c08e0cfeebd",
   "metadata": {},
   "source": [
    "## Example I - Noisy 1D Signal"
   ]
  },
  {
   "cell_type": "markdown",
   "id": "2c7c5b98-8672-4d88-80ca-5f5cf496cea6",
   "metadata": {},
   "source": [
    "\n",
    "$$\n",
    "\\begin{aligned}\n",
    "y_t &= x_t + \\epsilon_y\n",
    "\\end{aligned}\n",
    "$$\n",
    "\n",
    "where $\\epsilon_y \\sim \\mathcal{N}(0, \\sigma^2)$ and $t = [0, 100]$. \n",
    "\n",
    "So essentially, this is a trivial example where we have a straight line"
   ]
  },
  {
   "cell_type": "code",
   "execution_count": 29,
   "id": "b107bd0c-128c-4dd2-8b3f-158c9012d92e",
   "metadata": {},
   "outputs": [
    {
     "data": {
      "application/vnd.jupyter.widget-view+json": {
       "model_id": "a1aff9ce81a24a8a9ca42344fe6903f8",
       "version_major": 2,
       "version_minor": 0
      },
      "text/plain": [
       "  0%|          | 0/100 [00:00<?, ?it/s]"
      ]
     },
     "metadata": {},
     "output_type": "display_data"
    }
   ],
   "source": [
    "from tqdm.notebook import trange\n",
    "\n",
    "time_steps = 100\n",
    "scale = 10\n",
    "\n",
    "true_observations = []\n",
    "noisy_observations = []\n",
    "\n",
    "for t in trange(time_steps):\n",
    "    \n",
    "    # true signal\n",
    "    true_observations.append(t)\n",
    "    \n",
    "    # noisy signal    \n",
    "    z = t + scale * np.random.randn()\n",
    "    \n",
    "    noisy_observations.append(z)\n",
    "    \n",
    "    "
   ]
  },
  {
   "cell_type": "code",
   "execution_count": 30,
   "id": "f67ba4c4-edb9-4525-96f0-076248ddd92b",
   "metadata": {},
   "outputs": [
    {
     "data": {
      "image/png": "[encoded data removed]",
      "text/plain": [
       "<Figure size 432x288 with 1 Axes>"
      ]
     },
     "metadata": {
      "needs_background": "light"
     },
     "output_type": "display_data"
    }
   ],
   "source": [
    "# plot the signal\n",
    "fig, ax = plt.subplots()\n",
    "ax.plot(true_observations, marker=\"\", linestyle=\"-\", label=\"True State\", color=\"k\")\n",
    "ax.plot(noisy_observations, marker=\".\", linestyle=\"\", label=\"Noisy Observations\", color=\"red\")\n",
    "ax.set(xlabel=\"Time\", ylabel=\"Signal\")\n",
    "plt.legend()\n",
    "plt.tight_layout()"
   ]
  },
  {
   "cell_type": "markdown",
   "id": "9e1e45cb-fd59-4261-a257-2b4483292ebe",
   "metadata": {},
   "source": [
    "---\n",
    "Like before, we can describe the dynamical system like so:\n",
    "\n",
    "$$\n",
    "\\begin{aligned}\n",
    "\\mathbf{z}_{t+1} &= \\mathbf{F}\\mathbf{z}_t + \\boldsymbol{\\epsilon}_\\mathbf{z} \\\\\n",
    "x_t &= \\mathbf{H}\\mathbf{z}_t + \\boldsymbol{\\epsilon}_x\n",
    "\\end{aligned}\n",
    "$$\n",
    "\n",
    "We can manually define the terms, $\\mathbf{F}$ and $\\mathbf{H}$, which represent the relationship between the variables. Here they will be\n",
    "\n",
    "$$\n",
    "\\begin{aligned}\n",
    "\\mathbf{F} &=\n",
    "\\begin{bmatrix}\n",
    "1 & 1 \\\\ 0 & 1\n",
    "\\end{bmatrix} \\\\\n",
    "\\mathbf{H} &=\n",
    "\\begin{bmatrix}\n",
    "1 & 0 \n",
    "\\end{bmatrix}\n",
    "\\end{aligned}\n",
    "$$\n",
    "\n",
    "Here, we assume that the state system is as follows:\n",
    "\n",
    "$$\n",
    "\\begin{aligned}\n",
    "\\frac{\\partial z^1}{\\partial t} &= z^1 + z^2 \\\\\n",
    "\\frac{\\partial z^2}{\\partial t} &= z^1\n",
    "\\end{aligned}\n",
    "$$\n",
    "\n",
    "and we assume that the observation is related like so:\n",
    "\n",
    "$$\n",
    "x = z^1\n",
    "$$\n",
    "\n",
    "So essentially, we have an augmented the state space dimension, $\\mathbf{z} \\in \\mathbb{R}^2$, which is higher than the observation space, $x \\in \\mathbb{R}^1$. Our assumption here is that there are higher order dynamics at play behind the scenes. \n"
   ]
  },
  {
   "cell_type": "markdown",
   "id": "2e02538b-176c-4161-a849-8ec900ac0ea4",
   "metadata": {},
   "source": [
    "#### Setup"
   ]
  },
  {
   "cell_type": "code",
   "execution_count": 45,
   "id": "8a4baff8-cf64-40b8-be73-2df14d7a9505",
   "metadata": {},
   "outputs": [],
   "source": [
    "# initialize Kalman Filter\n",
    "dim_z = 2\n",
    "dim_x = 1\n",
    "\n",
    "\n",
    "# init transition model\n",
    "F = np.array([[1., 1.], [0., 1.]])   # state transition matrix\n",
    "Q = 1e-4 * np.eye((2))              # state uncertainty\n",
    "\n",
    "assert F.shape == (dim_z, dim_z)\n",
    "assert Q.shape == (dim_z, dim_z)\n",
    "\n",
    "# init emission model\n",
    "H = np.array([[1., 0.]]).T             # emission matrix\n",
    "R = 5 * np.eye((1))                  # emission uncertainty\n",
    "\n",
    "assert H.shape == (dim_z, dim_x)\n",
    "assert R.shape == (dim_x, dim_x)\n",
    "\n",
    "# init state\n",
    "init_mean = np.array([2., 0.])\n",
    "init_cov = np.eye(init_mean.shape[0])\n",
    "\n",
    "assert init_mean.shape == (dim_z,)\n",
    "assert init_cov.shape == (dim_z, dim_z)\n",
    "init_state = KFState(mean=init_mean, cov=init_cov)\n",
    "\n",
    "mean, cov = init_mean, init_cov\n"
   ]
  },
  {
   "cell_type": "markdown",
   "id": "7bda0c40-7eb2-4484-8a10-2b457485b22c",
   "metadata": {},
   "source": [
    "### Filtering"
   ]
  },
  {
   "cell_type": "code",
   "execution_count": 46,
   "id": "40fa74e9-1387-481a-93b9-21722a7c89ae",
   "metadata": {},
   "outputs": [
    {
     "data": {
      "application/vnd.jupyter.widget-view+json": {
       "model_id": "acc050bde71f486f8c073a30af007bfc",
       "version_major": 2,
       "version_minor": 0
      },
      "text/plain": [
       "  0%|          | 0/100 [00:00<?, ?it/s]"
      ]
     },
     "metadata": {},
     "output_type": "display_data"
    }
   ],
   "source": [
    "\n",
    "\n",
    "\n",
    "observations = []\n",
    "states = []\n",
    "means, covs = [], []\n",
    "time_steps = 100\n",
    "# run the kalman filter\n",
    "with trange(time_steps) as pbar:\n",
    "    for t in pbar:\n",
    "        \n",
    "        # noisy signal\n",
    "        pbar.set_description(\"Running: Generating signal\")\n",
    "        obs = t + scale * np.random.randn(1,1)\n",
    "\n",
    "        observations.append(obs.squeeze())\n",
    "\n",
    "        # run update eqns\n",
    "        pbar.set_description(\"Runing: Update Equation\")\n",
    "        mean, cov = update(x=mean, P=cov, z=obs, R=R, H=H.T)\n",
    "        \n",
    "        # run predict eqns\n",
    "        pbar.set_description(\"Runing: Predict Equation\")\n",
    "        mean, cov  = predict(x=mean, P=cov, F=F, Q=Q)\n",
    "        # break\n",
    "        \n",
    "        # keep the estimated state\n",
    "        states.append(mean[0])\n",
    "        \n",
    "        means.append(mean)\n",
    "        covs.append(cov)\n"
   ]
  },
  {
   "cell_type": "code",
   "execution_count": 47,
   "id": "83c604c6-4124-4d19-b470-9b8dc658e6ea",
   "metadata": {},
   "outputs": [
    {
     "data": {
      "image/png": "[encoded data removed]",
      "text/plain": [
       "<Figure size 432x288 with 1 Axes>"
      ]
     },
     "metadata": {
      "needs_background": "light"
     },
     "output_type": "display_data"
    }
   ],
   "source": [
    "# plot the signal\n",
    "fig, ax = plt.subplots()\n",
    "ax.plot(observations, label=\"Observations\", linewidth=2, linestyle=\"--\")\n",
    "ax.plot(states, label=\"KF State\", linewidth=2, )\n",
    "ax.plot([0,100], [0,100], label=\"True State\", linewidth=2, color=\"black\" )\n",
    "ax.set(xlabel=\"Time\", ylabel=\"Signal\")\n",
    "plt.legend()\n",
    "plt.tight_layout()\n",
    "plt.show()"
   ]
  },
  {
   "cell_type": "markdown",
   "id": "eb1ece59-9561-4102-aba9-30c4f7213fe8",
   "metadata": {},
   "source": [
    "As we can see, it does a fairly good job at getting the state."
   ]
  },
  {
   "cell_type": "markdown",
   "id": "d43bd004-e610-4e74-b3d0-9acad33cdba3",
   "metadata": {},
   "source": [
    "### Smoothing"
   ]
  },
  {
   "cell_type": "code",
   "execution_count": 54,
   "id": "a1c913d3-c6a3-40db-9b25-e4676a0bc6de",
   "metadata": {},
   "outputs": [],
   "source": [
    "n_states = len(means)\n",
    "Xs = np.array(means)\n",
    "Ps = np.array(covs)\n",
    "Fs = [F] * n_states\n",
    "Qs = [Q] * n_states\n",
    "mean_sm, covs_sm, Ks, pred_covs = rts_smoother(Xs=Xs, Ps=Ps, Fs=Fs, Qs=Qs)"
   ]
  },
  {
   "cell_type": "code",
   "execution_count": 70,
   "id": "e5da73d9-4715-40e6-8328-7ee53e4adb3b",
   "metadata": {},
   "outputs": [
    {
     "data": {
      "image/png": "[encoded data removed]",
      "text/plain": [
       "<Figure size 432x288 with 1 Axes>"
      ]
     },
     "metadata": {
      "needs_background": "light"
     },
     "output_type": "display_data"
    }
   ],
   "source": [
    "# plot the signal\n",
    "fig, ax = plt.subplots()\n",
    "ax.plot(observations, label=\"Observations\", linewidth=2, linestyle=\"--\")\n",
    "ax.plot([0,100], [0,100], label=\"True State\", linewidth=2, color=\"black\" )\n",
    "ax.plot(mean_sm[:, 0], label=\"Smoothed KF State\", linewidth=2, color=\"red\")\n",
    "ax.set(xlabel=\"Time\", ylabel=\"Signal\")\n",
    "plt.legend()\n",
    "plt.tight_layout()\n",
    "plt.show()"
   ]
  },
  {
   "cell_type": "markdown",
   "id": "620e5ffc-f2f4-42b2-8f31-45f9d31f9764",
   "metadata": {},
   "source": [
    "## Example II - Object Tracking"
   ]
  },
  {
   "cell_type": "markdown",
   "id": "12b2185a-2b47-4c4d-a5a8-1c44c056043d",
   "metadata": {},
   "source": [
    "In this example, we consider an object moving in a 2D plane. \n",
    "\n",
    "---\n",
    "\n",
    "#### State Transition Dynamics\n",
    "\n",
    "We assume that we can fully describe the state when we have the `(x,y)` coordinates of the position and the `(x,y)` velocity. So we can write this as:\n",
    "\n",
    "$$\n",
    "\\mathbf{z}_t = \n",
    "\\begin{bmatrix}\n",
    "z_t^1 \\\\ z_t^2 \\\\ \\dot{z}_t^1 \\\\ \\dot{z}_t^2\n",
    "\\end{bmatrix}\n",
    "$$\n",
    "\n",
    "where $z_t^d$ is the coordinate of the position and $\\dot{z}^d$ is the velocity. \n",
    "\n",
    "We can describe the dynamics of the system using the following system of equations:\n",
    "\n",
    "$$\n",
    "\\begin{aligned}\n",
    "z_t^1 &= z_{t-1}^1 + \\Delta_t \\dot{z}_t^1 + \\epsilon_t^1 \\\\\n",
    "z_t^2 &= z_{t-1}^2 + \\Delta_t \\dot{z}_t^2 + \\epsilon_t^2 \\\\\n",
    "\\dot{z}_t^1 &= \\dot{z}_{t-1}^1 + \\epsilon_t^3 \\\\\n",
    "\\dot{z}_t^2 &= \\dot{z}_{t-1}^2 + \\epsilon_t^4 \\\\\n",
    "\\end{aligned}\n",
    "$$\n",
    "\n",
    "This is a very simple formulation which takes a first order approximation to the change in position based on speed and we also assume constant velocity. Note, we also include some noise because we assume that some of the dynamics are noisy, i.e. there are random acceleration and position changes in the model. \n",
    "\n",
    "\n",
    "We can also put this into matrix formulation like so:\n",
    "\n",
    "$$\n",
    "\\mathbf{z}_t = \\mathbf{A}_t \\mathbf{z}_{t-1} + \\boldsymbol{\\epsilon}_t\n",
    "$$\n",
    "\n",
    "where:\n",
    "\n",
    "$$\n",
    "\\mathbf{A}_t = \n",
    "\\begin{bmatrix}\n",
    "1 & 0 & \\Delta_t & 0 \\\\\n",
    "0 & 1 & 0 & \\Delta_t \\\\\n",
    "0 & 0 & 1 & 0 \\\\\n",
    "0 & 0 & 0 & 1 \\\\\n",
    "\\end{bmatrix}, \\;\\; \\mathbf{A}_t \\in \\mathbb{R}^{4\\times 4}\n",
    "$$"
   ]
  },
  {
   "cell_type": "code",
   "execution_count": 37,
   "id": "a7aacf48-584e-4d6b-bec5-0f64a691bebc",
   "metadata": {},
   "outputs": [],
   "source": [
    "state_ndims = 4\n",
    "Δ = 1.0\n",
    "\n",
    "A = np.array([\n",
    "    [1, 0, Δ, 0], \n",
    "    [0, 1, 0, Δ], \n",
    "    [0, 0, 1, 0], \n",
    "    [0, 0, 0, 1]\n",
    "])\n",
    "R = np.eye(state_ndims)\n",
    "\n",
    "assert A.shape == (state_ndims, state_ndims)"
   ]
  },
  {
   "cell_type": "markdown",
   "id": "a137c76b-6e7a-4bae-85d9-127bb92599f2",
   "metadata": {},
   "source": [
    "---\n",
    "#### Emissions Model\n",
    "\n",
    "We can only fully observe the locations (not the velocities). So this will be a lower dimensional vector of size 2-D. The system of equations are as follows:\n",
    "\n",
    "$$\n",
    "\\begin{aligned}\n",
    "x_t^1 &= z_t^1 + \\delta_t^1 \\\\\n",
    "x_t^2 &= z_t^2 + \\delta_t^2 \\\\\n",
    "\\end{aligned}\n",
    "$$\n",
    "\n",
    "This is a very simple model where we assume we can extract the direct positions (plus some noise) from the state.\n",
    "\n",
    "We can write this in an abbreviated matrix formulation:\n",
    "\n",
    "$$\n",
    "\\mathbf{x}_t = \\mathbf{C}_t \\mathbf{z}_t + \\delta_t\n",
    "$$\n",
    "\n",
    "where:\n",
    "\n",
    "$$\n",
    "\\mathbf{C}_t = \n",
    "\\begin{bmatrix}\n",
    "1 & 0 & 0 & 0 \\\\\n",
    "0 & 1 & 0 & 0 \\\\\n",
    "\\end{bmatrix}, \\;\\; \\mathbf{C}_t \\in \\mathbb{R}^{2 \\times 4}\n",
    "$$\n"
   ]
  },
  {
   "cell_type": "code",
   "execution_count": 38,
   "id": "ba33cbfe-2a0a-44ff-942c-763683231a66",
   "metadata": {},
   "outputs": [],
   "source": [
    "obs_ndims = 2\n",
    "\n",
    "C = np.array([\n",
    "    [1, 0, 0, 0], \n",
    "    [0, 1, 0, 0]\n",
    "])\n",
    "Q = 0.01 * np.eye(obs_ndims)\n",
    "\n",
    "assert C.shape == (obs_ndims, state_ndims)\n",
    "assert Q.shape == (obs_ndims, obs_ndims)"
   ]
  },
  {
   "cell_type": "code",
   "execution_count": null,
   "id": "5f7ed1bf-6aa1-499d-9c9b-508533bf711c",
   "metadata": {},
   "outputs": [],
   "source": []
  },
  {
   "cell_type": "markdown",
   "id": "e288a2b1-4523-43b0-b2c6-574f6964daae",
   "metadata": {},
   "source": [
    "---\n",
    "\n",
    "**Prior**\n",
    "\n",
    "Typically we specify a wide prior (maximum entropy) if we have no strong assumptions. Many times this is often the least important aspect as this tends to get \"washed away\" as we acquire more observations. However, this can be very important in cases where we don't have many observations and can greatly speed up training and convergence.\n",
    "\n",
    "As with most things, we typically assume a Gaussian:\n",
    "\n",
    "$$\n",
    "p(\\mathbf{z}_0) = \\mathcal{N}(\\mathbf{z}_0| \\boldsymbol{\\mu}_0, \\boldsymbol{\\Sigma}_0)\n",
    "$$"
   ]
  },
  {
   "cell_type": "code",
   "execution_count": null,
   "id": "a06a67da-b76a-461f-9747-c8aa64374d4b",
   "metadata": {},
   "outputs": [],
   "source": []
  },
  {
   "cell_type": "markdown",
   "id": "77ff0c4a-6e3f-441b-84c4-b8ed59edc51a",
   "metadata": {},
   "source": [
    "## Marginal Likelihood"
   ]
  },
  {
   "cell_type": "markdown",
   "id": "e4a8c30f-3691-4f99-97d0-d9de8059fc64",
   "metadata": {},
   "source": [
    "We can compute the log-likelihood of the sequence, i.e. the likelihood that the parameters given fit the data seen/trained-on. This allows us to actually train the Kalman Filter given the data. The equation is given by:\n",
    "\n",
    "$$\n",
    "p(\\mathbf{x}_t) = \\sum_t \\log p(\\mathbf{x}_t|\\mathbf{x}_{1:t-1})\n",
    "$$\n",
    "\n",
    "We can write this probability distribution exactly because we know it is Gaussian distributed\n",
    "\n",
    "$$\n",
    "p(\\mathbf{x}_t|\\mathbf{x}_{1:t-1})= \\mathcal{N}(\\mathbf{C}_t \\boldsymbol{\\mu}_{t|t-1}, \\mathbf{S}_t)\n",
    "$$\n",
    "\n",
    "where:\n",
    "*  ${\\boldsymbol \\mu}_{t:t-1}$ - is the mean\n",
    "* \n"
   ]
  },
  {
   "cell_type": "code",
   "execution_count": null,
   "id": "b1c75f0b-1da2-4d55-8f67-4d0e85abbed3",
   "metadata": {},
   "outputs": [],
   "source": []
  },
  {
   "cell_type": "markdown",
   "id": "b71cac41-e8e1-4ea2-bd45-426a547a5768",
   "metadata": {},
   "source": [
    "## Posterior Predictive\n",
    "\n",
    "This is a one-step-ahead predictive density for the observations. It predicts the next time step using all of the previous observations. It is given by these equations:\n",
    "\n",
    "$$\n",
    "p(\\mathbf{x}_t|\\mathbf{x}_{1:t-1}) = \\int \\mathcal{N}(\\mathbf{x}_t|\\mathbf{Cz}_t, \\mathbf{R})\\mathcal{N}(\\mathbf{z}_t|\\boldsymbol{\\mu}_{t|t-1},\\boldsymbol{\\Sigma}_{t|t-1})d\\mathbf{z}_t\n",
    "$$"
   ]
  },
  {
   "cell_type": "code",
   "execution_count": 21,
   "id": "899684d6-a577-4189-9813-a955959e2208",
   "metadata": {},
   "outputs": [],
   "source": [
    "def forecast():\n",
    "    return None"
   ]
  },
  {
   "cell_type": "markdown",
   "id": "0dc59ae4-f73a-4938-afb5-0ede718d3d41",
   "metadata": {},
   "source": [
    "## Smoothing Algorithm"
   ]
  },
  {
   "cell_type": "markdown",
   "id": "8a4a8f9e-e619-4307-b2a2-2672c6a221e3",
   "metadata": {},
   "source": [
    "This is a message passing algorithm that propagates from right to left after everything has been observed.\n",
    "\n",
    "$$\n",
    "\\begin{aligned}\n",
    "p(\\mathbf{z}_t|\\mathbf{x}_{1:T}) &= \\mathcal{N}(\\mathbf{z}_t|\\boldsymbol{\\mu}_{t:T},\\boldsymbol{\\Sigma}_{t:T})\n",
    "\\end{aligned}\n",
    "$$\n",
    "\n",
    "This is given by these equations:\n",
    "\n",
    "$$\n",
    "\\begin{aligned}\n",
    "\\boldsymbol{\\mu}_{t|T} &= \\boldsymbol{\\mu}_{t|t} + \\mathbf{J}_t \\left(\\boldsymbol{\\mu}_{t+1|T} - \\boldsymbol{\\mu}_{t+1|t} \\right) \\\\\n",
    "\\boldsymbol{\\Sigma}_{t|T} &= \\boldsymbol{\\Sigma}_{t|t} + \\mathbf{J}_t \\left(\\boldsymbol{\\mu}_{t+1|T} - \\boldsymbol{\\mu}_{t+1|t} \\right) \\mathbf{J}_t^\\top \\\\\n",
    "\\mathbf{J}_t &= \\boldsymbol{\\Sigma}_{t|t} \\mathbf{A}_{t+1}^\\top \\boldsymbol{\\Sigma}_{t+1|t}^{-1}\n",
    "\\end{aligned}\n",
    "$$\n"
   ]
  },
  {
   "cell_type": "code",
   "execution_count": 22,
   "id": "c7dddb0e-80d5-47e3-a3ee-7ddf76723d42",
   "metadata": {},
   "outputs": [],
   "source": [
    "def smoother_step(state, dist):\n",
    "    \n",
    "    mean = state.mean\n",
    "    cov = state.cov\n",
    "    \n",
    "    J = cov @ A.T @ np.linalg.inv(cov)\n",
    "    return None"
   ]
  },
  {
   "cell_type": "markdown",
   "id": "322c53b0-9cb8-4f92-b1f8-32ed4b0281d9",
   "metadata": {},
   "source": [
    "## Application III - Predator-Prey Model"
   ]
  },
  {
   "cell_type": "code",
   "execution_count": null,
   "id": "d3a1f3f2-2303-4095-a2d6-a0153d60e9e6",
   "metadata": {},
   "outputs": [],
   "source": []
  }
 ],
 "metadata": {
  "kernelspec": {
   "display_name": "Python [conda env:.conda-sci_py38]",
   "language": "python",
   "name": "conda-env-.conda-sci_py38-py"
  },
  "language_info": {
   "codemirror_mode": {
    "name": "ipython",
    "version": 3
   },
   "file_extension": ".py",
   "mimetype": "text/x-python",
   "name": "python",
   "nbconvert_exporter": "python",
   "pygments_lexer": "ipython3",
   "version": "3.9.7"
  }
 },
 "nbformat": 4,
 "nbformat_minor": 5
}
