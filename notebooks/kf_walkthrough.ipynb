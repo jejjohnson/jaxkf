{
 "cells": [
  {
   "cell_type": "markdown",
   "id": "31838ab4-02d1-4272-9a20-543407d0fcd4",
   "metadata": {},
   "source": [
    "# Kalman Filter Walkthrough"
   ]
  },
  {
   "cell_type": "markdown",
   "id": "3b2bb552-e565-4601-91bc-c74b76d66c71",
   "metadata": {},
   "source": [
    "This notebook will walk through the Kalman Filter (KF) algorithm. It is a simple state-space model which makes some Gaussian assumptions about the transition dynamics and the emission dynamics. This results in a very simple model to use because all of the important quantities of interest (e.g. filtering, smoothing, and forecasting) are available in closed-form.\n",
    "\n",
    "**Resources**:\n",
    "\n",
    "* "
   ]
  },
  {
   "cell_type": "markdown",
   "id": "c73f2777-f998-42bf-be4f-9b21618de76e",
   "metadata": {},
   "source": [
    "## Model"
   ]
  },
  {
   "cell_type": "markdown",
   "id": "402d3a5f-13bb-4940-a48a-060c73f4e32f",
   "metadata": {},
   "source": [
    "**Transition Model**\n",
    "\n",
    "This model describes the transition dynamics between the different states at time $t$ and $t+1$.\n",
    "\n",
    "$$\n",
    "\\mathbf{z}_{t} = \\mathbf{A}_t \\mathbf{z}_{t-1} + \\mathbf{Q}_t\n",
    "$$\n",
    "\n",
    "Notice how it assumes a linear transition with an additive Gaussin noise assumption, $\\boldsymbol{\\epsilon}_{\\mathbf{z}_t} \\sim \\mathcal{N}(\\mathbf{0},\\mathbf{Q}_t)$. We can also rewrite this as a conditional distribution.\n",
    "\n",
    "$$\n",
    "p(\\mathbf{z}_{t}|\\mathbf{z}_{t-1}) = \\mathcal{N}(\\mathbf{z}_t|\\mathbf{A}_t\\mathbf{z}_{t-1}, \\mathbf{Q}_t)\n",
    "$$"
   ]
  },
  {
   "cell_type": "markdown",
   "id": "cfccb263-4791-4464-9f87-c698a6ab15ff",
   "metadata": {},
   "source": [
    "---\n",
    "**Observation Model**\n",
    "\n",
    "$$\n",
    "\\mathbf{x}_t = \\mathbf{C}_t\\mathbf{z}_t + \\mathbf{R}_t\n",
    "$$\n",
    "\n",
    "where can also rewrite this as a distribution:\n",
    "\n",
    "$$\n",
    "p(\\mathbf{x}_t|\\mathbf{z}_t) = \\mathcal{N}(\\mathbf{x}_t|\\mathbf{C}_t\\mathbf{z}_t, \\mathbf{R}_t)\n",
    "$$\n"
   ]
  },
  {
   "cell_type": "markdown",
   "id": "2e9c3e98-7d69-48ff-a99a-ec02ae5738a5",
   "metadata": {},
   "source": [
    "---\n",
    "**Free Parameters**\n",
    "\n",
    "In this case, we have the following free parameters, $\\boldsymbol{\\theta}_t$, in this model:\n",
    "\n",
    "$$\n",
    "\\boldsymbol{\\theta}_t = \\left\\{\\mathbf{A}_t, \\mathbf{Q}_t, \\mathbf{C}_t, \\mathbf{R}_t \\right\\}\n",
    "$$\n",
    "\n",
    "**Note**: we can assume the parameters are independent of time, $t$, which would provide us with a simpler model. This is called a *stationary* assumption which may be cheaper, but also invalid in some cases."
   ]
  },
  {
   "cell_type": "code",
   "execution_count": 1,
   "id": "8e741880-6420-4cfd-8edd-c2b6e28973cd",
   "metadata": {},
   "outputs": [],
   "source": [
    "import numpy as np\n",
    "from typing import NamedTuple\n",
    "from dataclasses import dataclass"
   ]
  },
  {
   "cell_type": "markdown",
   "id": "012abf85-73c8-4b5b-8f25-54d6564974d0",
   "metadata": {},
   "source": [
    "### Distribution"
   ]
  },
  {
   "cell_type": "markdown",
   "id": "d44a9260-c5cd-4a88-824a-682534bfffff",
   "metadata": {},
   "source": [
    "Kalman Filter Portions:\n",
    "\n",
    "* $A_t \\in \\mathbb{R}^{N_\\mathbf{z} \\times N_\\mathbf{z}}$\n",
    "* $R_t$ = `N_z x N_z` \n",
    "* $C_t$ = `N_x x N_z`\n",
    "* $Q_t$ = `N_x x N_x`"
   ]
  },
  {
   "cell_type": "code",
   "execution_count": 2,
   "id": "651dcf47-805c-4a62-a221-84dcaaa4793b",
   "metadata": {},
   "outputs": [],
   "source": [
    "@dataclass\n",
    "class KFDistribution:\n",
    "    transition_matrix : np.ndarray\n",
    "    transition_noise : np.ndarray\n",
    "    measurement_matrix : np.ndarray\n",
    "    measurement_noise : np.ndarray\n",
    "    \n",
    "    def predictive_mean(self, x: np.ndarray) -> np.ndarray:\n",
    "        return predictive_mean(x, self.measurement_matrix)\n",
    "    \n",
    "    def predictive_cov(self, cov: np.ndarray) -> np.ndarray:\n",
    "        return predictive_cov(cov, self.transition_matrix, self.transition_noise)"
   ]
  },
  {
   "cell_type": "markdown",
   "id": "057600ac-a9f4-477f-bd4f-07a3392f29b0",
   "metadata": {},
   "source": [
    "### State"
   ]
  },
  {
   "cell_type": "code",
   "execution_count": 3,
   "id": "ffb9c3ae-a56b-4ebd-bbc7-a97d69aba776",
   "metadata": {},
   "outputs": [],
   "source": [
    "class State(NamedTuple):\n",
    "    mean : np.ndarray\n",
    "    cov : np.ndarray\n",
    "    "
   ]
  },
  {
   "cell_type": "markdown",
   "id": "7aa92f35-0fd6-4f5a-9b9b-9cecc8eb7dac",
   "metadata": {},
   "source": [
    "### Transition Model"
   ]
  },
  {
   "cell_type": "code",
   "execution_count": null,
   "id": "0fc04d62-f447-4235-8b3b-317d826607f5",
   "metadata": {},
   "outputs": [],
   "source": []
  },
  {
   "cell_type": "markdown",
   "id": "d45209c0-3516-4d1b-bc71-bc4918598d99",
   "metadata": {},
   "source": [
    "### Observation Model"
   ]
  },
  {
   "cell_type": "code",
   "execution_count": null,
   "id": "1862350e-bebe-4948-8e7e-acb61fd0b141",
   "metadata": {},
   "outputs": [],
   "source": []
  },
  {
   "cell_type": "markdown",
   "id": "36f715e0-bb05-40e7-863d-8a4d5320b5d4",
   "metadata": {},
   "source": [
    "### Predict Step"
   ]
  },
  {
   "cell_type": "markdown",
   "id": "4edbe924-8cbc-4120-bd2d-995646b2cc2c",
   "metadata": {},
   "source": [
    "$$\n",
    "\\begin{aligned}\n",
    "\\boldsymbol{\\mu}_t &= \\mathbf{A}_{t-1}\\boldsymbol{\\mu}_{t-1} \\\\\n",
    "\\boldsymbol{\\Sigma}_t &= \\mathbf{A}_{t-1}\\boldsymbol{\\Sigma}_{t-1}\\mathbf{A}_t^\\top + \\mathbf{Q}_t\n",
    "\\end{aligned}\n",
    "$$\n",
    "\n",
    "where:\n",
    "* `KalmanDist` $= \\mathcal{N}(\\boldsymbol{\\mu}_t, \\boldsymbol{\\Sigma}_t)$."
   ]
  },
  {
   "cell_type": "code",
   "execution_count": 4,
   "id": "7bab3966-3e32-41aa-944a-2288ffbeb82d",
   "metadata": {},
   "outputs": [],
   "source": [
    "def predict_step(state: State, dist: KFDistribution) -> State:\n",
    "    \"\"\"Prediction step in Kalman filter eqns\"\"\"\n",
    "    # predictive mean, µ = F µ\n",
    "    mean = dist.predictive_mean(state.mean)\n",
    "    \n",
    "    # predictive covariance, Σ = F Σ F' + Q\n",
    "    cov = dist.predictive_cov(state.cov)\n",
    "    \n",
    "    return mean, cov\n",
    "\n",
    "def predictive_mean(mean: np.ndarray, transition: np.ndarray) -> np.ndarray:\n",
    "    \"\"\"predictive mean in update step\n",
    "    \n",
    "    µ = F µ\n",
    "    \"\"\"\n",
    "    return transition @ mean\n",
    "\n",
    "def predictive_cov(cov: np.ndarray, transition: np.ndarray, noise: np.ndarray) -> np.ndarray:\n",
    "    \"\"\"predictive covariance in update step\n",
    "    \n",
    "    Σ = F Σ F' + Q\n",
    "    \"\"\"\n",
    "    return transition @ cov @ transition.T + noise"
   ]
  },
  {
   "cell_type": "markdown",
   "id": "1a05e116-2124-4e48-873f-332250e3fa3c",
   "metadata": {},
   "source": [
    "### Update Step"
   ]
  },
  {
   "cell_type": "markdown",
   "id": "aa95b632-65de-449d-a760-c6c2d20ef303",
   "metadata": {},
   "source": [
    "This is the measurement step which we can compute using Bayes rule like so.\n",
    "\n",
    "$$\n",
    "p(\\mathbf{z}_t|\\mathbf{x}_t,\\mathbf{x}_{1:t-1}) \\propto p(\\mathbf{x}_t|\\mathbf{z}_t)p(\\mathbf{z}_t|\\mathbf{z}_{1:t-1})\n",
    "$$\n",
    "\n",
    "This quantity is given by:\n",
    "\n",
    "$$\n",
    "\\begin{aligned}\n",
    "p(\\mathbf{z}_t|\\mathbf{x}_{1:t}) &= \\mathcal{N}(\\mathbf{z}_t|\\boldsymbol{\\mu}_t, \\boldsymbol{\\Sigma}_t)\n",
    "\\end{aligned}\n",
    "$$\n",
    "\n",
    "This is the dist. for the update step and it is given by these equations:\n",
    "\n",
    "$$\n",
    "\\begin{aligned}\n",
    "\\boldsymbol{\\mu}_t &= \\boldsymbol{\\mu}_{t|t-1} + \\mathbf{K}_t\\mathbf{r}_t \\\\\n",
    "\\boldsymbol{\\Sigma}_t &= \\left( \\mathbf{I} - \\mathbf{K}_t\\mathbf{C}_t \\right)\\boldsymbol{\\Sigma}_{t|t-1}\n",
    "\\end{aligned}\n",
    "$$\n",
    "\n",
    "where:\n",
    "* $K_t$ - Kalman Gain Matrix\n",
    "* $r_t$ - innovation/residual"
   ]
  },
  {
   "cell_type": "markdown",
   "id": "3b6dc654-b357-492b-9222-338ce96713f2",
   "metadata": {},
   "source": [
    "---\n",
    "**Residual**\n",
    "\n",
    "This quantity is the difference between our predicted observations and the actual observations. This is given by:\n",
    "\n",
    "$$\n",
    "\\begin{aligned}\n",
    "\\mathbf{r}_t &= \\mathbf{x}_t - \\hat{\\mathbf x}_t \\\\\n",
    "\\hat{\\mathbf x}_t &= \\mathbf{C}_t {\\boldsymbol \\mu}_{t|t-1}\n",
    "\\end{aligned}\n",
    "$$\n",
    "\n",
    "where:\n",
    "\n",
    "* $C_t$ - measurement matrix\n",
    "* ${\\boldsymbol \\mu}_{t|t-1}$ - mean from the predict step"
   ]
  },
  {
   "cell_type": "code",
   "execution_count": 7,
   "id": "27f2ce8d-8222-4d48-8051-b8a6ce014979",
   "metadata": {},
   "outputs": [],
   "source": [
    "\n",
    "def residual(obs: np.ndarray, state: State, dist: KFDistribution) -> np.ndarray:\n",
    "    \n",
    "    # unroll variables\n",
    "    µ = state.mean\n",
    "    A = dist.transition_matrix\n",
    "    C = dist.measurement_matrix\n",
    "    \n",
    "    # predictive mean\n",
    "    µ_pred = dist.predictive_mean(state.mean)\n",
    "    \n",
    "    # difference\n",
    "    obs_pred = C @ µ_pred\n",
    "    \n",
    "    # residual\n",
    "    res = obs - obs_pred\n",
    "    \n",
    "    return res"
   ]
  },
  {
   "cell_type": "markdown",
   "id": "d2fdb07c-6b16-4823-80be-144f98f2eabc",
   "metadata": {},
   "source": [
    "---\n",
    "**Kalman Gain Matrix**\n",
    "\n",
    "$$\n",
    "\\begin{aligned}\n",
    "\\mathbf{K}_t &= \\boldsymbol{\\Sigma}_{t|t-1}C_t^\\top \\mathbf{S}_t^{-1} \\\\\n",
    "&= \\mathbf{C}_t \\boldsymbol{\\Sigma}_{t|t-1}\\mathbf{C}_t^\\top + \\mathbf{R}_t\n",
    "\\end{aligned}\n",
    "$$\n",
    "\n",
    "where can also use the matrix inversion lemma and rewrite the Kalman gain matrix.\n",
    "\n",
    "$$\n",
    "\\begin{aligned}\n",
    "\\mathbf{K}_t &= \\boldsymbol{\\Sigma}_{t|t-1} \\mathbf{C}^\\top \\left( \\mathbf{C}\\boldsymbol{\\Sigma}_{t|t-1} \\mathbf{C}^\\top + \\mathbf{R} \\right)^{-1} \\\\\n",
    "&= \\left( \\boldsymbol{\\Sigma}_{t|t-1}^{-1} + \\mathbf{C}^\\top \\mathbf{RC}\\right)^{-1}\\mathbf{C}^\\top \\mathbf{R}^{-1}\n",
    "\\end{aligned}\n",
    "$$\n",
    "\n",
    "We may get some computational gains this way because we could use the sparsity of the precision matrix, $\\boldsymbol \\Sigma^{-1}$, instead of the covariance matrix, $\\boldsymbol \\Sigma$. For now, we can use the standard method."
   ]
  },
  {
   "cell_type": "code",
   "execution_count": 9,
   "id": "3cb6998f-eb8a-4890-b6ee-596d3ee8dd12",
   "metadata": {},
   "outputs": [],
   "source": [
    "def kalman_gain_matrix(state: State, dist: KFDistribution)-> np.ndarray:\n",
    "    \n",
    "    # unroll variables\n",
    "    A = dist.transition_matrix\n",
    "    Q = dist.transition_noise\n",
    "    C = dist.measurement_matrix\n",
    "    R = dist.measurement_noise\n",
    "    𝚺 = state.cov\n",
    "    \n",
    "    # predictive covariance\n",
    "    𝚺 = dist.predictive_cov(𝚺)\n",
    "    \n",
    "    # kalman gain\n",
    "    K = 𝚺 @ C.T @ np.linalg.inv(C @ 𝚺 @ C.T + R)\n",
    "    \n",
    "    return K"
   ]
  },
  {
   "cell_type": "markdown",
   "id": "706480e0-a080-4e49-8e3a-74d81904f3c5",
   "metadata": {},
   "source": [
    "---\n",
    "**Update Step**\n",
    "\n",
    "$$\n",
    "\\begin{aligned}\n",
    "p(\\mathbf{z}_t|\\mathbf{x}_{1:t}) &= \\mathcal{N}(\\mathbf{z}_t|\\boldsymbol{\\mu}_t, \\boldsymbol{\\Sigma}_t) \\\\\n",
    "\\boldsymbol{\\mu}_t &= \\boldsymbol{\\mu}_{t|t-1} + \\mathbf{K}_t\\mathbf{r}_t \\\\\n",
    "\\boldsymbol{\\Sigma}_t &= \\left( \\mathbf{I} - \\mathbf{K}_t\\mathbf{C}_t \\right)\\boldsymbol{\\Sigma}_{t|t-1}\n",
    "\\end{aligned}\n",
    "$$\n",
    "\n",
    "where:\n",
    "* $K_t$ - *Kalman Gain Matrix*\n",
    "* $r_t$ - *innovation/residual*"
   ]
  },
  {
   "cell_type": "code",
   "execution_count": 12,
   "id": "f8367cd9-d473-42b0-bbfb-edcad9590914",
   "metadata": {},
   "outputs": [],
   "source": [
    "def update_step(\n",
    "    obs: np.ndarray,\n",
    "    state: State, \n",
    "    dist: KFDistribution,\n",
    ") -> State:\n",
    "    \n",
    "    # unroll variables\n",
    "    C = dist.measurement_matrix\n",
    "    I = np.eye(C.shape[0])\n",
    "    µ = state.mean\n",
    "    𝚺 = state.cov\n",
    "    \n",
    "    # predict step\n",
    "    µ = dist.predictive_mean(µ)\n",
    "    𝚺 = dist.predictive_cov(𝚺)\n",
    "    \n",
    "    # kalman gain\n",
    "    K = kalman_gain_matrix(state, dist)\n",
    "    \n",
    "    # innovation/residual\n",
    "    r = residual(obs, state, dist)\n",
    "    \n",
    "    # update step\n",
    "    µ = µ + K @ r\n",
    "    𝚺 = (I - K @ C) @ 𝚺\n",
    "    \n",
    "    return µ, 𝚺"
   ]
  },
  {
   "cell_type": "markdown",
   "id": "77ff0c4a-6e3f-441b-84c4-b8ed59edc51a",
   "metadata": {},
   "source": [
    "## Marginal Likelihood"
   ]
  },
  {
   "cell_type": "markdown",
   "id": "e4a8c30f-3691-4f99-97d0-d9de8059fc64",
   "metadata": {},
   "source": [
    "We can compute the log-likelihood of the sequence, i.e. the likelihood that the parameters given fit the data seen/trained-on. This allows us to actually train the Kalman Filter given the data. The equation is given by:\n",
    "\n",
    "$$\n",
    "p(\\mathbf{x}_t) = \\sum_t \\log p(\\mathbf{x}_t|\\mathbf{x}_{1:t-1})\n",
    "$$\n",
    "\n",
    "We can write this probability distribution exactly because we know it is Gaussian distributed\n",
    "\n",
    "$$\n",
    "p(\\mathbf{x}_t|\\mathbf{x}_{1:t-1})= \\mathcal{N}(\\mathbf{C}_t \\boldsymbol{\\mu}_{t|t-1}, \\mathbf{S}_t)\n",
    "$$\n",
    "\n",
    "where:\n",
    "*  ${\\boldsymbol \\mu}_{t:t-1}$ - is the mean\n",
    "* \n"
   ]
  },
  {
   "cell_type": "code",
   "execution_count": null,
   "id": "b1c75f0b-1da2-4d55-8f67-4d0e85abbed3",
   "metadata": {},
   "outputs": [],
   "source": []
  },
  {
   "cell_type": "markdown",
   "id": "b71cac41-e8e1-4ea2-bd45-426a547a5768",
   "metadata": {},
   "source": [
    "## Posterior Predictive\n",
    "\n",
    "This is a one-step-ahead predictive density for the observations. It predicts the next time step using all of the previous observations. It is given by these equations:\n",
    "\n",
    "$$\n",
    "p(\\mathbf{x}_t|\\mathbf{x}_{1:t-1}) = \\int \\mathcal{N}(\\mathbf{x}_t|\\mathbf{Cz}_t, \\mathbf{R})\\mathcal{N}(\\mathbf{z}_t|\\boldsymbol{\\mu}_{t|t-1},\\boldsymbol{\\Sigma}_{t|t-1})d\\mathbf{z}_t\n",
    "$$"
   ]
  },
  {
   "cell_type": "code",
   "execution_count": 13,
   "id": "899684d6-a577-4189-9813-a955959e2208",
   "metadata": {},
   "outputs": [],
   "source": [
    "def forecast():\n",
    "    return None"
   ]
  },
  {
   "cell_type": "markdown",
   "id": "0dc59ae4-f73a-4938-afb5-0ede718d3d41",
   "metadata": {},
   "source": [
    "## Smoothing Algorithm"
   ]
  },
  {
   "cell_type": "markdown",
   "id": "8a4a8f9e-e619-4307-b2a2-2672c6a221e3",
   "metadata": {},
   "source": [
    "This is a message passing algorithm that propagates from right to left after everything has been observed.\n",
    "\n",
    "$$\n",
    "\\begin{aligned}\n",
    "p(\\mathbf{z}_t|\\mathbf{x}_{1:T}) &= \\mathcal{N}(\\mathbf{z}_t|\\boldsymbol{\\mu}_{t:T},\\boldsymbol{\\Sigma}_{t:T})\n",
    "\\end{aligned}\n",
    "$$\n",
    "\n",
    "This is given by these equations:\n",
    "\n",
    "$$\n",
    "\\begin{aligned}\n",
    "\\boldsymbol{\\mu}_{t|T} &= \\boldsymbol{\\mu}_{t|t} + \\mathbf{J}_t \\left(\\boldsymbol{\\mu}_{t+1|T} - \\boldsymbol{\\mu}_{t+1|t} \\right) \\\\\n",
    "\\boldsymbol{\\Sigma}_{t|T} &= \\boldsymbol{\\Sigma}_{t|t} + \\mathbf{J}_t \\left(\\boldsymbol{\\mu}_{t+1|T} - \\boldsymbol{\\mu}_{t+1|t} \\right) \\mathbf{J}_t^\\top \\\\\n",
    "\\mathbf{J}_t &= \\boldsymbol{\\Sigma}_{t|t} \\mathbf{A}_{t+1}^\\top \\boldsymbol{\\Sigma}_{t+1|t}^{-1}\n",
    "\\end{aligned}\n",
    "$$\n"
   ]
  },
  {
   "cell_type": "code",
   "execution_count": 14,
   "id": "c7dddb0e-80d5-47e3-a3ee-7ddf76723d42",
   "metadata": {},
   "outputs": [],
   "source": [
    "def rts_smoother(state, dist):\n",
    "    return None"
   ]
  },
  {
   "cell_type": "markdown",
   "id": "24bd1bb8-134e-44e5-ae79-ba3db9d3312f",
   "metadata": {},
   "source": [
    "## Model Class"
   ]
  },
  {
   "cell_type": "code",
   "execution_count": null,
   "id": "96cec7b4-caab-43c7-8075-f49fc807bec7",
   "metadata": {},
   "outputs": [],
   "source": [
    "def LGSSM:\n",
    "    def __init__(self):\n",
    "        pass\n",
    "    \n",
    "    def log_prob(self, x: np.ndarray) -> np.ndarray:\n",
    "        pass\n",
    "    \n",
    "    def sample(self):\n",
    "        pass\n",
    "    \n",
    "    def filter(self):\n",
    "        pass\n",
    "    \n",
    "    def update(self):\n",
    "        pass\n",
    "    \n",
    "    def predict(self):\n",
    "        pass\n",
    "    \n",
    "    def smooth(self):\n",
    "        pass\n",
    "    "
   ]
  },
  {
   "cell_type": "markdown",
   "id": "59b8a35f-c404-45eb-8947-0840cb94f590",
   "metadata": {},
   "source": [
    "## Application I - Object Tracking"
   ]
  },
  {
   "cell_type": "markdown",
   "id": "c1e5a78d-349a-42eb-88f1-547c0658b9c6",
   "metadata": {},
   "source": [
    "\n",
    "$$\n",
    "\\mathbf{z}_t = \\mathbf{A}_t \\mathbf{z}_{t-1} + \\boldsymbol{\\epsilon}_t\n",
    "$$\n",
    "\n",
    "We can explicitly define the system dynamics as so:\n",
    "\n",
    "$$\n",
    "\\begin{bmatrix}\n",
    "z^1_t \\\\ z^2_t \\\\ z^3_t \\\\ z^4_t\n",
    "\\end{bmatrix}\n",
    "$$"
   ]
  },
  {
   "cell_type": "markdown",
   "id": "74d9e3b3-1e4b-47a3-a883-42ffca281172",
   "metadata": {},
   "source": [
    "## Application II - Predator Prey Model"
   ]
  },
  {
   "cell_type": "markdown",
   "id": "90da0659-5bf6-47f7-afcb-8a75a84cb694",
   "metadata": {},
   "source": [
    "In this example, we are going to assume that we have a 3d vector, $\\mathbf{x} = \\{x^0, x^1, x^2\\}$, which describes the dynamics. The dynamics between every time step is given by:\n",
    "\n",
    "$$\n",
    "\\begin{aligned}\n",
    "\\frac{dx^0}{dt} &= -0.1x^0 + 0.2x^1 \\\\\n",
    "\\frac{dx^1}{dt} &= -0.2x^0 + x^2 \\\\\n",
    "\\frac{dx^2}{dt} &= 0\n",
    "\\end{aligned}\n",
    "$$"
   ]
  },
  {
   "cell_type": "markdown",
   "id": "9839cea9-1a8f-464e-8652-61e4648f08e0",
   "metadata": {},
   "source": [
    "---\n",
    "We can rewrite this as a discretized version like so:\n",
    "\n",
    "$$\n",
    "\\mathbf{x}_{t+1} = \\mathbf{F} \\mathbf{x}_t\n",
    "$$\n",
    "\n",
    "where: $\\mathbf{F}=\\begin{bmatrix} -0.1 & 0.2 & 0 \\\\ -0.2 & 0 & 1 \\\\ 0 & 0 & 0 \\end{bmatrix}$.\n"
   ]
  },
  {
   "cell_type": "code",
   "execution_count": null,
   "id": "aa959f23-a60e-4e23-94ac-e62e146b516d",
   "metadata": {},
   "outputs": [],
   "source": []
  }
 ],
 "metadata": {
  "kernelspec": {
   "display_name": "Python [conda env:jax_cpu_py39]",
   "language": "python",
   "name": "conda-env-jax_cpu_py39-py"
  },
  "language_info": {
   "codemirror_mode": {
    "name": "ipython",
    "version": 3
   },
   "file_extension": ".py",
   "mimetype": "text/x-python",
   "name": "python",
   "nbconvert_exporter": "python",
   "pygments_lexer": "ipython3",
   "version": "3.9.7"
  }
 },
 "nbformat": 4,
 "nbformat_minor": 5
}
