{
 "cells": [
  {
   "cell_type": "markdown",
   "id": "31838ab4-02d1-4272-9a20-543407d0fcd4",
   "metadata": {},
   "source": [
    "# Kalman Filter Walkthrough"
   ]
  },
  {
   "cell_type": "markdown",
   "id": "c73f2777-f998-42bf-be4f-9b21618de76e",
   "metadata": {},
   "source": [
    "## Model"
   ]
  },
  {
   "cell_type": "markdown",
   "id": "402d3a5f-13bb-4940-a48a-060c73f4e32f",
   "metadata": {},
   "source": [
    "**Transition Model**\n",
    "\n",
    "$$\n",
    "\\mathbf{z}_{t} = \\mathbf{A}_t \\mathbf{z}_{t-1} + \\mathbf{Q}\n",
    "$$\n",
    "\n",
    "we can also rewrite this as a distribution:\n",
    "\n",
    "$$\n",
    "p(\\mathbf{z}_{t}|\\mathbf{z}_{t-1}) = \\mathcal{N}(\\mathbf{z}_t|\\mathbf{A}_t\\mathbf{z}_{t-1}, \\mathbf{Q}_t)\n",
    "$$"
   ]
  },
  {
   "cell_type": "markdown",
   "id": "cfccb263-4791-4464-9f87-c698a6ab15ff",
   "metadata": {},
   "source": [
    "---\n",
    "**Observation Model**\n",
    "\n",
    "$$\n",
    "\\mathbf{x}_t = \\mathbf{C}_t\\mathbf{z}_t + \\mathbf{R}_t\n",
    "$$\n",
    "\n",
    "where can also rewrite this as a distribution:\n",
    "\n",
    "$$\n",
    "p(\\mathbf{x}_t|\\mathbf{z}_t) = \\mathcal{N}(\\mathbf{x}_t|\\mathbf{C}_t\\mathbf{z}_t, \\mathbf{R}_t)\n",
    "$$\n"
   ]
  },
  {
   "cell_type": "code",
   "execution_count": 5,
   "id": "8e741880-6420-4cfd-8edd-c2b6e28973cd",
   "metadata": {},
   "outputs": [],
   "source": [
    "import numpy as np\n",
    "from typing import NamedTuple\n",
    "from dataclasses import dataclass"
   ]
  },
  {
   "cell_type": "markdown",
   "id": "012abf85-73c8-4b5b-8f25-54d6564974d0",
   "metadata": {},
   "source": [
    "### Distribution"
   ]
  },
  {
   "cell_type": "markdown",
   "id": "d44a9260-c5cd-4a88-824a-682534bfffff",
   "metadata": {},
   "source": [
    "Kalman Filter Portions:\n",
    "\n",
    "* $A_t \\in \\mathbb{R}^{N_\\mathbf{z} \\times N_\\mathbf{z}}$\n",
    "* $R_t$ = `N_z x N_z` \n",
    "* $C_t$ = `N_x x N_z`\n",
    "* $Q_t$ = `N_x x N_x`"
   ]
  },
  {
   "cell_type": "code",
   "execution_count": 26,
   "id": "651dcf47-805c-4a62-a221-84dcaaa4793b",
   "metadata": {},
   "outputs": [],
   "source": [
    "@dataclass\n",
    "class KalmanDist:\n",
    "    transition_matrix : np.ndarray\n",
    "    transition_noise : np.ndarray\n",
    "    measurement_matrix : np.ndarray\n",
    "    measurement_noise : np.ndarray\n",
    "    \n",
    "    def predictive_mean(self, x: np.ndarray) -> np.ndarray:\n",
    "        return predictive_mean(x, self.measurement_matrix)\n",
    "    \n",
    "    def predictive_cov(self, cov: np.ndarray) -> np.ndarray:\n",
    "        return predictive_cov(cov, self.transition_matrix, self.transition_noise)"
   ]
  },
  {
   "cell_type": "markdown",
   "id": "057600ac-a9f4-477f-bd4f-07a3392f29b0",
   "metadata": {},
   "source": [
    "### State"
   ]
  },
  {
   "cell_type": "code",
   "execution_count": 11,
   "id": "ffb9c3ae-a56b-4ebd-bbc7-a97d69aba776",
   "metadata": {},
   "outputs": [],
   "source": [
    "class State(NamedTuple):\n",
    "    mean : np.ndarray\n",
    "    cov : np.ndarray\n",
    "    "
   ]
  },
  {
   "cell_type": "markdown",
   "id": "7aa92f35-0fd6-4f5a-9b9b-9cecc8eb7dac",
   "metadata": {},
   "source": [
    "### Transition Model"
   ]
  },
  {
   "cell_type": "code",
   "execution_count": null,
   "id": "0fc04d62-f447-4235-8b3b-317d826607f5",
   "metadata": {},
   "outputs": [],
   "source": []
  },
  {
   "cell_type": "markdown",
   "id": "d45209c0-3516-4d1b-bc71-bc4918598d99",
   "metadata": {},
   "source": [
    "### Observation Model"
   ]
  },
  {
   "cell_type": "code",
   "execution_count": null,
   "id": "1862350e-bebe-4948-8e7e-acb61fd0b141",
   "metadata": {},
   "outputs": [],
   "source": []
  },
  {
   "cell_type": "markdown",
   "id": "36f715e0-bb05-40e7-863d-8a4d5320b5d4",
   "metadata": {},
   "source": [
    "### Predict Step"
   ]
  },
  {
   "cell_type": "markdown",
   "id": "4edbe924-8cbc-4120-bd2d-995646b2cc2c",
   "metadata": {},
   "source": [
    "$$\n",
    "\\begin{aligned}\n",
    "\\boldsymbol{\\mu}_t &= \\mathbf{A}_{t-1}\\boldsymbol{\\mu}_{t-1} \\\\\n",
    "\\boldsymbol{\\Sigma}_t &= \\mathbf{A}_{t-1}\\boldsymbol{\\Sigma}_{t-1}\\mathbf{A}_t^\\top + \\mathbf{Q}_t\n",
    "\\end{aligned}\n",
    "$$\n",
    "\n",
    "where:\n",
    "* `KalmanDist` $= \\mathcal{N}(\\boldsymbol{\\mu}_t, \\boldsymbol{\\Sigma}_t)$."
   ]
  },
  {
   "cell_type": "code",
   "execution_count": 36,
   "id": "7bab3966-3e32-41aa-944a-2288ffbeb82d",
   "metadata": {},
   "outputs": [],
   "source": [
    "def predict_step(state: State, dist: KalmanDist) -> State:\n",
    "    \"\"\"Prediction step in Kalman filter eqns\"\"\"\n",
    "    # predictive mean\n",
    "    mean = dist.predictive_mean(state.mean)\n",
    "    \n",
    "    # predictive covariance\n",
    "    cov = dist.predictive_cov(state.cov)\n",
    "    \n",
    "    return mean, cov\n",
    "\n",
    "def predictive_mean(mean: np.ndarray, transition: np.ndarray) -> np.ndarray:\n",
    "    \"\"\"predictive mean in update step\"\"\"\n",
    "    return transition @ mean\n",
    "\n",
    "def predictive_cov(cov: np.ndarray, transition: np.ndarray, noise: np.ndarray) -> np.ndarray:\n",
    "    \"\"\"predictive covariance in update step\"\"\"\n",
    "    return transition @ cov @ transition.T + noise"
   ]
  },
  {
   "cell_type": "markdown",
   "id": "1a05e116-2124-4e48-873f-332250e3fa3c",
   "metadata": {},
   "source": [
    "### Update Step"
   ]
  },
  {
   "cell_type": "markdown",
   "id": "aa95b632-65de-449d-a760-c6c2d20ef303",
   "metadata": {},
   "source": [
    "This is the measurement step which we can compute using Bayes rule like so.\n",
    "\n",
    "$$\n",
    "p(\\mathbf{z}_t|\\mathbf{x}_t,\\mathbf{x}_{1:t-1}) \\propto p(\\mathbf{x}_t|\\mathbf{z}_t)p(\\mathbf{z}_t|\\mathbf{z}_{1:t-1})\n",
    "$$\n",
    "\n",
    "This quantity is given by:\n",
    "\n",
    "$$\n",
    "\\begin{aligned}\n",
    "p(\\mathbf{z}_t|\\mathbf{x}_{1:t}) &= \\mathcal{N}(\\mathbf{z}_t|\\boldsymbol{\\mu}_t, \\boldsymbol{\\Sigma}_t)\n",
    "\\end{aligned}\n",
    "$$\n",
    "\n",
    "This is the dist. for the update step and it is given by these equations:\n",
    "\n",
    "$$\n",
    "\\begin{aligned}\n",
    "\\boldsymbol{\\mu}_t &= \\boldsymbol{\\mu}_{t|t-1} + \\mathbf{K}_t\\mathbf{r}_t \\\\\n",
    "\\boldsymbol{\\Sigma}_t &= \\left( \\mathbf{I} - \\mathbf{K}_t\\mathbf{C}_t \\right)\\boldsymbol{\\Sigma}_{t|t-1}\n",
    "\\end{aligned}\n",
    "$$\n",
    "\n",
    "where:\n",
    "* $K_t$ - Kalman Gain Matrix\n",
    "* $r_t$ - innovation/residual"
   ]
  },
  {
   "cell_type": "markdown",
   "id": "3b6dc654-b357-492b-9222-338ce96713f2",
   "metadata": {},
   "source": [
    "---\n",
    "**Residual**\n",
    "\n",
    "This quantity is the difference between our predicted observations and the actual observations. This is given by:\n",
    "\n",
    "$$\n",
    "\\begin{aligned}\n",
    "\\mathbf{r}_t &= \\mathbf{x}_t - \\hat{\\mathbf x}_t \\\\\n",
    "\\hat{\\mathbf x}_t &= \\mathbf{C}_t {\\boldsymbol \\mu}_{t|t-1}\n",
    "\\end{aligned}\n",
    "$$\n",
    "\n",
    "where:\n",
    "\n",
    "* $C_t$ - measurement matrix\n",
    "* ${\\boldsymbol \\mu}_{t|t-1}$ - mean from the predict step"
   ]
  },
  {
   "cell_type": "code",
   "execution_count": 35,
   "id": "27f2ce8d-8222-4d48-8051-b8a6ce014979",
   "metadata": {},
   "outputs": [],
   "source": [
    "\n",
    "def residual(obs: np.ndarray, state: State, dist: KalmanDist) -> np.ndarray:\n",
    "    \n",
    "    # unroll variables\n",
    "    µ = state.mean\n",
    "    A = dist.transition_matrix\n",
    "    C = dist.measurement_matrix\n",
    "    \n",
    "    # predictive mean\n",
    "    µ_pred = dist.predictive_mean(state.mean)\n",
    "    \n",
    "    # difference\n",
    "    obs_pred = C @ µ_pred\n",
    "    \n",
    "    # residual\n",
    "    res = obs - obs_pred\n",
    "    \n",
    "    return res"
   ]
  },
  {
   "cell_type": "markdown",
   "id": "d2fdb07c-6b16-4823-80be-144f98f2eabc",
   "metadata": {},
   "source": [
    "---\n",
    "**Kalman Gain Matrix**\n",
    "\n",
    "$$\n",
    "\\begin{aligned}\n",
    "\\mathbf{K}_t &= \\boldsymbol{\\Sigma}_{t|t-1}C_t^\\top \\mathbf{S}_t^{-1} \\\\\n",
    "&= \\mathbf{C}_t \\boldsymbol{\\Sigma}_{t|t-1}\\mathbf{C}_t^\\top + \\mathbf{R}_t\n",
    "\\end{aligned}\n",
    "$$\n",
    "\n",
    "where can also use the matrix inversion lemma and rewrite the Kalman gain matrix.\n",
    "\n",
    "$$\n",
    "\\begin{aligned}\n",
    "\\mathbf{K}_t &= \\boldsymbol{\\Sigma}_{t|t-1} \\mathbf{C}^\\top \\left( \\mathbf{C}\\boldsymbol{\\Sigma}_{t|t-1} \\mathbf{C}^\\top + \\mathbf{R} \\right)^{-1} \\\\\n",
    "&= \\left( \\boldsymbol{\\Sigma}_{t|t-1}^{-1} + \\mathbf{C}^\\top \\mathbf{RC}\\right)^{-1}\\mathbf{C}^\\top \\mathbf{R}^{-1}\n",
    "\\end{aligned}\n",
    "$$"
   ]
  },
  {
   "cell_type": "code",
   "execution_count": 33,
   "id": "3cb6998f-eb8a-4890-b6ee-596d3ee8dd12",
   "metadata": {},
   "outputs": [],
   "source": [
    "def kalman_gain_matrix(state: State, dist: KalmanDist)-> np.ndarray:\n",
    "    \n",
    "    # unroll variables\n",
    "    A = dist.transition_matrix\n",
    "    Q = dist.transition_noise\n",
    "    C = dist.measurement_matrix\n",
    "    R = dist.measurement_noise\n",
    "    𝚺 = state.cov\n",
    "    \n",
    "    # predictive covariance\n",
    "    𝚺 = dist.predictive_cov(𝚺)\n",
    "    \n",
    "    # kalman gain\n",
    "    K = 𝚺 @ C.T @ np.linalg.inv(C @ 𝚺 @ C.T + R)\n",
    "    \n",
    "    return K"
   ]
  },
  {
   "cell_type": "markdown",
   "id": "706480e0-a080-4e49-8e3a-74d81904f3c5",
   "metadata": {},
   "source": [
    "---\n",
    "**Update Step**\n",
    "\n",
    "$$\n",
    "\\begin{aligned}\n",
    "p(\\mathbf{z}_t|\\mathbf{x}_{1:t}) &= \\mathcal{N}(\\mathbf{z}_t|\\boldsymbol{\\mu}_t, \\boldsymbol{\\Sigma}_t) \\\\\n",
    "\\boldsymbol{\\mu}_t &= \\boldsymbol{\\mu}_{t|t-1} + \\mathbf{K}_t\\mathbf{r}_t \\\\\n",
    "\\boldsymbol{\\Sigma}_t &= \\left( \\mathbf{I} - \\mathbf{K}_t\\mathbf{C}_t \\right)\\boldsymbol{\\Sigma}_{t|t-1}\n",
    "\\end{aligned}\n",
    "$$\n",
    "\n",
    "where:\n",
    "* $K_t$ - *Kalman Gain Matrix*\n",
    "* $r_t$ - *innovation/residual*"
   ]
  },
  {
   "cell_type": "code",
   "execution_count": 37,
   "id": "f8367cd9-d473-42b0-bbfb-edcad9590914",
   "metadata": {},
   "outputs": [],
   "source": [
    "def update_step(\n",
    "    obs: np.ndarray,\n",
    "    state: State, \n",
    "    dist: KalmanDist,\n",
    ") -> State:\n",
    "    \n",
    "    # unroll variables\n",
    "    C = dist.measurement_matrix\n",
    "    I = np.eye(C.shape[0])\n",
    "    µ = state.mean\n",
    "    𝚺 = state.cov\n",
    "    \n",
    "    # predict step\n",
    "    µ = dist.predictive_mean(µ)\n",
    "    𝚺 = dist.predictive_cov(𝚺)\n",
    "    \n",
    "    # kalman gain\n",
    "    K = kalman_gain_matrix(state, dist)\n",
    "    \n",
    "    # innovation/residual\n",
    "    r = residual(obs, state, dist)\n",
    "    \n",
    "    # update step\n",
    "    µ = µ + K @ r\n",
    "    𝚺 = (I - K @ C) @ 𝚺\n",
    "    \n",
    "    return µ, 𝚺"
   ]
  },
  {
   "cell_type": "markdown",
   "id": "b71cac41-e8e1-4ea2-bd45-426a547a5768",
   "metadata": {},
   "source": [
    "## Posterior Predictive\n",
    "\n",
    "This is a one-step-ahead predictive density for the observations. It predicts the next time step using all of the previous observations. It is given by these equations:\n",
    "\n",
    "$$\n",
    "p(\\mathbf{x}_t|\\mathbf{x}_{1:t-1}) = \\int \\mathcal{N}(\\mathbf{x}_t|\\mathbf{Cz}_t, \\mathbf{R})\\mathcal{N}(\\mathbf{z}_t|\\boldsymbol{\\mu}_{t|t-1},\\boldsymbol{\\Sigma}_{t|t-1})d\\mathbf{z}_t\n",
    "$$"
   ]
  },
  {
   "cell_type": "code",
   "execution_count": null,
   "id": "899684d6-a577-4189-9813-a955959e2208",
   "metadata": {},
   "outputs": [],
   "source": [
    "def forecast():\n",
    "    return None"
   ]
  },
  {
   "cell_type": "markdown",
   "id": "0dc59ae4-f73a-4938-afb5-0ede718d3d41",
   "metadata": {},
   "source": [
    "## Smoothing Algorithm"
   ]
  },
  {
   "cell_type": "markdown",
   "id": "8a4a8f9e-e619-4307-b2a2-2672c6a221e3",
   "metadata": {},
   "source": [
    "This is a message passing algorithm that propagates from right to left after everything has been observed.\n",
    "\n",
    "$$\n",
    "\\begin{aligned}\n",
    "p(\\mathbf{z}_t|\\mathbf{x}_{1:T}) &= \\mathcal{N}(\\mathbf{z}_t|\\boldsymbol{\\mu}_{t:T},\\boldsymbol{\\Sigma}_{t:T})\n",
    "\\end{aligned}\n",
    "$$\n",
    "\n",
    "This is given by these equations:\n",
    "\n",
    "$$\n",
    "\\begin{aligned}\n",
    "\\boldsymbol{\\mu}_{t|T} = \\boldsymbol{\\mu}_{t|t} + \\mathbf{J}_t(\\boldsymbol{\\mu}_{t+1|T}\n",
    "\\end{aligned}\n",
    "$$\n"
   ]
  },
  {
   "cell_type": "code",
   "execution_count": null,
   "id": "c7dddb0e-80d5-47e3-a3ee-7ddf76723d42",
   "metadata": {},
   "outputs": [],
   "source": [
    "def rts_smoother(state, dist):\n",
    "    return None"
   ]
  }
 ],
 "metadata": {
  "kernelspec": {
   "display_name": "Python [conda env:miniconda3-rbig]",
   "language": "python",
   "name": "conda-env-miniconda3-rbig-py"
  },
  "language_info": {
   "codemirror_mode": {
    "name": "ipython",
    "version": 3
   },
   "file_extension": ".py",
   "mimetype": "text/x-python",
   "name": "python",
   "nbconvert_exporter": "python",
   "pygments_lexer": "ipython3",
   "version": "3.9.7"
  }
 },
 "nbformat": 4,
 "nbformat_minor": 5
}
