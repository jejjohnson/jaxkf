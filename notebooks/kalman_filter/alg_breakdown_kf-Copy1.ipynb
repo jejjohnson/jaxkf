{
 "cells": [
  {
   "cell_type": "markdown",
   "id": "995f62d3-a019-4ae8-b478-99533b2f0cbb",
   "metadata": {},
   "source": [
    "# Algorithmic Breakdown - LGSSM"
   ]
  },
  {
   "cell_type": "code",
   "execution_count": 1,
   "id": "635ea26b-8f35-45d2-b98e-e371bc575601",
   "metadata": {},
   "outputs": [],
   "source": [
    "import sys, os\n",
    "from pyprojroot import here\n",
    "\n",
    "# spyder up to find the root\n",
    "root = here(project_files=[\".here\"])\n",
    "\n",
    "# append to path\n",
    "sys.path.append(str(root))\n",
    "\n",
    "%load_ext autoreload\n",
    "%autoreload 2"
   ]
  },
  {
   "cell_type": "code",
   "execution_count": 2,
   "id": "077b75b9-e52d-4dd6-82a0-388c4a15271d",
   "metadata": {},
   "outputs": [],
   "source": [
    "import jax\n",
    "import jax.numpy as jnp\n",
    "import numpy as np\n",
    "from typing import NamedTuple\n",
    "from jax.random import multivariate_normal, split\n",
    "from tqdm.notebook import tqdm, trange\n",
    "from jax.random import multivariate_normal\n",
    "from tensorflow_probability.substrates import jax as tfp\n",
    "tfd = tfp.distributions\n",
    "import jaxkf._src.lgssm as lgssm\n",
    "\n",
    "\n",
    "import matplotlib.pyplot as plt"
   ]
  },
  {
   "cell_type": "markdown",
   "id": "a1a473ee-2d31-4d5c-adbb-41a86e49a19a",
   "metadata": {
    "tags": []
   },
   "source": [
    "## Data"
   ]
  },
  {
   "cell_type": "markdown",
   "id": "4a1f0d22-82ef-4961-94ed-8f96eb1b5403",
   "metadata": {},
   "source": [
    "---\n",
    "Like before, we can describe the dynamical system like so:\n",
    "\n",
    "$$\n",
    "\\begin{aligned}\n",
    "\\mathbf{z}_{t+1} &= \\mathbf{F}\\mathbf{z}_t + \\boldsymbol{\\epsilon}_\\mathbf{z} \\\\\n",
    "x_t &= \\mathbf{H}\\mathbf{z}_t + \\boldsymbol{\\epsilon}_x\n",
    "\\end{aligned}\n",
    "$$\n",
    "\n",
    "We can manually define the terms, $\\mathbf{F}$ and $\\mathbf{H}$, which represent the relationship between the variables. Here they will be\n",
    "\n",
    "$$\n",
    "\\begin{aligned}\n",
    "\\mathbf{F} &=\n",
    "\\begin{bmatrix}\n",
    "1 & 1 \\\\ 0 & 1\n",
    "\\end{bmatrix} \\\\\n",
    "\\mathbf{H} &=\n",
    "\\begin{bmatrix}\n",
    "1 & 0 \n",
    "\\end{bmatrix}\n",
    "\\end{aligned}\n",
    "$$\n",
    "\n",
    "Here, we assume that the state system is as follows:\n",
    "\n",
    "$$\n",
    "\\begin{aligned}\n",
    "\\frac{\\partial z^1}{\\partial t} &= z^1 + z^2 \\\\\n",
    "\\frac{\\partial z^2}{\\partial t} &= z^1\n",
    "\\end{aligned}\n",
    "$$\n",
    "\n",
    "and we assume that the observation is related like so:\n",
    "\n",
    "$$\n",
    "x = z^1\n",
    "$$\n",
    "\n",
    "So essentially, we have an augmented the state space dimension, $\\mathbf{z} \\in \\mathbb{R}^2$, which is higher than the observation space, $x \\in \\mathbb{R}^1$. Our assumption here is that there are higher order dynamics at play behind the scenes. \n"
   ]
  },
  {
   "cell_type": "markdown",
   "id": "21050e77-676b-4100-b4eb-306f17814501",
   "metadata": {},
   "source": [
    "#### Parameters\n",
    "\n",
    "$$\n",
    "\\boldsymbol{\\theta} = \\{ \\mathbf{F}, \\mathbf{Q}, \\mathbf{H}, \\mathbf{R} \\}\n",
    "$$"
   ]
  },
  {
   "cell_type": "markdown",
   "id": "de444376-c117-4926-917f-a9f70e80d46b",
   "metadata": {},
   "source": [
    "## Parameters"
   ]
  },
  {
   "cell_type": "markdown",
   "id": "8e986eec-e519-49a8-8415-41e278bfa78a",
   "metadata": {},
   "source": [
    "#### LGSSM Params"
   ]
  },
  {
   "cell_type": "code",
   "execution_count": 45,
   "id": "6ff399fc-d721-44fc-b9cb-549361e1d080",
   "metadata": {},
   "outputs": [],
   "source": [
    "class KFParams(NamedTuple):\n",
    "    transition_matrix : jnp.ndarray\n",
    "    transition_noise : jnp.ndarray\n",
    "    observation_matrix : jnp.ndarray\n",
    "    observation_noise : jnp.ndarray\n",
    "    \n",
    "class KFParamsDist(NamedTuple):\n",
    "    transition_matrix: jnp.ndarray\n",
    "    transition_noise_dist: tfd.Distribution\n",
    "    observation_matrix: jnp.ndarray\n",
    "    observation_noise_dist: tfd.Distribution\n"
   ]
  },
  {
   "cell_type": "code",
   "execution_count": 46,
   "id": "a6d5acb9-b31b-4842-9fcd-56ff207708ed",
   "metadata": {},
   "outputs": [],
   "source": [
    "# initialize Kalman Filter\n",
    "state_dim = 2\n",
    "observation_dim = 1\n",
    "\n",
    "# init transition model\n",
    "transition_matrix = jnp.array([[1., 1.], [0., 1.]])   # state transition matrix\n",
    "transition_noise = 1e-4 * jnp.eye((state_dim))                # state uncertainty\n",
    "\n",
    "# check sizes\n",
    "assert transition_matrix.shape == (state_dim, state_dim)\n",
    "assert transition_noise.shape == (state_dim, state_dim)\n",
    "\n",
    "# init emission model\n",
    "observation_matrix = jnp.array([[1., 0.]])             # emission matrix\n",
    "observation_noise = 50. * jnp.eye((1))                  # emission uncertainty\n",
    "\n",
    "assert observation_matrix.shape == (observation_dim, state_dim)\n",
    "assert observation_noise.shape == (observation_dim, observation_dim)\n",
    "\n",
    "\n",
    "# Prior parameter distribution\n",
    "mu0 = jnp.array([2.0, 0.0]).astype(float)\n",
    "Sigma0 = jnp.eye(state_dim) * 1.0\n",
    "\n",
    "assert mu0.shape == (state_dim,)\n",
    "assert Sigma0.shape == (state_dim, state_dim)"
   ]
  },
  {
   "cell_type": "code",
   "execution_count": 47,
   "id": "101f70e5-4aa8-40a9-9714-16119fc71396",
   "metadata": {},
   "outputs": [
    {
     "data": {
      "text/plain": [
       "(2, 1)"
      ]
     },
     "execution_count": 47,
     "metadata": {},
     "output_type": "execute_result"
    }
   ],
   "source": [
    "observation_matrix.T.shape"
   ]
  },
  {
   "cell_type": "code",
   "execution_count": 48,
   "id": "954f0f1c-002a-4745-9563-3235685c92f6",
   "metadata": {},
   "outputs": [],
   "source": [
    "\n",
    "transition_noise_dist = tfd.MultivariateNormalFullCovariance(\n",
    "    loc=jnp.zeros(state_dim), \n",
    "    covariance_matrix=transition_noise\n",
    ")\n",
    "\n",
    "\n",
    "observation_noise_dist = tfd.MultivariateNormalFullCovariance(\n",
    "    loc=jnp.zeros(observation_dim), \n",
    "    covariance_matrix=observation_noise\n",
    ")\n",
    "\n",
    "\n",
    "params_dist = KFParamsDist(\n",
    "    transition_matrix=transition_matrix, \n",
    "    transition_noise_dist=transition_noise_dist,\n",
    "    observation_matrix=observation_matrix, \n",
    "    observation_noise_dist=observation_noise_dist\n",
    ")\n",
    "\n",
    "params = KFParams(\n",
    "    transition_matrix=transition_matrix, \n",
    "    transition_noise=transition_noise,\n",
    "    observation_matrix=observation_matrix, \n",
    "    observation_noise=observation_noise\n",
    ")"
   ]
  },
  {
   "cell_type": "markdown",
   "id": "c1737094-4b7b-4b00-a9b1-22b96117a72d",
   "metadata": {},
   "source": [
    "#### KF State"
   ]
  },
  {
   "cell_type": "code",
   "execution_count": 49,
   "id": "0f86d486-8465-4dc9-a367-22f0d33f10f7",
   "metadata": {},
   "outputs": [],
   "source": [
    "class State(NamedTuple):\n",
    "    mu_t: jnp.ndarray\n",
    "    Sigma_t: jnp.ndarray\n",
    "    t: int\n",
    "    \n",
    "class StatePrior(NamedTuple):\n",
    "    prior: tfd.Distribution\n",
    "    "
   ]
  },
  {
   "cell_type": "code",
   "execution_count": 50,
   "id": "e0d47c9b-0fc9-4fa1-a69c-b451a315572c",
   "metadata": {},
   "outputs": [],
   "source": [
    "prior_dist = tfd.MultivariateNormalFullCovariance(\n",
    "    loc=mu0, \n",
    "    covariance_matrix=Sigma0\n",
    ")\n",
    "\n",
    "state_prior = StatePrior(prior=prior_dist)"
   ]
  },
  {
   "cell_type": "code",
   "execution_count": 51,
   "id": "0278a27e-a8c1-4eb6-afed-0f08207fa413",
   "metadata": {},
   "outputs": [
    {
     "data": {
      "text/plain": [
       "((2, 2), (2,))"
      ]
     },
     "execution_count": 51,
     "metadata": {},
     "output_type": "execute_result"
    }
   ],
   "source": [
    "prior_dist.covariance().shape, prior_dist.mean().shape"
   ]
  },
  {
   "cell_type": "code",
   "execution_count": null,
   "id": "2b99e2ab-4df9-43e1-9100-e185e5bb4893",
   "metadata": {},
   "outputs": [],
   "source": []
  },
  {
   "cell_type": "code",
   "execution_count": null,
   "id": "faf03c25-9b7f-4d35-bf36-290bb783c308",
   "metadata": {},
   "outputs": [],
   "source": []
  },
  {
   "cell_type": "markdown",
   "id": "d3a6a1a6-6794-40c8-8139-66b1c4d3aefc",
   "metadata": {},
   "source": [
    "## Demo States"
   ]
  },
  {
   "cell_type": "code",
   "execution_count": 52,
   "id": "fabd1454-c804-4cdb-9587-5279f207c1fb",
   "metadata": {},
   "outputs": [],
   "source": [
    "from jaxkf._src.functional.sample import sample_step, sample_sequential, sample_sequential_vectorized, sample_event"
   ]
  },
  {
   "cell_type": "code",
   "execution_count": 53,
   "id": "216740a5-1650-4d16-9a72-e56d3b24df79",
   "metadata": {},
   "outputs": [],
   "source": [
    "# init keys - prior, steps\n",
    "key = jax.random.PRNGKey(411)\n",
    "key, key_init, key_step = jax.random.split(key, 3)\n",
    "\n",
    "# initialize state mean\n",
    "state_init = state_prior.prior.sample(seed=key_init)\n",
    "\n",
    "assert state_init.shape == (state_dim,)"
   ]
  },
  {
   "cell_type": "markdown",
   "id": "7d57fe16-8d0f-4248-9256-e7ac2c5a4923",
   "metadata": {},
   "source": [
    "#### Sequential Sampling"
   ]
  },
  {
   "cell_type": "code",
   "execution_count": 54,
   "id": "9f1ad6f7-a196-40b9-ba9a-6d87de83dd46",
   "metadata": {},
   "outputs": [
    {
     "data": {
      "application/vnd.jupyter.widget-view+json": {
       "model_id": "e4e4ede2582f4e5fa56500635af7c409",
       "version_major": 2,
       "version_minor": 0
      },
      "text/plain": [
       "  0%|          | 0/100 [00:00<?, ?it/s]"
      ]
     },
     "metadata": {},
     "output_type": "display_data"
    }
   ],
   "source": [
    "# create time steps\n",
    "num_time_steps = 100\n",
    "time_steps = jnp.arange(num_time_steps)\n",
    "\n",
    "# initialize keys for steps\n",
    "key_steps = jax.random.split(key_step, num_time_steps)\n",
    "\n",
    "# initialize states\n",
    "state_samples, obs_samples = [], []\n",
    "\n",
    "state = state_init\n",
    "\n",
    "for i_step in tqdm(key_steps):\n",
    "    \n",
    "    # kalman step\n",
    "    state, obs = sample_step(state, params_dist, i_step)\n",
    "    \n",
    "    # append\n",
    "    state_samples.append(state)\n",
    "    obs_samples.append(obs)\n",
    "    \n",
    "\n",
    "# concatenate all samples\n",
    "state_samples = jnp.vstack(state_samples)\n",
    "obs_samples = jnp.vstack(obs_samples)"
   ]
  },
  {
   "cell_type": "markdown",
   "id": "5959fa6f-3a4c-415f-87d4-ea259305e900",
   "metadata": {},
   "source": [
    "##### Scan Fn"
   ]
  },
  {
   "cell_type": "code",
   "execution_count": 55,
   "id": "04d98024-ecd0-4657-9cd6-25bb9a15bb9c",
   "metadata": {},
   "outputs": [],
   "source": [
    "# use the scan function\n",
    "state_samples_, obs_samples_ = sample_sequential(prior_dist, params_dist, key_step, num_time_steps)\n",
    "\n",
    "# check the shapes\n",
    "assert state_samples_.shape == (num_time_steps, state_dim)\n",
    "assert obs_samples_.shape == (num_time_steps, observation_dim)\n"
   ]
  },
  {
   "cell_type": "code",
   "execution_count": 56,
   "id": "478b765d-ab99-4941-8f00-b030361c69d8",
   "metadata": {},
   "outputs": [
    {
     "data": {
      "image/png": "[encoded data removed]",
      "text/plain": [
       "<Figure size 432x288 with 1 Axes>"
      ]
     },
     "metadata": {
      "needs_background": "light"
     },
     "output_type": "display_data"
    }
   ],
   "source": [
    "fig, ax = plt.subplots()\n",
    "\n",
    "ax.plot(time_steps, state_samples[:, 0], label=\"True State\", color=\"green\")\n",
    "ax.scatter(time_steps, obs_samples, label=\"Observations\", color=\"red\", alpha=0.4)\n",
    "\n",
    "plt.legend()\n",
    "plt.show()"
   ]
  },
  {
   "cell_type": "markdown",
   "id": "9ff21a22-7d7c-44d8-8db2-28088ae0c5f1",
   "metadata": {},
   "source": [
    "#### Vectorized Sampling"
   ]
  },
  {
   "cell_type": "code",
   "execution_count": 141,
   "id": "724c5d21-1e7c-41f1-8d4b-42c9a5a4003a",
   "metadata": {},
   "outputs": [
    {
     "name": "stdout",
     "output_type": "stream",
     "text": [
      "CPU times: user 1.41 s, sys: 23.3 ms, total: 1.43 s\n",
      "Wall time: 1.43 s\n"
     ]
    }
   ],
   "source": [
    "%%time\n",
    "\n",
    "num_samples = 100\n",
    "num_time_steps = 50\n",
    "key = 314\n",
    "sample_prior = False\n",
    "\n",
    "state_samples, obs_samples = sample_sequential_vectorized(\n",
    "    prior_dist, \n",
    "    params_dist, \n",
    "    seed=key, \n",
    "    num_samples=num_samples, \n",
    "    num_time_steps=num_time_steps,\n",
    "    sample_prior=sample_prior\n",
    ")"
   ]
  },
  {
   "cell_type": "code",
   "execution_count": 58,
   "id": "0072ab7c-6233-4464-b71a-6463393c1e48",
   "metadata": {},
   "outputs": [],
   "source": [
    "# check shapes\n",
    "assert state_samples.shape == (num_samples, num_time_steps, state_dim)\n",
    "assert obs_samples.shape == (num_samples, num_time_steps, observation_dim)"
   ]
  },
  {
   "cell_type": "code",
   "execution_count": 59,
   "id": "e2dcdcae-bb39-4848-b95c-5903c9b03fd9",
   "metadata": {},
   "outputs": [
    {
     "data": {
      "image/png": "[encoded data removed]",
      "text/plain": [
       "<Figure size 432x288 with 1 Axes>"
      ]
     },
     "metadata": {
      "needs_background": "light"
     },
     "output_type": "display_data"
    }
   ],
   "source": [
    "fig, ax = plt.subplots()\n",
    "\n",
    "t_axes = jnp.arange(num_time_steps)\n",
    "\n",
    "ax.plot(t_axes, state_samples[0, :, 0], label=\"True State\", color=\"green\")\n",
    "ax.scatter(t_axes, obs_samples[0, :, 0], label=\"Observations\", color=\"red\", alpha=0.4)\n",
    "\n",
    "plt.legend()\n",
    "plt.show()"
   ]
  },
  {
   "cell_type": "markdown",
   "id": "c654e25d-6afe-4be6-b1e1-b2968c915343",
   "metadata": {},
   "source": [
    "## Filtering"
   ]
  },
  {
   "cell_type": "code",
   "execution_count": 60,
   "id": "14039082-4526-4d09-bc6b-bbd242210a29",
   "metadata": {},
   "outputs": [],
   "source": [
    "from jaxkf._src.functional.filter import kalman_step, filter_step_sequential, forward_filter"
   ]
  },
  {
   "cell_type": "code",
   "execution_count": 61,
   "id": "67734ce3-867c-40e7-b84c-6e86d51e612d",
   "metadata": {},
   "outputs": [],
   "source": [
    "# init prior state\n",
    "# state_init = State(\n",
    "#     mu_t=state_prior.prior.mean(),\n",
    "#     Sigma_t=state_prior.prior.covariance(),\n",
    "#     t=0\n",
    "# )\n",
    "state_init = (\n",
    "    state_prior.prior.mean(),\n",
    "    state_prior.prior.covariance(),\n",
    "    0\n",
    ")"
   ]
  },
  {
   "cell_type": "code",
   "execution_count": null,
   "id": "9332e130-69a9-4add-9a57-d6abee57552a",
   "metadata": {},
   "outputs": [],
   "source": []
  },
  {
   "cell_type": "markdown",
   "id": "f4a54259-c9bd-40c9-88f3-afff3feb22db",
   "metadata": {},
   "source": [
    "### Sequential Filtering"
   ]
  },
  {
   "cell_type": "code",
   "execution_count": 62,
   "id": "08fba944-5efe-4e10-99ac-e1040db5bc96",
   "metadata": {},
   "outputs": [
    {
     "data": {
      "application/vnd.jupyter.widget-view+json": {
       "model_id": "a0c2764d44fa420eb43f20d064bad209",
       "version_major": 2,
       "version_minor": 0
      },
      "text/plain": [
       "  0%|          | 0/50 [00:00<?, ?it/s]"
      ]
     },
     "metadata": {},
     "output_type": "display_data"
    },
    {
     "ename": "ValueError",
     "evalue": "too many values to unpack (expected 3)",
     "output_type": "error",
     "traceback": [
      "\u001b[0;31m---------------------------------------------------------------------------\u001b[0m",
      "\u001b[0;31mValueError\u001b[0m                                Traceback (most recent call last)",
      "\u001b[0;32m/var/folders/k9/_v6ywhvj0nq36tpttd3j4mq80000gn/T/ipykernel_82568/4205910048.py\u001b[0m in \u001b[0;36m<module>\u001b[0;34m\u001b[0m\n\u001b[1;32m     12\u001b[0m \u001b[0;34m\u001b[0m\u001b[0m\n\u001b[1;32m     13\u001b[0m     \u001b[0;31m# kalman step\u001b[0m\u001b[0;34m\u001b[0m\u001b[0;34m\u001b[0m\u001b[0m\n\u001b[0;32m---> 14\u001b[0;31m     \u001b[0mstate\u001b[0m \u001b[0;34m=\u001b[0m \u001b[0mkalman_step\u001b[0m\u001b[0;34m(\u001b[0m\u001b[0mi_obs\u001b[0m\u001b[0;34m,\u001b[0m \u001b[0mstate\u001b[0m\u001b[0;34m,\u001b[0m \u001b[0mparams\u001b[0m\u001b[0;34m)\u001b[0m\u001b[0;34m\u001b[0m\u001b[0;34m\u001b[0m\u001b[0m\n\u001b[0m\u001b[1;32m     15\u001b[0m \u001b[0;34m\u001b[0m\u001b[0m\n\u001b[1;32m     16\u001b[0m     \u001b[0;31m# append\u001b[0m\u001b[0;34m\u001b[0m\u001b[0;34m\u001b[0m\u001b[0m\n",
      "\u001b[0;32m~/code_projects/jaxkf/jaxkf/jax/jaxkf/_src/functional/filter.py\u001b[0m in \u001b[0;36mkalman_step\u001b[0;34m(x_t, state, params)\u001b[0m\n\u001b[1;32m    124\u001b[0m \u001b[0;34m\u001b[0m\u001b[0m\n\u001b[1;32m    125\u001b[0m     \u001b[0;31m# unroll state\u001b[0m\u001b[0;34m\u001b[0m\u001b[0;34m\u001b[0m\u001b[0m\n\u001b[0;32m--> 126\u001b[0;31m     \u001b[0mmu_t_1\u001b[0m\u001b[0;34m,\u001b[0m \u001b[0mSigma_t_1\u001b[0m\u001b[0;34m,\u001b[0m \u001b[0mt\u001b[0m \u001b[0;34m=\u001b[0m \u001b[0mstate\u001b[0m\u001b[0;34m\u001b[0m\u001b[0;34m\u001b[0m\u001b[0m\n\u001b[0m\u001b[1;32m    127\u001b[0m \u001b[0;34m\u001b[0m\u001b[0m\n\u001b[1;32m    128\u001b[0m     \u001b[0;31m# unroll KF params\u001b[0m\u001b[0;34m\u001b[0m\u001b[0;34m\u001b[0m\u001b[0m\n",
      "\u001b[0;31mValueError\u001b[0m: too many values to unpack (expected 3)"
     ]
    }
   ],
   "source": [
    "# create time steps\n",
    "num_time_steps = 100\n",
    "time_steps = jnp.arange(num_time_steps)\n",
    "\n",
    "\n",
    "# initialize states\n",
    "all_states = {\"obs\": [], \"states\": []}\n",
    "\n",
    "state = state_init\n",
    "\n",
    "for i_obs in tqdm(obs_samples[0]):\n",
    "    \n",
    "    # kalman step\n",
    "    state = kalman_step(i_obs, state, params)\n",
    "    \n",
    "    # append\n",
    "    all_states[\"obs\"].append(i_obs)\n",
    "    all_states[\"states\"].append(state)\n",
    "    \n",
    "\n",
    "# # concatenate all samples\n",
    "# state_samples = jnp.vstack(state_samples)\n",
    "# obs_samples = jnp.vstack(obs_samples)"
   ]
  },
  {
   "cell_type": "code",
   "execution_count": 63,
   "id": "2cad5d0f-0ea9-4b2e-8887-847bb2fb3ab0",
   "metadata": {},
   "outputs": [
    {
     "ename": "ValueError",
     "evalue": "too many values to unpack (expected 3)",
     "output_type": "error",
     "traceback": [
      "\u001b[0;31m---------------------------------------------------------------------------\u001b[0m",
      "\u001b[0;31mValueError\u001b[0m                                Traceback (most recent call last)",
      "\u001b[0;32m/var/folders/k9/_v6ywhvj0nq36tpttd3j4mq80000gn/T/ipykernel_82568/4191538581.py\u001b[0m in \u001b[0;36m<module>\u001b[0;34m\u001b[0m\n\u001b[1;32m      1\u001b[0m \u001b[0;31m# pred_states = [(istate.mu_t, state.Sigma_t, istate.t) for istate in all_states[\"states\"]]\u001b[0m\u001b[0;34m\u001b[0m\u001b[0;34m\u001b[0m\u001b[0m\n\u001b[0;32m----> 2\u001b[0;31m \u001b[0mmus\u001b[0m\u001b[0;34m,\u001b[0m \u001b[0msigmas\u001b[0m\u001b[0;34m,\u001b[0m \u001b[0mts\u001b[0m \u001b[0;34m=\u001b[0m \u001b[0mzip\u001b[0m\u001b[0;34m(\u001b[0m\u001b[0;34m*\u001b[0m\u001b[0mall_states\u001b[0m\u001b[0;34m[\u001b[0m\u001b[0;34m\"states\"\u001b[0m\u001b[0;34m]\u001b[0m\u001b[0;34m)\u001b[0m\u001b[0;34m\u001b[0m\u001b[0;34m\u001b[0m\u001b[0m\n\u001b[0m\u001b[1;32m      3\u001b[0m \u001b[0;34m\u001b[0m\u001b[0m\n\u001b[1;32m      4\u001b[0m \u001b[0mmus\u001b[0m \u001b[0;34m=\u001b[0m \u001b[0mjnp\u001b[0m\u001b[0;34m.\u001b[0m\u001b[0mvstack\u001b[0m\u001b[0;34m(\u001b[0m\u001b[0mmus\u001b[0m\u001b[0;34m)\u001b[0m\u001b[0;34m\u001b[0m\u001b[0;34m\u001b[0m\u001b[0m\n\u001b[1;32m      5\u001b[0m \u001b[0msigmas\u001b[0m \u001b[0;34m=\u001b[0m \u001b[0mjnp\u001b[0m\u001b[0;34m.\u001b[0m\u001b[0mvstack\u001b[0m\u001b[0;34m(\u001b[0m\u001b[0msigmas\u001b[0m\u001b[0;34m)\u001b[0m\u001b[0;34m\u001b[0m\u001b[0;34m\u001b[0m\u001b[0m\n",
      "\u001b[0;31mValueError\u001b[0m: too many values to unpack (expected 3)"
     ]
    }
   ],
   "source": [
    "# pred_states = [(istate.mu_t, state.Sigma_t, istate.t) for istate in all_states[\"states\"]]\n",
    "mus, sigmas, ts = zip(*all_states[\"states\"])\n",
    "\n",
    "mus = jnp.vstack(mus)\n",
    "sigmas = jnp.vstack(sigmas)\n",
    "ts = jnp.vstack(ts)"
   ]
  },
  {
   "cell_type": "code",
   "execution_count": 64,
   "id": "56b4fb5e-9827-4449-a2f9-456db7e184af",
   "metadata": {},
   "outputs": [
    {
     "data": {
      "text/plain": [
       "((10, 50, 2), (10, 50, 2, 2), (10, 50))"
      ]
     },
     "execution_count": 64,
     "metadata": {},
     "output_type": "execute_result"
    }
   ],
   "source": [
    "mus.shape, sigmas.shape, ts.shape"
   ]
  },
  {
   "cell_type": "code",
   "execution_count": 65,
   "id": "d529340b-b87b-450d-a1d4-89d32c507dbf",
   "metadata": {},
   "outputs": [
    {
     "ename": "ValueError",
     "evalue": "x and y must be the same size",
     "output_type": "error",
     "traceback": [
      "\u001b[0;31m---------------------------------------------------------------------------\u001b[0m",
      "\u001b[0;31mValueError\u001b[0m                                Traceback (most recent call last)",
      "\u001b[0;32m/var/folders/k9/_v6ywhvj0nq36tpttd3j4mq80000gn/T/ipykernel_82568/4165059853.py\u001b[0m in \u001b[0;36m<module>\u001b[0;34m\u001b[0m\n\u001b[1;32m      2\u001b[0m \u001b[0;34m\u001b[0m\u001b[0m\n\u001b[1;32m      3\u001b[0m \u001b[0;34m\u001b[0m\u001b[0m\n\u001b[0;32m----> 4\u001b[0;31m \u001b[0max\u001b[0m\u001b[0;34m.\u001b[0m\u001b[0mscatter\u001b[0m\u001b[0;34m(\u001b[0m\u001b[0mts\u001b[0m\u001b[0;34m[\u001b[0m\u001b[0;34m...\u001b[0m\u001b[0;34m,\u001b[0m \u001b[0;36m0\u001b[0m\u001b[0;34m]\u001b[0m\u001b[0;34m,\u001b[0m \u001b[0mall_states\u001b[0m\u001b[0;34m[\u001b[0m\u001b[0;34m\"obs\"\u001b[0m\u001b[0;34m]\u001b[0m\u001b[0;34m,\u001b[0m \u001b[0mcolor\u001b[0m\u001b[0;34m=\u001b[0m\u001b[0;34m\"red\"\u001b[0m\u001b[0;34m,\u001b[0m \u001b[0mlabel\u001b[0m\u001b[0;34m=\u001b[0m\u001b[0;34m\"Observations\"\u001b[0m\u001b[0;34m)\u001b[0m\u001b[0;34m\u001b[0m\u001b[0;34m\u001b[0m\u001b[0m\n\u001b[0m\u001b[1;32m      5\u001b[0m \u001b[0max\u001b[0m\u001b[0;34m.\u001b[0m\u001b[0mplot\u001b[0m\u001b[0;34m(\u001b[0m\u001b[0mts\u001b[0m\u001b[0;34m[\u001b[0m\u001b[0;34m...\u001b[0m\u001b[0;34m,\u001b[0m \u001b[0;36m0\u001b[0m\u001b[0;34m]\u001b[0m\u001b[0;34m,\u001b[0m \u001b[0mmus\u001b[0m\u001b[0;34m[\u001b[0m\u001b[0;34m:\u001b[0m\u001b[0;34m,\u001b[0m \u001b[0;36m0\u001b[0m\u001b[0;34m]\u001b[0m\u001b[0;34m,\u001b[0m \u001b[0mlabel\u001b[0m\u001b[0;34m=\u001b[0m\u001b[0;34m\"State (Filtered)\"\u001b[0m\u001b[0;34m,\u001b[0m \u001b[0mlinestyle\u001b[0m\u001b[0;34m=\u001b[0m\u001b[0;34m\"--\"\u001b[0m\u001b[0;34m)\u001b[0m\u001b[0;34m\u001b[0m\u001b[0;34m\u001b[0m\u001b[0m\n\u001b[1;32m      6\u001b[0m \u001b[0;34m\u001b[0m\u001b[0m\n",
      "\u001b[0;32m~/miniconda3/envs/jax_gf/lib/python3.9/site-packages/matplotlib/__init__.py\u001b[0m in \u001b[0;36minner\u001b[0;34m(ax, data, *args, **kwargs)\u001b[0m\n\u001b[1;32m   1410\u001b[0m     \u001b[0;32mdef\u001b[0m \u001b[0minner\u001b[0m\u001b[0;34m(\u001b[0m\u001b[0max\u001b[0m\u001b[0;34m,\u001b[0m \u001b[0;34m*\u001b[0m\u001b[0margs\u001b[0m\u001b[0;34m,\u001b[0m \u001b[0mdata\u001b[0m\u001b[0;34m=\u001b[0m\u001b[0;32mNone\u001b[0m\u001b[0;34m,\u001b[0m \u001b[0;34m**\u001b[0m\u001b[0mkwargs\u001b[0m\u001b[0;34m)\u001b[0m\u001b[0;34m:\u001b[0m\u001b[0;34m\u001b[0m\u001b[0;34m\u001b[0m\u001b[0m\n\u001b[1;32m   1411\u001b[0m         \u001b[0;32mif\u001b[0m \u001b[0mdata\u001b[0m \u001b[0;32mis\u001b[0m \u001b[0;32mNone\u001b[0m\u001b[0;34m:\u001b[0m\u001b[0;34m\u001b[0m\u001b[0;34m\u001b[0m\u001b[0m\n\u001b[0;32m-> 1412\u001b[0;31m             \u001b[0;32mreturn\u001b[0m \u001b[0mfunc\u001b[0m\u001b[0;34m(\u001b[0m\u001b[0max\u001b[0m\u001b[0;34m,\u001b[0m \u001b[0;34m*\u001b[0m\u001b[0mmap\u001b[0m\u001b[0;34m(\u001b[0m\u001b[0msanitize_sequence\u001b[0m\u001b[0;34m,\u001b[0m \u001b[0margs\u001b[0m\u001b[0;34m)\u001b[0m\u001b[0;34m,\u001b[0m \u001b[0;34m**\u001b[0m\u001b[0mkwargs\u001b[0m\u001b[0;34m)\u001b[0m\u001b[0;34m\u001b[0m\u001b[0;34m\u001b[0m\u001b[0m\n\u001b[0m\u001b[1;32m   1413\u001b[0m \u001b[0;34m\u001b[0m\u001b[0m\n\u001b[1;32m   1414\u001b[0m         \u001b[0mbound\u001b[0m \u001b[0;34m=\u001b[0m \u001b[0mnew_sig\u001b[0m\u001b[0;34m.\u001b[0m\u001b[0mbind\u001b[0m\u001b[0;34m(\u001b[0m\u001b[0max\u001b[0m\u001b[0;34m,\u001b[0m \u001b[0;34m*\u001b[0m\u001b[0margs\u001b[0m\u001b[0;34m,\u001b[0m \u001b[0;34m**\u001b[0m\u001b[0mkwargs\u001b[0m\u001b[0;34m)\u001b[0m\u001b[0;34m\u001b[0m\u001b[0;34m\u001b[0m\u001b[0m\n",
      "\u001b[0;32m~/miniconda3/envs/jax_gf/lib/python3.9/site-packages/matplotlib/axes/_axes.py\u001b[0m in \u001b[0;36mscatter\u001b[0;34m(self, x, y, s, c, marker, cmap, norm, vmin, vmax, alpha, linewidths, edgecolors, plotnonfinite, **kwargs)\u001b[0m\n\u001b[1;32m   4321\u001b[0m         \u001b[0my\u001b[0m \u001b[0;34m=\u001b[0m \u001b[0mnp\u001b[0m\u001b[0;34m.\u001b[0m\u001b[0mma\u001b[0m\u001b[0;34m.\u001b[0m\u001b[0mravel\u001b[0m\u001b[0;34m(\u001b[0m\u001b[0my\u001b[0m\u001b[0;34m)\u001b[0m\u001b[0;34m\u001b[0m\u001b[0;34m\u001b[0m\u001b[0m\n\u001b[1;32m   4322\u001b[0m         \u001b[0;32mif\u001b[0m \u001b[0mx\u001b[0m\u001b[0;34m.\u001b[0m\u001b[0msize\u001b[0m \u001b[0;34m!=\u001b[0m \u001b[0my\u001b[0m\u001b[0;34m.\u001b[0m\u001b[0msize\u001b[0m\u001b[0;34m:\u001b[0m\u001b[0;34m\u001b[0m\u001b[0;34m\u001b[0m\u001b[0m\n\u001b[0;32m-> 4323\u001b[0;31m             \u001b[0;32mraise\u001b[0m \u001b[0mValueError\u001b[0m\u001b[0;34m(\u001b[0m\u001b[0;34m\"x and y must be the same size\"\u001b[0m\u001b[0;34m)\u001b[0m\u001b[0;34m\u001b[0m\u001b[0;34m\u001b[0m\u001b[0m\n\u001b[0m\u001b[1;32m   4324\u001b[0m \u001b[0;34m\u001b[0m\u001b[0m\n\u001b[1;32m   4325\u001b[0m         \u001b[0;32mif\u001b[0m \u001b[0ms\u001b[0m \u001b[0;32mis\u001b[0m \u001b[0;32mNone\u001b[0m\u001b[0;34m:\u001b[0m\u001b[0;34m\u001b[0m\u001b[0;34m\u001b[0m\u001b[0m\n",
      "\u001b[0;31mValueError\u001b[0m: x and y must be the same size"
     ]
    },
    {
     "data": {
      "image/png": "[encoded data removed]",
      "text/plain": [
       "<Figure size 432x288 with 1 Axes>"
      ]
     },
     "metadata": {
      "needs_background": "light"
     },
     "output_type": "display_data"
    }
   ],
   "source": [
    "fig, ax = plt.subplots()\n",
    "\n",
    "\n",
    "ax.scatter(ts[..., 0], all_states[\"obs\"], color=\"red\", label=\"Observations\")\n",
    "ax.plot(ts[..., 0], mus[:, 0], label=\"State (Filtered)\", linestyle=\"--\")\n",
    "\n",
    "ax.set(xlabel=\"Time\", ylabel=\"Signal\")\n",
    "\n",
    "plt.legend()\n",
    "plt.show()\n"
   ]
  },
  {
   "cell_type": "markdown",
   "id": "fd2e31d5-8ebb-4d6b-a1c5-a91b992c741f",
   "metadata": {},
   "source": [
    "#### Sequential (Scan)"
   ]
  },
  {
   "cell_type": "code",
   "execution_count": 66,
   "id": "860bdd79-da23-4f8b-a143-9afff7a26599",
   "metadata": {},
   "outputs": [],
   "source": [
    "# init prior state\n",
    "state_init = State(\n",
    "    mu_t=state_prior.prior.mean(),\n",
    "    Sigma_t=state_prior.prior.covariance(),\n",
    "    t=0\n",
    ")\n",
    "# state_init = (\n",
    "#     state_prior.prior.mean(),\n",
    "#     state_prior.prior.covariance(),\n",
    "#     0\n",
    "# )\n",
    "# init params\n",
    "params = KFParams(\n",
    "    transition_matrix=transition_matrix, \n",
    "    transition_noise=transition_noise,\n",
    "    observation_matrix=observation_matrix, \n",
    "    observation_noise=observation_noise\n",
    ")"
   ]
  },
  {
   "cell_type": "code",
   "execution_count": 67,
   "id": "f23e6194-d954-418a-b7bf-7df7915d44ab",
   "metadata": {},
   "outputs": [
    {
     "name": "stdout",
     "output_type": "stream",
     "text": [
      "CPU times: user 285 ms, sys: 6.43 ms, total: 291 ms\n",
      "Wall time: 289 ms\n"
     ]
    }
   ],
   "source": [
    "%%time\n",
    "\n",
    "# perform the filtering sequentially\n",
    "mus, sigmas, log_likelihoods, mu_cond, Sigmas_cond, ts = filter_step_sequential(obs_samples[0], state_prior, params)"
   ]
  },
  {
   "cell_type": "code",
   "execution_count": null,
   "id": "d4b2fe24-ee08-4d22-b61a-b1ca782c61bf",
   "metadata": {},
   "outputs": [],
   "source": []
  },
  {
   "cell_type": "code",
   "execution_count": 68,
   "id": "6e59d453-e6f3-46b1-ab35-8528083fa872",
   "metadata": {},
   "outputs": [
    {
     "data": {
      "text/plain": [
       "((50,), (50, 2))"
      ]
     },
     "execution_count": 68,
     "metadata": {},
     "output_type": "execute_result"
    }
   ],
   "source": [
    "ts.shape, mus.shape"
   ]
  },
  {
   "cell_type": "code",
   "execution_count": 69,
   "id": "a9cd064d-392e-42bd-9e55-765884e17377",
   "metadata": {},
   "outputs": [
    {
     "data": {
      "image/png": "[encoded data removed]",
      "text/plain": [
       "<Figure size 432x288 with 1 Axes>"
      ]
     },
     "metadata": {
      "needs_background": "light"
     },
     "output_type": "display_data"
    }
   ],
   "source": [
    "fig, ax = plt.subplots()\n",
    "\n",
    "\n",
    "ax.scatter(ts, obs_samples[0], color=\"red\", label=\"Observations\")\n",
    "ax.plot(ts, mus[:, 0], label=\"State (Filtered)\", linestyle=\"--\")\n",
    "\n",
    "ax.set(xlabel=\"Time\", ylabel=\"Signal\")\n",
    "\n",
    "plt.legend()\n",
    "plt.show()\n"
   ]
  },
  {
   "cell_type": "markdown",
   "id": "f4358633-36f6-46ac-ab6b-d904da5378b3",
   "metadata": {},
   "source": [
    "### Vectorized"
   ]
  },
  {
   "cell_type": "code",
   "execution_count": 70,
   "id": "d7b481b2-c10f-484d-ac62-6b0a7f9fd3b4",
   "metadata": {},
   "outputs": [
    {
     "data": {
      "text/plain": [
       "StatePrior(prior=<tfp.distributions.MultivariateNormalFullCovariance 'MultivariateNormalFullCovariance' batch_shape=[] event_shape=[2] dtype=float32>)"
      ]
     },
     "execution_count": 70,
     "metadata": {},
     "output_type": "execute_result"
    }
   ],
   "source": [
    "state_prior"
   ]
  },
  {
   "cell_type": "code",
   "execution_count": 71,
   "id": "d6f60138-9282-463c-a1d2-27b920db4a73",
   "metadata": {},
   "outputs": [
    {
     "data": {
      "text/plain": [
       "((10, 50, 2), (10, 50, 2, 2), (10, 50))"
      ]
     },
     "execution_count": 71,
     "metadata": {},
     "output_type": "execute_result"
    }
   ],
   "source": [
    "mus, sigmas, log_likelihoods, mu_cond, Sigmas_cond, ts = forward_filter(obs_samples, state_prior, params)\n",
    "\n",
    "mus.shape, sigmas.shape, ts.shape"
   ]
  },
  {
   "cell_type": "code",
   "execution_count": 26,
   "id": "5f39b6bd-3838-4e60-b92c-835082da3cee",
   "metadata": {},
   "outputs": [
    {
     "data": {
      "text/plain": [
       "DeviceArray(3.4174175, dtype=float32)"
      ]
     },
     "execution_count": 26,
     "metadata": {},
     "output_type": "execute_result"
    }
   ],
   "source": [
    "- jnp.mean(log_likelihoods[0], axis=-1)"
   ]
  },
  {
   "cell_type": "code",
   "execution_count": 27,
   "id": "18f90eee-c3c9-4c22-bad1-2f9c19474038",
   "metadata": {},
   "outputs": [
    {
     "data": {
      "image/png": "[encoded data removed]",
      "text/plain": [
       "<Figure size 432x288 with 1 Axes>"
      ]
     },
     "metadata": {
      "needs_background": "light"
     },
     "output_type": "display_data"
    }
   ],
   "source": [
    "fig, ax = plt.subplots()\n",
    "\n",
    "batch_idx = 3\n",
    "\n",
    "ax.scatter(ts[batch_idx], obs_samples[batch_idx], color=\"red\", label=\"Observations\")\n",
    "ax.plot(ts[batch_idx], mus[batch_idx, :, 0], label=\"State (Filtered)\", linestyle=\"--\")\n",
    "\n",
    "ax.set(xlabel=\"Time\", ylabel=\"Signal\")\n",
    "\n",
    "plt.legend()\n",
    "plt.show()"
   ]
  },
  {
   "cell_type": "code",
   "execution_count": 28,
   "id": "457c02ae-037f-4a38-b8d1-8faf37926f0d",
   "metadata": {},
   "outputs": [
    {
     "data": {
      "image/png": "[encoded data removed]",
      "text/plain": [
       "<Figure size 432x288 with 1 Axes>"
      ]
     },
     "metadata": {
      "needs_background": "light"
     },
     "output_type": "display_data"
    }
   ],
   "source": [
    "fig, ax = plt.subplots()\n",
    "\n",
    "batch_idx = 3\n",
    "\n",
    "ax.scatter(ts[batch_idx], obs_samples[batch_idx], color=\"red\", label=\"Observations\")\n",
    "ax.plot(ts[batch_idx], mu_cond[batch_idx, :, 0], label=\"State (Filtered - Cond)\", linestyle=\"--\")\n",
    "\n",
    "ax.set(xlabel=\"Time\", ylabel=\"Signal\")\n",
    "\n",
    "plt.legend()\n",
    "plt.show()"
   ]
  },
  {
   "cell_type": "markdown",
   "id": "ed06de5f-d86b-4868-9ea8-154fc3cd790a",
   "metadata": {},
   "source": [
    "## Training (Optax)"
   ]
  },
  {
   "cell_type": "code",
   "execution_count": null,
   "id": "c9865d6b-dbf1-409e-bf53-26e1dd1386b3",
   "metadata": {},
   "outputs": [],
   "source": []
  },
  {
   "cell_type": "code",
   "execution_count": 188,
   "id": "b7449208-3e1b-416c-8ad1-1c33193ee224",
   "metadata": {},
   "outputs": [],
   "source": [
    "import treex as tx"
   ]
  },
  {
   "cell_type": "code",
   "execution_count": 245,
   "id": "a7d5c3bd-e23c-46f6-bc02-1223fcdb2598",
   "metadata": {},
   "outputs": [],
   "source": [
    "class LGSSM(tx.Module):\n",
    "    # define free and fixed params\n",
    "    transition_matrix: tx.Parameter.node()\n",
    "    transition_noise: tx.Parameter.node()\n",
    "    emission_matrix: tx.Parameter.node()\n",
    "    emission_noise: tx.Parameter.node()\n",
    "    prior_mean: tx.State.node()\n",
    "    prior_cov: tx.State.node()\n",
    "    \n",
    "    def __init__(self, state_prior, params):\n",
    "        # init prior\n",
    "        self.prior_mean = state_prior.prior.mean()\n",
    "        self.prior_cov = state_prior.prior.covariance()\n",
    "        \n",
    "        # init parameters\n",
    "        self.transition_matrix = params.transition_matrix\n",
    "        self.transition_noise = params.transition_noise\n",
    "        self.emission_matrix = params.observation_matrix\n",
    "        self.emission_noise = params.observation_noise\n",
    "    \n",
    "    def __call__(self, obs):\n",
    "        \"\"\"Do filtering operation\"\"\"\n",
    "        \n",
    "        prior_dist = tfd.MultivariateNormalFullCovariance(\n",
    "            loc=self.prior_mean, \n",
    "            covariance_matrix=self.prior_cov\n",
    "        )\n",
    "\n",
    "        state_prior = StatePrior(prior=prior_dist)\n",
    "        \n",
    "        kf_params = KFParams(\n",
    "            transition_matrix=self.transition_matrix,\n",
    "            transition_noise=self.transition_noise,\n",
    "            observation_matrix=self.emission_matrix,\n",
    "            observation_noise=self.emission_noise\n",
    "        )\n",
    "        \n",
    "        state = forward_filter(obs, state_prior, kf_params)\n",
    "        \n",
    "        mus, sigmas, log_likelihoods, *_ = state\n",
    "        \n",
    "        return mus, sigmas, log_likelihoods\n",
    "    \n",
    "    def filter_forward(self, obs):\n",
    "        \n",
    "        # create new params\n",
    "        state = forward_filter(obs_samples, state_prior, params)\n",
    "    \n",
    "        mus, sigmas, log_likelihoods, *_ = state\n",
    "        \n",
    "        return mus, sigmas\n",
    "    \n",
    "    def log_prob(self, obs):\n",
    "        \n",
    "        state = self.__filter_forward(obs)\n",
    "        \n",
    "        mus, sigmas, log_likelihoods, *_ = state\n",
    "        \n",
    "        return log_likelihoods\n",
    "    \n",
    "    \n",
    "#     def __filter_forward(self, obs):\n",
    "        \n",
    "#         prior_dist = tfd.MultivariateNormalFullCovariance(\n",
    "#             loc=self.prior_mean, \n",
    "#             covariance_matrix=self.prior_cov\n",
    "#         )\n",
    "\n",
    "#         state_prior = StatePrior(prior=prior_dist)\n",
    "        \n",
    "#         params = KFParams(\n",
    "#             transition_matrix=self.transition_matrix,\n",
    "#             transition_noise=self.transition_noise,\n",
    "#             observation_matrix=self.emission_matrix,\n",
    "#             observation_noise=self.emission_noise\n",
    "#         )\n",
    "        \n",
    "        \n",
    "#         return "
   ]
  },
  {
   "cell_type": "code",
   "execution_count": 246,
   "id": "1533e390-21a5-4cc6-a472-77dd463f327a",
   "metadata": {},
   "outputs": [
    {
     "data": {
      "text/plain": [
       "(1, 2)"
      ]
     },
     "execution_count": 246,
     "metadata": {},
     "output_type": "execute_result"
    }
   ],
   "source": [
    "params.observation_matrix.shape"
   ]
  },
  {
   "cell_type": "code",
   "execution_count": 247,
   "id": "4944c462-1e5d-4032-8f8d-5b205c72d481",
   "metadata": {},
   "outputs": [],
   "source": [
    "# random params\n",
    "params_rand = KFParams(\n",
    "    transition_matrix=jnp.ones((state_dim, state_dim)),\n",
    "    transition_noise=jnp.ones((state_dim, state_dim)),\n",
    "    observation_matrix=jnp.ones((observation_dim, state_dim)),\n",
    "    observation_noise=jnp.ones(observation_dim),\n",
    ")\n",
    "\n",
    "\n",
    "# initialize model\n",
    "kf_model = LGSSM(state_prior, params_rand)\n",
    "\n",
    "# init model\n",
    "kf_model = kf_model.init(42)\n",
    "\n",
    "# "
   ]
  },
  {
   "cell_type": "code",
   "execution_count": 248,
   "id": "95c69c54-7a55-492e-acc6-eba2c2b41df3",
   "metadata": {},
   "outputs": [],
   "source": [
    "model_params = kf_model.parameters()"
   ]
  },
  {
   "cell_type": "markdown",
   "id": "4939e5ff-aa86-47ff-894c-5ff23e84ce33",
   "metadata": {},
   "source": [
    "### Loss"
   ]
  },
  {
   "cell_type": "code",
   "execution_count": 249,
   "id": "63e3f9d2-ea03-4407-a912-4bd6602411a8",
   "metadata": {},
   "outputs": [],
   "source": [
    "# differentiate only w.r.t. parameters\n",
    "def loss_fn(params, model, x):\n",
    "    # merge params into model\n",
    "    model = model.merge(params)\n",
    "\n",
    "    # forward transformation\n",
    "    *_, log_prob = model(x)\n",
    "    \n",
    "    \n",
    "    log_prob = log_prob.sum(axis=0)\n",
    "    \n",
    "    # calculate nll\n",
    "    loss = - jnp.mean(log_prob)\n",
    "\n",
    "    # the model may contain state updates\n",
    "    # so it should be returned\n",
    "    return loss, model"
   ]
  },
  {
   "cell_type": "code",
   "execution_count": 250,
   "id": "79927ffb-da79-4ac0-8e93-c6b631c59e5a",
   "metadata": {},
   "outputs": [
    {
     "data": {
      "text/plain": [
       "DeviceArray(468.596, dtype=float32)"
      ]
     },
     "execution_count": 250,
     "metadata": {},
     "output_type": "execute_result"
    }
   ],
   "source": [
    "loss, kf_model = loss_fn(model_params, kf_model, obs_samples)\n",
    "loss"
   ]
  },
  {
   "cell_type": "markdown",
   "id": "18e003f6-d038-47bd-983d-27b29b172095",
   "metadata": {},
   "source": [
    "#### Train Step"
   ]
  },
  {
   "cell_type": "code",
   "execution_count": 251,
   "id": "64b6eb04-d3f9-4510-831c-4a9bb1e16871",
   "metadata": {},
   "outputs": [],
   "source": [
    "grad_fn = jax.value_and_grad(loss_fn, has_aux=True)"
   ]
  },
  {
   "cell_type": "code",
   "execution_count": 252,
   "id": "53eab72d-eaff-4a6b-89f5-d8d1e89d2199",
   "metadata": {},
   "outputs": [],
   "source": [
    "(loss, m), grads = grad_fn(model_params, kf_model, obs_samples)"
   ]
  },
  {
   "cell_type": "code",
   "execution_count": 253,
   "id": "797333c2-7a8b-477f-8966-b731498a400e",
   "metadata": {},
   "outputs": [
    {
     "data": {
      "text/plain": [
       "DeviceArray(468.596, dtype=float32)"
      ]
     },
     "execution_count": 253,
     "metadata": {},
     "output_type": "execute_result"
    }
   ],
   "source": [
    "loss"
   ]
  },
  {
   "cell_type": "code",
   "execution_count": 254,
   "id": "0dc5a2bb-9452-458a-bc19-5ae5cd377ed4",
   "metadata": {},
   "outputs": [
    {
     "data": {
      "text/plain": [
       "LGSSM {\n",
       "    emission_matrix: jaxlib.DeviceArray((1, 2), float32),\n",
       "    emission_noise: jaxlib.DeviceArray((1,), float32),\n",
       "    name: \"lgssm\",                                             str\n",
       "    prior_cov: jaxlib.DeviceArray((2, 2), float32),\n",
       "    prior_mean: jaxlib.DeviceArray((2,), float32),\n",
       "    transition_matrix: jaxlib.DeviceArray((2, 2), float32),\n",
       "    transition_noise: jaxlib.DeviceArray((2, 2), float32),\n",
       "}"
      ]
     },
     "execution_count": 254,
     "metadata": {},
     "output_type": "execute_result"
    }
   ],
   "source": [
    "grads"
   ]
  },
  {
   "cell_type": "code",
   "execution_count": 255,
   "id": "6f0cedf1-b066-419a-9197-1312d2e7ae17",
   "metadata": {},
   "outputs": [],
   "source": [
    "# both model and optimizer are jit-able\n",
    "@jax.jit\n",
    "def train_step(model, x, optimizer):\n",
    "    # select only the parameters\n",
    "    params = model.parameters()\n",
    "\n",
    "    (loss, model), grads = grad_fn(params, model, x)\n",
    "\n",
    "    # update params and model\n",
    "    params = optimizer.update(grads, params)\n",
    "    model = model.merge(params)\n",
    "\n",
    "    # return new model and optimizer\n",
    "    return loss, model, optimizer"
   ]
  },
  {
   "cell_type": "markdown",
   "id": "c898ef5a-a9ef-4b9f-a2a6-4451cae2ef1d",
   "metadata": {},
   "source": [
    "### Optimizer"
   ]
  },
  {
   "cell_type": "code",
   "execution_count": 256,
   "id": "6407180e-28f6-4077-ab83-82cb59558bbe",
   "metadata": {},
   "outputs": [],
   "source": [
    "import optax\n",
    "from tqdm.notebook import trange, tqdm"
   ]
  },
  {
   "cell_type": "code",
   "execution_count": 257,
   "id": "801fdb20-6935-4ae6-bc0d-1c098ccbdbb0",
   "metadata": {},
   "outputs": [],
   "source": [
    "optimizer = tx.Optimizer(optax.adam(0.1)).init(kf_model)"
   ]
  },
  {
   "cell_type": "code",
   "execution_count": 258,
   "id": "954ec0d0-3cc5-4ee6-8963-36a4657afb84",
   "metadata": {},
   "outputs": [
    {
     "data": {
      "application/vnd.jupyter.widget-view+json": {
       "model_id": "037b4dbb6d0b439eb090c9f05aecffb2",
       "version_major": 2,
       "version_minor": 0
      },
      "text/plain": [
       "  0%|          | 0/10 [00:00<?, ?it/s]"
      ]
     },
     "metadata": {},
     "output_type": "display_data"
    }
   ],
   "source": [
    "n_iterations = 10\n",
    "losses = []\n",
    "batch_size = 64\n",
    "\n",
    "train_data = obs_samples\n",
    "\n",
    "with trange(n_iterations) as pbar:\n",
    "    for i in pbar:\n",
    "        \n",
    "        loss, kf_model, optimizer = train_step(kf_model, train_data, optimizer)\n",
    "        \n",
    "        pbar.set_description(f\"Loss: {loss:.4f}\")\n",
    "        losses.append(loss)"
   ]
  },
  {
   "cell_type": "code",
   "execution_count": 259,
   "id": "a54ae6a6-ffea-44e7-ad04-1f961267d41c",
   "metadata": {},
   "outputs": [
    {
     "data": {
      "image/png": "[encoded data removed]",
      "text/plain": [
       "<Figure size 432x288 with 1 Axes>"
      ]
     },
     "metadata": {
      "needs_background": "light"
     },
     "output_type": "display_data"
    }
   ],
   "source": [
    "fig, ax = plt.subplots()\n",
    "\n",
    "ax.plot(losses)\n",
    "\n",
    "plt.show()"
   ]
  },
  {
   "cell_type": "code",
   "execution_count": 213,
   "id": "1f518a2c-a738-492d-a6a4-dee7139672ec",
   "metadata": {},
   "outputs": [],
   "source": [
    "trained_params = kf_model.parameters()"
   ]
  },
  {
   "cell_type": "code",
   "execution_count": 159,
   "id": "62dcf22d-f57a-49f7-92b7-ae02bf74f46c",
   "metadata": {},
   "outputs": [
    {
     "data": {
      "text/plain": [
       "DeviceArray([[1., 1.]], dtype=float32)"
      ]
     },
     "execution_count": 159,
     "metadata": {},
     "output_type": "execute_result"
    }
   ],
   "source": [
    "trained_params.emission_matrix"
   ]
  },
  {
   "cell_type": "code",
   "execution_count": null,
   "id": "42419dbf-28e4-4d16-89f4-8e02414aca6d",
   "metadata": {},
   "outputs": [],
   "source": [
    "# initialize Kalman Filter\n",
    "state_dim = 2\n",
    "observation_dim = 1\n",
    "\n",
    "# init transition model\n",
    "transition_matrix = jnp.array([[1., 1.], [0., 1.]])   # state transition matrix\n",
    "transition_noise = 1e-4 * jnp.eye((state_dim))                # state uncertainty\n",
    "\n",
    "# check sizes\n",
    "assert transition_matrix.shape == (state_dim, state_dim)\n",
    "assert transition_noise.shape == (state_dim, state_dim)\n",
    "\n",
    "# init emission model\n",
    "observation_matrix = jnp.array([[1., 0.]])             # emission matrix\n",
    "observation_noise = 50. * jnp.eye((1))                  # emission uncertainty\n",
    "\n",
    "assert observation_matrix.shape == (observation_dim, state_dim)\n",
    "assert observation_noise.shape == (observation_dim, observation_dim)\n",
    "\n",
    "\n",
    "# Prior parameter distribution\n",
    "mu0 = jnp.array([2.0, 0.0]).astype(float)\n",
    "Sigma0 = jnp.eye(state_dim) * 1.0\n",
    "\n",
    "assert mu0.shape == (state_dim,)\n",
    "assert Sigma0.shape == (state_dim, state_dim)"
   ]
  },
  {
   "cell_type": "markdown",
   "id": "4c9a4b34-23db-462b-9239-26d375874c59",
   "metadata": {},
   "source": [
    "##"
   ]
  },
  {
   "cell_type": "code",
   "execution_count": 258,
   "id": "524bc614-b953-45dd-ab79-46d53ee38f99",
   "metadata": {},
   "outputs": [],
   "source": [
    "\n",
    "\n",
    "# initia\n",
    "transition_noise_dist = lgssm.MultivariateNormal(jnp.zeros(state_dim), transition_noise)\n",
    "\n",
    "observation_noise_dist = lgssm.MultivariateNormal(jnp.zeros(observation_dim), observation_noise)\n",
    "\n",
    "initial_state_prior_dist = lgssm.MultivariateNormal(mu0, Sigma0)\n",
    "\n",
    "kf_model = lgssm.LinearGaussianStateSpaceModel(\n",
    "    transition_matrix, transition_noise_dist,\n",
    "    observation_matrix, observation_noise_dist,\n",
    "    initial_state_prior_dist\n",
    ")"
   ]
  },
  {
   "cell_type": "code",
   "execution_count": 259,
   "id": "7502ca2a-d134-478a-a7fb-41e5d7712606",
   "metadata": {},
   "outputs": [
    {
     "name": "stdout",
     "output_type": "stream",
     "text": [
      "CPU times: user 361 ms, sys: 6.23 ms, total: 367 ms\n",
      "Wall time: 365 ms\n"
     ]
    },
    {
     "data": {
      "text/plain": [
       "((50, 2), (50, 2, 2))"
      ]
     },
     "execution_count": 259,
     "metadata": {},
     "output_type": "execute_result"
    }
   ],
   "source": [
    "%%time\n",
    "\n",
    "log_probs, mus, sigmas, mus_cond, sigmas_cond = kf_model.forward_filter(obs_samples[0])\n",
    "\n",
    "\n",
    "mus.shape, sigmas.shape"
   ]
  },
  {
   "cell_type": "code",
   "execution_count": 261,
   "id": "e2275c65-df8e-4a19-afab-3726bc3d049b",
   "metadata": {},
   "outputs": [
    {
     "data": {
      "image/png": "[encoded data removed]",
      "text/plain": [
       "<Figure size 432x288 with 1 Axes>"
      ]
     },
     "metadata": {
      "needs_background": "light"
     },
     "output_type": "display_data"
    }
   ],
   "source": [
    "fig, ax = plt.subplots()\n",
    "\n",
    "\n",
    "ax.scatter(ts[0], obs_samples[0], color=\"red\", label=\"Observations\")\n",
    "ax.plot(ts[0], mus[:, 0], label=\"State (Filtered)\", linestyle=\"--\")\n",
    "\n",
    "ax.set(xlabel=\"Time\", ylabel=\"Signal\")\n",
    "\n",
    "plt.legend()\n",
    "plt.show()"
   ]
  },
  {
   "cell_type": "code",
   "execution_count": 263,
   "id": "2b10fb1b-df6d-4f4d-93db-18e6831d5732",
   "metadata": {},
   "outputs": [
    {
     "data": {
      "image/png": "[encoded data removed]",
      "text/plain": [
       "<Figure size 432x288 with 1 Axes>"
      ]
     },
     "metadata": {
      "needs_background": "light"
     },
     "output_type": "display_data"
    }
   ],
   "source": [
    "fig, ax = plt.subplots()\n",
    "\n",
    "\n",
    "ax.scatter(ts[0], obs_samples[0], color=\"red\", label=\"Observations\")\n",
    "ax.plot(ts[0], mus_cond[:, 0], label=\"State (Filtered)\", linestyle=\"--\")\n",
    "\n",
    "ax.set(xlabel=\"Time\", ylabel=\"Signal\")\n",
    "\n",
    "plt.legend()\n",
    "plt.show()"
   ]
  },
  {
   "cell_type": "code",
   "execution_count": 19,
   "id": "ae636607-9bf0-496a-a164-dc41dbe715be",
   "metadata": {},
   "outputs": [
    {
     "data": {
      "text/plain": [
       "((2,), (1,))"
      ]
     },
     "execution_count": 19,
     "metadata": {},
     "output_type": "execute_result"
    }
   ],
   "source": [
    "state.shape, obs.shape"
   ]
  },
  {
   "cell_type": "code",
   "execution_count": 20,
   "id": "9ad2729c-45d8-44c8-8e32-e8ef60fe0788",
   "metadata": {},
   "outputs": [
    {
     "ename": "NameError",
     "evalue": "name 'sample_keys' is not defined",
     "output_type": "error",
     "traceback": [
      "\u001b[0;31m---------------------------------------------------------------------------\u001b[0m",
      "\u001b[0;31mNameError\u001b[0m                                 Traceback (most recent call last)",
      "\u001b[0;32m/var/folders/k9/_v6ywhvj0nq36tpttd3j4mq80000gn/T/ipykernel_63155/1740660422.py\u001b[0m in \u001b[0;36m<module>\u001b[0;34m\u001b[0m\n\u001b[1;32m      4\u001b[0m \u001b[0mstate\u001b[0m \u001b[0;34m=\u001b[0m \u001b[0mstate_init\u001b[0m\u001b[0;34m\u001b[0m\u001b[0;34m\u001b[0m\u001b[0m\n\u001b[1;32m      5\u001b[0m \u001b[0;34m\u001b[0m\u001b[0m\n\u001b[0;32m----> 6\u001b[0;31m \u001b[0;32mfor\u001b[0m \u001b[0mi_step\u001b[0m \u001b[0;32min\u001b[0m \u001b[0mtqdm\u001b[0m\u001b[0;34m(\u001b[0m\u001b[0msample_keys\u001b[0m\u001b[0;34m)\u001b[0m\u001b[0;34m:\u001b[0m\u001b[0;34m\u001b[0m\u001b[0;34m\u001b[0m\u001b[0m\n\u001b[0m\u001b[1;32m      7\u001b[0m \u001b[0;34m\u001b[0m\u001b[0m\n\u001b[1;32m      8\u001b[0m     \u001b[0;31m# kalman step\u001b[0m\u001b[0;34m\u001b[0m\u001b[0;34m\u001b[0m\u001b[0m\n",
      "\u001b[0;31mNameError\u001b[0m: name 'sample_keys' is not defined"
     ]
    }
   ],
   "source": [
    "# initialize states\n",
    "all_states, all_obs = [], []\n",
    "\n",
    "state = state_init\n",
    "\n",
    "for i_step in tqdm(sample_keys):\n",
    "    \n",
    "    # kalman step\n",
    "    state, (state, obs) = kf_model.sample_step(state, i_step)\n",
    "    \n",
    "    # append\n",
    "    all_states.append(state)\n",
    "    all_obs.append(obs)\n",
    "    \n",
    "\n",
    "all_states = jnp.vstack(all_states)\n",
    "all_obs = jnp.vstack(all_obs)"
   ]
  },
  {
   "cell_type": "code",
   "execution_count": 21,
   "id": "1d821403-e9eb-4fe2-b3a9-e2f0b62cf0c1",
   "metadata": {},
   "outputs": [
    {
     "ename": "TypeError",
     "evalue": "list indices must be integers or slices, not tuple",
     "output_type": "error",
     "traceback": [
      "\u001b[0;31m---------------------------------------------------------------------------\u001b[0m",
      "\u001b[0;31mTypeError\u001b[0m                                 Traceback (most recent call last)",
      "\u001b[0;32m/var/folders/k9/_v6ywhvj0nq36tpttd3j4mq80000gn/T/ipykernel_63155/859695217.py\u001b[0m in \u001b[0;36m<module>\u001b[0;34m\u001b[0m\n\u001b[1;32m      1\u001b[0m \u001b[0mfig\u001b[0m\u001b[0;34m,\u001b[0m \u001b[0max\u001b[0m \u001b[0;34m=\u001b[0m \u001b[0mplt\u001b[0m\u001b[0;34m.\u001b[0m\u001b[0msubplots\u001b[0m\u001b[0;34m(\u001b[0m\u001b[0;34m)\u001b[0m\u001b[0;34m\u001b[0m\u001b[0;34m\u001b[0m\u001b[0m\n\u001b[1;32m      2\u001b[0m \u001b[0;34m\u001b[0m\u001b[0m\n\u001b[0;32m----> 3\u001b[0;31m \u001b[0max\u001b[0m\u001b[0;34m.\u001b[0m\u001b[0mplot\u001b[0m\u001b[0;34m(\u001b[0m\u001b[0mtime_steps\u001b[0m\u001b[0;34m,\u001b[0m \u001b[0mall_states\u001b[0m\u001b[0;34m[\u001b[0m\u001b[0;34m:\u001b[0m\u001b[0;34m,\u001b[0m \u001b[0;36m0\u001b[0m\u001b[0;34m]\u001b[0m\u001b[0;34m,\u001b[0m \u001b[0mlabel\u001b[0m\u001b[0;34m=\u001b[0m\u001b[0;34m\"True State\"\u001b[0m\u001b[0;34m,\u001b[0m \u001b[0mcolor\u001b[0m\u001b[0;34m=\u001b[0m\u001b[0;34m\"green\"\u001b[0m\u001b[0;34m)\u001b[0m\u001b[0;34m\u001b[0m\u001b[0;34m\u001b[0m\u001b[0m\n\u001b[0m\u001b[1;32m      4\u001b[0m \u001b[0max\u001b[0m\u001b[0;34m.\u001b[0m\u001b[0mscatter\u001b[0m\u001b[0;34m(\u001b[0m\u001b[0mtime_steps\u001b[0m\u001b[0;34m,\u001b[0m \u001b[0mall_obs\u001b[0m\u001b[0;34m,\u001b[0m \u001b[0mlabel\u001b[0m\u001b[0;34m=\u001b[0m\u001b[0;34m\"Observations\"\u001b[0m\u001b[0;34m,\u001b[0m \u001b[0mcolor\u001b[0m\u001b[0;34m=\u001b[0m\u001b[0;34m\"red\"\u001b[0m\u001b[0;34m,\u001b[0m \u001b[0malpha\u001b[0m\u001b[0;34m=\u001b[0m\u001b[0;36m0.4\u001b[0m\u001b[0;34m)\u001b[0m\u001b[0;34m\u001b[0m\u001b[0;34m\u001b[0m\u001b[0m\n\u001b[1;32m      5\u001b[0m \u001b[0;34m\u001b[0m\u001b[0m\n",
      "\u001b[0;31mTypeError\u001b[0m: list indices must be integers or slices, not tuple"
     ]
    },
    {
     "data": {
      "image/png": "[encoded data removed]",
      "text/plain": [
       "<Figure size 432x288 with 1 Axes>"
      ]
     },
     "metadata": {
      "needs_background": "light"
     },
     "output_type": "display_data"
    }
   ],
   "source": [
    "fig, ax = plt.subplots()\n",
    "\n",
    "ax.plot(time_steps, all_states[:, 0], label=\"True State\", color=\"green\")\n",
    "ax.scatter(time_steps, all_obs, label=\"Observations\", color=\"red\", alpha=0.4)\n",
    "\n",
    "plt.legend()\n",
    "plt.show()"
   ]
  },
  {
   "cell_type": "code",
   "execution_count": null,
   "id": "e9fc9092-ec26-4acf-84ff-2c25cc02ed57",
   "metadata": {},
   "outputs": [],
   "source": []
  },
  {
   "cell_type": "code",
   "execution_count": 112,
   "id": "71b56d5b-7a39-444d-b1d5-94f77316c257",
   "metadata": {},
   "outputs": [
    {
     "data": {
      "text/plain": [
       "((1, 100, 2), (10, 100, 1))"
      ]
     },
     "execution_count": 112,
     "metadata": {},
     "output_type": "execute_result"
    }
   ],
   "source": [
    "num_time_steps = 100\n",
    "\n",
    "all_states, all_obs = kf_model.sample(seed=123, sample_shape=10, num_timesteps=num_time_steps)\n",
    "states.shape, all_obs.shape"
   ]
  },
  {
   "cell_type": "code",
   "execution_count": 117,
   "id": "a9ab92de-f9ec-4264-9a17-ed829b6ea3c3",
   "metadata": {},
   "outputs": [
    {
     "data": {
      "image/png": "[encoded data removed]",
      "text/plain": [
       "<Figure size 432x288 with 1 Axes>"
      ]
     },
     "metadata": {
      "needs_background": "light"
     },
     "output_type": "display_data"
    }
   ],
   "source": [
    "fig, ax = plt.subplots()\n",
    "\n",
    "ax.plot(time_steps, all_states[3, :, 0], label=\"True State\")\n",
    "ax.scatter(time_steps, all_obs[3, :, 0], label=\"Observations\")\n",
    "\n",
    "plt.legend()\n",
    "plt.show()"
   ]
  },
  {
   "cell_type": "code",
   "execution_count": 100,
   "id": "197839b8-0433-4322-bf9a-b1af468e980e",
   "metadata": {},
   "outputs": [
    {
     "data": {
      "text/plain": [
       "(2,)"
      ]
     },
     "execution_count": 100,
     "metadata": {},
     "output_type": "execute_result"
    }
   ],
   "source": [
    "mu0.shape"
   ]
  },
  {
   "cell_type": "code",
   "execution_count": 130,
   "id": "5512748d-6eec-4e7b-b526-e266ca666a73",
   "metadata": {},
   "outputs": [
    {
     "name": "stdout",
     "output_type": "stream",
     "text": [
      "(2,) (2, 1) (1,)\n"
     ]
    },
    {
     "ename": "TypeError",
     "evalue": "dot_general requires contracting dimensions to have the same shape, got [1] and [2].",
     "output_type": "error",
     "traceback": [
      "\u001b[0;31m---------------------------------------------------------------------------\u001b[0m",
      "\u001b[0;31mTypeError\u001b[0m                                 Traceback (most recent call last)",
      "\u001b[0;32m/var/folders/k9/_v6ywhvj0nq36tpttd3j4mq80000gn/T/ipykernel_69136/3834741429.py\u001b[0m in \u001b[0;36m<module>\u001b[0;34m\u001b[0m\n\u001b[0;32m----> 1\u001b[0;31m \u001b[0mkf_model\u001b[0m\u001b[0;34m.\u001b[0m\u001b[0msample_step\u001b[0m\u001b[0;34m(\u001b[0m\u001b[0mmu0\u001b[0m\u001b[0;34m,\u001b[0m \u001b[0mkey\u001b[0m\u001b[0;34m)\u001b[0m\u001b[0;34m\u001b[0m\u001b[0;34m\u001b[0m\u001b[0m\n\u001b[0m",
      "\u001b[0;32m~/code_projects/jaxkf/jaxkf/jax/jaxkf/_src/lgssm.py\u001b[0m in \u001b[0;36msample_step\u001b[0;34m(self, state_t, key)\u001b[0m\n\u001b[1;32m    179\u001b[0m         \u001b[0mstate_next\u001b[0m \u001b[0;34m=\u001b[0m \u001b[0mstate_mean_next\u001b[0m \u001b[0;34m+\u001b[0m \u001b[0mstate_noise\u001b[0m\u001b[0;34m\u001b[0m\u001b[0;34m\u001b[0m\u001b[0m\n\u001b[1;32m    180\u001b[0m         \u001b[0mprint\u001b[0m\u001b[0;34m(\u001b[0m\u001b[0mstate_next\u001b[0m\u001b[0;34m.\u001b[0m\u001b[0mshape\u001b[0m\u001b[0;34m,\u001b[0m \u001b[0mself\u001b[0m\u001b[0;34m.\u001b[0m\u001b[0mobservation_matrix\u001b[0m\u001b[0;34m.\u001b[0m\u001b[0mshape\u001b[0m\u001b[0;34m,\u001b[0m \u001b[0mobs_noise\u001b[0m\u001b[0;34m.\u001b[0m\u001b[0mshape\u001b[0m\u001b[0;34m)\u001b[0m\u001b[0;34m\u001b[0m\u001b[0;34m\u001b[0m\u001b[0m\n\u001b[0;32m--> 181\u001b[0;31m         \u001b[0mobs_next\u001b[0m \u001b[0;34m=\u001b[0m \u001b[0mself\u001b[0m\u001b[0;34m.\u001b[0m\u001b[0mobservation_matrix\u001b[0m \u001b[0;34m@\u001b[0m \u001b[0mstate_next\u001b[0m \u001b[0;34m+\u001b[0m \u001b[0mobs_noise\u001b[0m\u001b[0;34m\u001b[0m\u001b[0;34m\u001b[0m\u001b[0m\n\u001b[0m\u001b[1;32m    182\u001b[0m \u001b[0;34m\u001b[0m\u001b[0m\n\u001b[1;32m    183\u001b[0m         \u001b[0;32mreturn\u001b[0m \u001b[0mstate_next\u001b[0m\u001b[0;34m,\u001b[0m \u001b[0;34m(\u001b[0m\u001b[0mstate_next\u001b[0m\u001b[0;34m,\u001b[0m \u001b[0mobs_next\u001b[0m\u001b[0;34m)\u001b[0m\u001b[0;34m\u001b[0m\u001b[0;34m\u001b[0m\u001b[0m\n",
      "\u001b[0;32m~/miniconda3/envs/jax_gf/lib/python3.9/site-packages/jax/_src/numpy/lax_numpy.py\u001b[0m in \u001b[0;36mdeferring_binary_op\u001b[0;34m(self, other)\u001b[0m\n\u001b[1;32m   6551\u001b[0m     \u001b[0;32mif\u001b[0m \u001b[0;32mnot\u001b[0m \u001b[0misinstance\u001b[0m\u001b[0;34m(\u001b[0m\u001b[0mother\u001b[0m\u001b[0;34m,\u001b[0m \u001b[0m_accepted_binop_types\u001b[0m\u001b[0;34m)\u001b[0m\u001b[0;34m:\u001b[0m\u001b[0;34m\u001b[0m\u001b[0;34m\u001b[0m\u001b[0m\n\u001b[1;32m   6552\u001b[0m       \u001b[0;32mreturn\u001b[0m \u001b[0mNotImplemented\u001b[0m\u001b[0;34m\u001b[0m\u001b[0;34m\u001b[0m\u001b[0m\n\u001b[0;32m-> 6553\u001b[0;31m     \u001b[0;32mreturn\u001b[0m \u001b[0mbinary_op\u001b[0m\u001b[0;34m(\u001b[0m\u001b[0mself\u001b[0m\u001b[0;34m,\u001b[0m \u001b[0mother\u001b[0m\u001b[0;34m)\u001b[0m\u001b[0;34m\u001b[0m\u001b[0;34m\u001b[0m\u001b[0m\n\u001b[0m\u001b[1;32m   6554\u001b[0m   \u001b[0;32mreturn\u001b[0m \u001b[0mdeferring_binary_op\u001b[0m\u001b[0;34m\u001b[0m\u001b[0;34m\u001b[0m\u001b[0m\n\u001b[1;32m   6555\u001b[0m \u001b[0;34m\u001b[0m\u001b[0m\n",
      "    \u001b[0;31m[... skipping hidden 13 frame]\u001b[0m\n",
      "\u001b[0;32m~/miniconda3/envs/jax_gf/lib/python3.9/site-packages/jax/_src/numpy/lax_numpy.py\u001b[0m in \u001b[0;36mmatmul\u001b[0;34m(a, b, precision)\u001b[0m\n\u001b[1;32m   4829\u001b[0m   \u001b[0ma\u001b[0m \u001b[0;34m=\u001b[0m \u001b[0mlax\u001b[0m\u001b[0;34m.\u001b[0m\u001b[0msqueeze\u001b[0m\u001b[0;34m(\u001b[0m\u001b[0ma\u001b[0m\u001b[0;34m,\u001b[0m \u001b[0mtuple\u001b[0m\u001b[0;34m(\u001b[0m\u001b[0ma_squeeze\u001b[0m\u001b[0;34m)\u001b[0m\u001b[0;34m)\u001b[0m\u001b[0;34m\u001b[0m\u001b[0;34m\u001b[0m\u001b[0m\n\u001b[1;32m   4830\u001b[0m   \u001b[0mb\u001b[0m \u001b[0;34m=\u001b[0m \u001b[0mlax\u001b[0m\u001b[0;34m.\u001b[0m\u001b[0msqueeze\u001b[0m\u001b[0;34m(\u001b[0m\u001b[0mb\u001b[0m\u001b[0;34m,\u001b[0m \u001b[0mtuple\u001b[0m\u001b[0;34m(\u001b[0m\u001b[0mb_squeeze\u001b[0m\u001b[0;34m)\u001b[0m\u001b[0;34m)\u001b[0m\u001b[0;34m\u001b[0m\u001b[0;34m\u001b[0m\u001b[0m\n\u001b[0;32m-> 4831\u001b[0;31m   out = lax.dot_general(\n\u001b[0m\u001b[1;32m   4832\u001b[0m     \u001b[0ma\u001b[0m\u001b[0;34m,\u001b[0m \u001b[0mb\u001b[0m\u001b[0;34m,\u001b[0m \u001b[0;34m(\u001b[0m\u001b[0;34m(\u001b[0m\u001b[0;34m(\u001b[0m\u001b[0mndim\u001b[0m\u001b[0;34m(\u001b[0m\u001b[0ma\u001b[0m\u001b[0;34m)\u001b[0m \u001b[0;34m-\u001b[0m \u001b[0;36m1\u001b[0m\u001b[0;34m,\u001b[0m\u001b[0;34m)\u001b[0m\u001b[0;34m,\u001b[0m \u001b[0;34m(\u001b[0m\u001b[0mndim\u001b[0m\u001b[0;34m(\u001b[0m\u001b[0mb\u001b[0m\u001b[0;34m)\u001b[0m \u001b[0;34m-\u001b[0m \u001b[0;36m1\u001b[0m \u001b[0;34m-\u001b[0m \u001b[0mb_is_mat\u001b[0m\u001b[0;34m,\u001b[0m\u001b[0;34m)\u001b[0m\u001b[0;34m)\u001b[0m\u001b[0;34m,\u001b[0m \u001b[0;34m(\u001b[0m\u001b[0ma_batch\u001b[0m\u001b[0;34m,\u001b[0m \u001b[0mb_batch\u001b[0m\u001b[0;34m)\u001b[0m\u001b[0;34m)\u001b[0m\u001b[0;34m,\u001b[0m\u001b[0;34m\u001b[0m\u001b[0;34m\u001b[0m\u001b[0m\n\u001b[1;32m   4833\u001b[0m     precision=precision)\n",
      "    \u001b[0;31m[... skipping hidden 4 frame]\u001b[0m\n",
      "\u001b[0;32m~/miniconda3/envs/jax_gf/lib/python3.9/site-packages/jax/_src/lax/lax.py\u001b[0m in \u001b[0;36m_dot_general_shape_rule\u001b[0;34m(lhs, rhs, dimension_numbers, precision, preferred_element_type)\u001b[0m\n\u001b[1;32m   3435\u001b[0m     msg = (\"dot_general requires contracting dimensions to have the same \"\n\u001b[1;32m   3436\u001b[0m            \"shape, got {} and {}.\")\n\u001b[0;32m-> 3437\u001b[0;31m     \u001b[0;32mraise\u001b[0m \u001b[0mTypeError\u001b[0m\u001b[0;34m(\u001b[0m\u001b[0mmsg\u001b[0m\u001b[0;34m.\u001b[0m\u001b[0mformat\u001b[0m\u001b[0;34m(\u001b[0m\u001b[0mlhs_contracting_shape\u001b[0m\u001b[0;34m,\u001b[0m \u001b[0mrhs_contracting_shape\u001b[0m\u001b[0;34m)\u001b[0m\u001b[0;34m)\u001b[0m\u001b[0;34m\u001b[0m\u001b[0;34m\u001b[0m\u001b[0m\n\u001b[0m\u001b[1;32m   3438\u001b[0m \u001b[0;34m\u001b[0m\u001b[0m\n\u001b[1;32m   3439\u001b[0m   \u001b[0;32mreturn\u001b[0m \u001b[0m_dot_general_shape_computation\u001b[0m\u001b[0;34m(\u001b[0m\u001b[0mlhs\u001b[0m\u001b[0;34m.\u001b[0m\u001b[0mshape\u001b[0m\u001b[0;34m,\u001b[0m \u001b[0mrhs\u001b[0m\u001b[0;34m.\u001b[0m\u001b[0mshape\u001b[0m\u001b[0;34m,\u001b[0m \u001b[0mdimension_numbers\u001b[0m\u001b[0;34m)\u001b[0m\u001b[0;34m\u001b[0m\u001b[0;34m\u001b[0m\u001b[0m\n",
      "\u001b[0;31mTypeError\u001b[0m: dot_general requires contracting dimensions to have the same shape, got [1] and [2]."
     ]
    }
   ],
   "source": [
    "kf_model.sample_step(mu0, key)"
   ]
  },
  {
   "cell_type": "markdown",
   "id": "24e227ad-84a4-4a88-aabc-e0db3dd19127",
   "metadata": {},
   "source": [
    "---"
   ]
  },
  {
   "cell_type": "markdown",
   "id": "0fb9cc76-26ff-4758-88d5-5d5f0d0ae26d",
   "metadata": {},
   "source": [
    "## Filtering\n",
    "\n",
    "1. Do Forward Filter for a batch of inputs\n",
    "2. Init prior mean, cov\n",
    "3. Loop Through Kalman Step (mu0, cov0)"
   ]
  },
  {
   "cell_type": "code",
   "execution_count": 11,
   "id": "f75328e6-a868-4e17-b300-c392d439dd56",
   "metadata": {},
   "outputs": [],
   "source": [
    "from jaxkf._src.functional.ops import kalman_step"
   ]
  },
  {
   "cell_type": "code",
   "execution_count": 14,
   "id": "eebc7ab9-a376-4b6d-aec9-1e538c933e0c",
   "metadata": {},
   "outputs": [
    {
     "ename": "SyntaxError",
     "evalue": "invalid syntax (2776370347.py, line 12)",
     "output_type": "error",
     "traceback": [
      "\u001b[0;36m  File \u001b[0;32m\"/var/folders/k9/_v6ywhvj0nq36tpttd3j4mq80000gn/T/ipykernel_23453/2776370347.py\"\u001b[0;36m, line \u001b[0;32m12\u001b[0m\n\u001b[0;31m    pass\u001b[0m\n\u001b[0m    ^\u001b[0m\n\u001b[0;31mSyntaxError\u001b[0m\u001b[0;31m:\u001b[0m invalid syntax\n"
     ]
    }
   ],
   "source": [
    "num_time_steps = 15\n",
    "\n",
    "states_preds, states_corrs = [], []\n",
    "\n",
    "for i_t_step in trange(num_time_steps):\n",
    "    \n",
    "    # kalman step\n",
    "    state_pred, state_corrected = kalman_step(\n",
    "    \n",
    "    pass"
   ]
  },
  {
   "cell_type": "markdown",
   "id": "d30938fa-482a-4f3e-acb3-220e66c5653e",
   "metadata": {},
   "source": [
    "### Kalman Filter Step"
   ]
  },
  {
   "cell_type": "code",
   "execution_count": null,
   "id": "c8244243-eeb1-4ba7-a4a4-fb9405e25e08",
   "metadata": {},
   "outputs": [],
   "source": []
  },
  {
   "cell_type": "code",
   "execution_count": null,
   "id": "74a9d7a7-92d9-44ff-9bde-0c4e8e6062ab",
   "metadata": {},
   "outputs": [],
   "source": []
  },
  {
   "cell_type": "markdown",
   "id": "5c32f662-76de-4790-a9b7-17d4050941ed",
   "metadata": {},
   "source": [
    "### Predict Step"
   ]
  },
  {
   "cell_type": "code",
   "execution_count": null,
   "id": "71b976d9-c4c4-4a92-a20f-0ac1ac67a7aa",
   "metadata": {},
   "outputs": [],
   "source": []
  },
  {
   "cell_type": "markdown",
   "id": "93723372-8c99-4ae6-957a-033ef4cf7434",
   "metadata": {},
   "source": [
    "## Smoothing"
   ]
  },
  {
   "cell_type": "code",
   "execution_count": null,
   "id": "a9f84a55-29e5-4e5a-b8f3-7edfc8bee07d",
   "metadata": {},
   "outputs": [],
   "source": []
  },
  {
   "cell_type": "markdown",
   "id": "72402d67-e64c-4b23-933a-8ae3ff645187",
   "metadata": {},
   "source": [
    "### Posterior Marginals (Alternative)"
   ]
  },
  {
   "cell_type": "code",
   "execution_count": null,
   "id": "2d01c6b9-ca49-4b2c-b95c-7565e2b69083",
   "metadata": {},
   "outputs": [],
   "source": []
  },
  {
   "cell_type": "markdown",
   "id": "9a2cb65e-d236-49ba-9479-198fd828f699",
   "metadata": {},
   "source": [
    "## Log Probability"
   ]
  },
  {
   "cell_type": "code",
   "execution_count": null,
   "id": "f939f6be-03e3-45c9-a829-e93fec839903",
   "metadata": {},
   "outputs": [],
   "source": []
  },
  {
   "cell_type": "code",
   "execution_count": null,
   "id": "3858bd2d-654b-4542-a0b3-bd84d4497c89",
   "metadata": {},
   "outputs": [],
   "source": []
  },
  {
   "cell_type": "code",
   "execution_count": null,
   "id": "02912496-8e61-4b0d-bb23-9600c3a43915",
   "metadata": {},
   "outputs": [],
   "source": []
  },
  {
   "cell_type": "markdown",
   "id": "19dc5bf3-3756-4039-b571-91923092e5cf",
   "metadata": {},
   "source": [
    "## Model"
   ]
  },
  {
   "cell_type": "code",
   "execution_count": 9,
   "id": "04e05afe-767f-4b81-9762-51cda747d016",
   "metadata": {},
   "outputs": [],
   "source": []
  },
  {
   "cell_type": "code",
   "execution_count": 10,
   "id": "d824d633-5379-479c-82a3-ebf364376e68",
   "metadata": {},
   "outputs": [
    {
     "name": "stderr",
     "output_type": "stream",
     "text": [
      "WARNING:absl:No GPU/TPU found, falling back to CPU. (Set TF_CPP_MIN_LOG_LEVEL=0 and rerun for more info.)\n"
     ]
    }
   ],
   "source": []
  },
  {
   "cell_type": "code",
   "execution_count": 11,
   "id": "4d87f045-7a73-4309-8999-c0626046a0be",
   "metadata": {},
   "outputs": [],
   "source": []
  },
  {
   "cell_type": "markdown",
   "id": "5c374292-5016-4478-9c3b-ea1f904651f6",
   "metadata": {},
   "source": [
    "##### Initialize Parameters"
   ]
  },
  {
   "cell_type": "code",
   "execution_count": 12,
   "id": "259f40c6-6795-4225-93c5-de77ae9ffea9",
   "metadata": {},
   "outputs": [],
   "source": [
    "kf_params = KFParams(\n",
    "    F=F, R=R,\n",
    "    H=H, Q=Q\n",
    ")"
   ]
  },
  {
   "cell_type": "markdown",
   "id": "ac81041b-19ac-4e2f-a539-bb051e30a99b",
   "metadata": {},
   "source": [
    "## State"
   ]
  },
  {
   "cell_type": "code",
   "execution_count": 13,
   "id": "8ef3ada5-806c-4570-b058-b8974734596a",
   "metadata": {},
   "outputs": [],
   "source": [
    "class State(NamedTuple):\n",
    "    mu_t: jnp.ndarray\n",
    "    Sigma_t: jnp.ndarray\n",
    "    t: int"
   ]
  },
  {
   "cell_type": "code",
   "execution_count": 14,
   "id": "b10d24fe-0933-4104-88df-e2b751686471",
   "metadata": {},
   "outputs": [],
   "source": [
    "# init state\n",
    "init_mean = jnp.array([2., 0.])\n",
    "init_cov = jnp.eye(init_mean.shape[0])\n",
    "\n",
    "assert init_mean.shape == (state_dim,)\n",
    "assert init_cov.shape == (state_dim, state_dim)"
   ]
  },
  {
   "cell_type": "markdown",
   "id": "1d35d49b-2959-44ef-babc-52c006df47e7",
   "metadata": {},
   "source": [
    "##### Initialize"
   ]
  },
  {
   "cell_type": "code",
   "execution_count": 16,
   "id": "fbe89e9e-3062-4484-bb52-425a7ea5fe1f",
   "metadata": {},
   "outputs": [],
   "source": [
    "init_state = State(\n",
    "    mu_t=init_mean,\n",
    "    Sigma_t=init_cov,\n",
    "    t=0\n",
    ")"
   ]
  },
  {
   "cell_type": "markdown",
   "id": "f9141c91-e0d1-4319-9685-e9f09fa1d551",
   "metadata": {},
   "source": [
    "## Sampling"
   ]
  },
  {
   "cell_type": "markdown",
   "id": "c3afbe11-f685-4c60-aecc-efa43a64b7f5",
   "metadata": {},
   "source": [
    "\n",
    "\n",
    "1. Sample from the initial state\n",
    "\n",
    "$$\n",
    "\\mathbf{x_0} \\sim \\mathcal{N}(\\boldsymbol{\\mu}_0, \\boldsymbol{\\Sigma}_0; \\text{key})\n",
    "$$\n"
   ]
  },
  {
   "cell_type": "code",
   "execution_count": 24,
   "id": "556435b6-0cc5-4af6-8331-69fb68c2c5aa",
   "metadata": {},
   "outputs": [],
   "source": [
    "key = jax.random.PRNGKey(314)\n",
    "\n",
    "\n",
    "# sample from initial state\n",
    "x0_key, key = split(key, 2)\n",
    "\n",
    "state_t = multivariate_normal(key=x0_key, mean=init_mean, cov=init_cov)\n"
   ]
  },
  {
   "cell_type": "code",
   "execution_count": null,
   "id": "0d4c1bcb-65d5-487d-bccf-b4414bab17bd",
   "metadata": {},
   "outputs": [],
   "source": [
    "def sample_step(key, state, params, n_samples=1):\n",
    "    \n",
    "    xt_key, trans_key, obs_key = split(key, 3)\n",
    "    \n",
    "    # unroll state\n",
    "    mu_t = init_state.mu_t\n",
    "    sigma_t = init_state.Sigma_t\n",
    "    \n",
    "    # unroll params\n",
    "    F = params.F\n",
    "    R = params.R\n",
    "    H = params.H\n",
    "    Q = params.Q\n",
    "    \n",
    "    \n",
    "    state_t = multivariate_normal(key=x0_key, mean=mu_t, cov=Sigma_0)\n",
    "    \n",
    "    # new state\n",
    "    \n",
    "    \n",
    "    return key"
   ]
  },
  {
   "cell_type": "code",
   "execution_count": 25,
   "id": "840f1d96-16f4-49b0-b5c7-c36fbae4bd76",
   "metadata": {},
   "outputs": [],
   "source": [
    "def sample(key, init_state, params, n_samples=1):\n",
    "    \"\"\"Sample states\"\"\"\n",
    "    , key = split(key, 2)\n",
    "    \n",
    "    mu_0 = init_state.mu_t\n",
    "    Sigma_0 = init_state.Sigma_t\n",
    "    t = init_state.t\n",
    "    \n",
    "    state_t = multivariate_normal(key=x0_key, mean=mu_0, cov=Sigma_0)\n",
    "    \n",
    "    \n",
    "    pass"
   ]
  },
  {
   "cell_type": "code",
   "execution_count": 27,
   "id": "45785290-58e4-4940-a52d-0c8e35f17328",
   "metadata": {},
   "outputs": [],
   "source": [
    "sample(key, init_state, kf_params)"
   ]
  },
  {
   "cell_type": "code",
   "execution_count": null,
   "id": "29a0dae0-ca10-4461-b0a7-09e82c75e702",
   "metadata": {},
   "outputs": [],
   "source": []
  },
  {
   "cell_type": "code",
   "execution_count": null,
   "id": "061ee4dd-d5e4-485a-8ba5-4f173b65c7c5",
   "metadata": {},
   "outputs": [],
   "source": []
  },
  {
   "cell_type": "code",
   "execution_count": null,
   "id": "2848b194-e0d3-473f-bbd9-9309fa9bdfb7",
   "metadata": {},
   "outputs": [],
   "source": []
  },
  {
   "cell_type": "markdown",
   "id": "2ec31d5e-e90e-4931-8a54-a8b8bdabec7c",
   "metadata": {},
   "source": [
    "## Code Layout"
   ]
  },
  {
   "cell_type": "markdown",
   "id": "3698e70f-0cc0-4d3c-898c-8f176d26b7fc",
   "metadata": {},
   "source": [
    "\n",
    "\n",
    "```python\n",
    "class KFDist:\n",
    "    def __init__(self):\n",
    "        \"\"\"Initialize the parameters\"\"\"\n",
    "        pass\n",
    "    \n",
    "    def filter_states(self, obs):\n",
    "        \"\"\"Perform the filtering operation\n",
    "        p(x_{1:T}|y_{1:T})\n",
    "        \"\"\"\n",
    "        return None\n",
    "    \n",
    "    def log_prob(self, obs):\n",
    "        \"\"\"p(x_\"\"\"\n",
    "        return None\n",
    "    \n",
    "    def rsample(self, n_samples):\n",
    "        return None\n",
    "    \n",
    "```"
   ]
  },
  {
   "cell_type": "markdown",
   "id": "6bd54e3e-e777-4807-8329-c864588f1754",
   "metadata": {},
   "source": [
    "### State"
   ]
  },
  {
   "cell_type": "code",
   "execution_count": 4,
   "id": "d3c72e29-3300-4077-b81c-c669ea611ec4",
   "metadata": {},
   "outputs": [],
   "source": []
  },
  {
   "cell_type": "markdown",
   "id": "4e514911-043f-46dc-93f6-1b35637791a3",
   "metadata": {},
   "source": [
    "### Parameters"
   ]
  },
  {
   "cell_type": "code",
   "execution_count": 5,
   "id": "a31cc211-70f2-4d1b-8ac9-43bfbf62a9b9",
   "metadata": {},
   "outputs": [],
   "source": []
  },
  {
   "cell_type": "code",
   "execution_count": null,
   "id": "cf4c25b0-72ba-4bec-809c-a33be09f898f",
   "metadata": {},
   "outputs": [],
   "source": []
  },
  {
   "cell_type": "markdown",
   "id": "02057304-4dde-426e-920f-7f9a83ca8fbd",
   "metadata": {},
   "source": [
    "### Filter Function"
   ]
  },
  {
   "cell_type": "code",
   "execution_count": null,
   "id": "2e188286-f314-479c-9f21-b337fb686870",
   "metadata": {},
   "outputs": [],
   "source": [
    "# mu_t, sigma_t, x_t\n",
    "\n",
    "# get matrices\n",
    "A = "
   ]
  },
  {
   "cell_type": "code",
   "execution_count": null,
   "id": "1a151960-c663-4d0f-bc6e-ca92b1cdb925",
   "metadata": {},
   "outputs": [],
   "source": [
    "def kalman_step(mu_t, sigma_t, x_t)"
   ]
  },
  {
   "cell_type": "markdown",
   "id": "77f66571-5349-44f2-b0c1-90e6c3007127",
   "metadata": {},
   "source": [
    "### Sample Function"
   ]
  },
  {
   "cell_type": "code",
   "execution_count": null,
   "id": "0d526016-c987-469e-8b98-0d5aa904346c",
   "metadata": {},
   "outputs": [],
   "source": []
  },
  {
   "cell_type": "markdown",
   "id": "31c18f97-920b-4fc5-9330-14ec2f246372",
   "metadata": {},
   "source": [
    "### Training"
   ]
  },
  {
   "cell_type": "code",
   "execution_count": null,
   "id": "bd05aedf-f894-49a2-bab4-f14908930061",
   "metadata": {},
   "outputs": [],
   "source": [
    "import numpyro\n",
    "import numpyro.distributions"
   ]
  },
  {
   "cell_type": "code",
   "execution_count": null,
   "id": "f19a9205-8461-49a9-b705-d1a8d0383a9d",
   "metadata": {},
   "outputs": [],
   "source": [
    "def kf_model(obs):\n",
    "    \n",
    "    R = numpyro.sample(\"R\", dist"
   ]
  }
 ],
 "metadata": {
  "kernelspec": {
   "display_name": "Python [conda env:miniconda3-jax_gf]",
   "language": "python",
   "name": "conda-env-miniconda3-jax_gf-py"
  },
  "language_info": {
   "codemirror_mode": {
    "name": "ipython",
    "version": 3
   },
   "file_extension": ".py",
   "mimetype": "text/x-python",
   "name": "python",
   "nbconvert_exporter": "python",
   "pygments_lexer": "ipython3",
   "version": "3.9.7"
  }
 },
 "nbformat": 4,
 "nbformat_minor": 5
}
