{
 "cells": [
  {
   "cell_type": "markdown",
   "id": "fca35d72-0a11-42b5-b644-954f3498e3dd",
   "metadata": {},
   "source": [
    "# Kalman Filter (Pyro)"
   ]
  },
  {
   "cell_type": "markdown",
   "id": "27ccfad4-1938-4dda-9f3d-78abf19d5b56",
   "metadata": {},
   "source": [
    "In this notebook, we will be using the Kalman Filter version from the Pyro Library."
   ]
  },
  {
   "cell_type": "code",
   "execution_count": 2,
   "id": "b73a4f68-8d7c-4a3e-9aae-44a836d6fe44",
   "metadata": {},
   "outputs": [
    {
     "name": "stderr",
     "output_type": "stream",
     "text": [
      "Matplotlib is building the font cache; this may take a moment.\n"
     ]
    }
   ],
   "source": [
    "import math\n",
    "import torch\n",
    "import pyro\n",
    "import pyro.distributions as dist\n",
    "import pyro.poutine as poutine\n",
    "from pyro.contrib.examples.bart import load_bart_od\n",
    "from pyro.contrib.forecast import ForecastingModel, Forecaster, eval_crps\n",
    "from pyro.infer.reparam import LinearHMMReparam, StableReparam, SymmetricStableReparam\n",
    "from pyro.ops.tensor_utils import periodic_repeat\n",
    "from pyro.ops.stats import quantile\n",
    "import matplotlib.pyplot as plt"
   ]
  },
  {
   "cell_type": "markdown",
   "id": "5212cb70-8d68-440e-b051-2ec8334e006a",
   "metadata": {},
   "source": [
    "## Data"
   ]
  },
  {
   "cell_type": "code",
   "execution_count": 13,
   "id": "6601538d-3d58-4611-9f00-3104b52a7e37",
   "metadata": {},
   "outputs": [],
   "source": [
    "from pyro.contrib.tracking.dynamic_models import NcvContinuous\n",
    "\n",
    "dt = 1e-2\n",
    "num_frames = 10\n",
    "dim = 4\n",
    "\n",
    "# Continuous model\n",
    "ncv = NcvContinuous(dim, 2.0)\n",
    "\n",
    "# Truth trajectory\n",
    "xs_truth = torch.zeros(num_frames, dim)\n",
    "# initial direction\n",
    "theta0_truth = 0.0\n",
    "# initial state\n",
    "with torch.no_grad():\n",
    "    xs_truth[0, :] = torch.tensor([0.0, 0.0,  math.cos(theta0_truth), math.sin(theta0_truth)])\n",
    "    for frame_num in range(1, num_frames):\n",
    "        # sample independent process noise\n",
    "        dx = pyro.sample('process_noise_{}'.format(frame_num), ncv.process_noise_dist(dt))\n",
    "        xs_truth[frame_num, :] = ncv(xs_truth[frame_num-1, :], dt=dt) + dx"
   ]
  },
  {
   "cell_type": "code",
   "execution_count": 14,
   "id": "5ff54430-ba01-4444-9030-a9822ad263c1",
   "metadata": {},
   "outputs": [],
   "source": [
    "num_frames = 10\n",
    "\n",
    "# Measurements\n",
    "measurements = []\n",
    "mean = torch.zeros(2)\n",
    "# no correlations\n",
    "cov = 1e-5 * torch.eye(2)\n",
    "with torch.no_grad():\n",
    "    # sample independent measurement noise\n",
    "    dzs = pyro.sample('dzs', dist.MultivariateNormal(mean, cov).expand((num_frames,)))\n",
    "    # compute measurement means\n",
    "    zs = xs_truth[:, :2] + dzs"
   ]
  },
  {
   "cell_type": "code",
   "execution_count": 15,
   "id": "3f496668-6b71-4901-9260-8d64dbb640fb",
   "metadata": {},
   "outputs": [
    {
     "data": {
      "text/plain": [
       "[<matplotlib.lines.Line2D at 0x7f43706a3370>,\n",
       " <matplotlib.lines.Line2D at 0x7f43706a33a0>]"
      ]
     },
     "execution_count": 15,
     "metadata": {},
     "output_type": "execute_result"
    },
    {
     "data": {
      "image/png": "[encoded data removed]",
      "text/plain": [
       "<Figure size 432x288 with 1 Axes>"
      ]
     },
     "metadata": {
      "needs_background": "light"
     },
     "output_type": "display_data"
    }
   ],
   "source": [
    "plt.plot(zs)"
   ]
  },
  {
   "cell_type": "code",
   "execution_count": null,
   "id": "a25f80ba-1956-47de-a9e0-ee55b2e6562a",
   "metadata": {},
   "outputs": [],
   "source": []
  },
  {
   "cell_type": "markdown",
   "id": "a3a569bf-296b-48a5-a1a3-0170c90b34b3",
   "metadata": {},
   "source": [
    "## Model"
   ]
  },
  {
   "cell_type": "code",
   "execution_count": null,
   "id": "7d9b0a48-1bca-4be1-a0dc-12c1df7fad49",
   "metadata": {},
   "outputs": [],
   "source": []
  }
 ],
 "metadata": {
  "kernelspec": {
   "display_name": "Python [conda env:torch_cpu_py39]",
   "language": "python",
   "name": "conda-env-torch_cpu_py39-py"
  },
  "language_info": {
   "codemirror_mode": {
    "name": "ipython",
    "version": 3
   },
   "file_extension": ".py",
   "mimetype": "text/x-python",
   "name": "python",
   "nbconvert_exporter": "python",
   "pygments_lexer": "ipython3",
   "version": "3.9.7"
  }
 },
 "nbformat": 4,
 "nbformat_minor": 5
}
