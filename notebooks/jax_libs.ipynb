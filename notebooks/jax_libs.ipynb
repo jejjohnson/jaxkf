{
 "cells": [
  {
   "cell_type": "markdown",
   "id": "264114ce-aac9-491f-b0ca-f266bdee1b7e",
   "metadata": {},
   "source": [
    "## Main Packages"
   ]
  },
  {
   "cell_type": "code",
   "execution_count": 1,
   "id": "e9ce5656-b603-4048-9f5a-d8d0db599991",
   "metadata": {},
   "outputs": [],
   "source": [
    "import jax"
   ]
  },
  {
   "cell_type": "markdown",
   "id": "36b4671f-a4a8-4a8b-abec-3d9d9d02b4b7",
   "metadata": {},
   "source": [
    "#### Data"
   ]
  },
  {
   "cell_type": "code",
   "execution_count": 2,
   "id": "f8226348-b213-4fa5-8d8d-ca470e58f404",
   "metadata": {},
   "outputs": [],
   "source": [
    "import tensorflow_datasets as tfds"
   ]
  },
  {
   "cell_type": "markdown",
   "id": "5ca09dbe-ba83-4e97-bbca-750901af22a4",
   "metadata": {},
   "source": [
    "## GPs"
   ]
  },
  {
   "cell_type": "code",
   "execution_count": 3,
   "id": "58cb9ce6-1a17-4b7d-a6f5-0f490b8d414b",
   "metadata": {},
   "outputs": [],
   "source": [
    "# # import gpjax\n",
    "import numpyro\n",
    "import edward2 as ed"
   ]
  },
  {
   "cell_type": "markdown",
   "id": "ee59fbc3-358e-4907-915a-591c9ec36d7c",
   "metadata": {},
   "source": [
    "### Markovian GPs"
   ]
  },
  {
   "cell_type": "code",
   "execution_count": 4,
   "id": "9b79f8b7-7421-4a4d-ae25-3c2a2dcf583d",
   "metadata": {},
   "outputs": [],
   "source": [
    "import objax\n",
    "import bayesnewton"
   ]
  },
  {
   "cell_type": "markdown",
   "id": "dce87454-3de7-4831-9e81-387023f7c385",
   "metadata": {},
   "source": [
    "#### Probabilistic"
   ]
  },
  {
   "cell_type": "code",
   "execution_count": 5,
   "id": "a90943e9-043f-4047-92e2-0df59f2b3169",
   "metadata": {},
   "outputs": [],
   "source": [
    "import numpyro\n",
    "# import distrax\n",
    "import tensorflow_probability as tfp"
   ]
  },
  {
   "cell_type": "markdown",
   "id": "c3c31fb8-f9e0-460b-9c41-19c10a35c92d",
   "metadata": {},
   "source": [
    "### PyTrees"
   ]
  },
  {
   "cell_type": "code",
   "execution_count": 6,
   "id": "1c12d71b-88b4-4b44-963c-10e09ab83445",
   "metadata": {},
   "outputs": [],
   "source": [
    "import treeo, treex, chex"
   ]
  },
  {
   "cell_type": "markdown",
   "id": "39f9dc63-4caa-4b4e-ad1d-8f13c3e37439",
   "metadata": {},
   "source": [
    "#### Neural Networks"
   ]
  },
  {
   "cell_type": "code",
   "execution_count": 7,
   "id": "dcb139f4-fee1-449e-81e6-1ce2668e34a4",
   "metadata": {},
   "outputs": [],
   "source": [
    "import tensorflow as tf\n",
    "import flax\n",
    "import elegy\n",
    "import optax"
   ]
  },
  {
   "cell_type": "markdown",
   "id": "c556126f-e06a-472e-a073-9b439aefd77c",
   "metadata": {},
   "source": [
    "#### Utils"
   ]
  },
  {
   "cell_type": "code",
   "execution_count": 8,
   "id": "c4f8f5bc-fb4b-4a50-96fb-c54f20fe5b79",
   "metadata": {},
   "outputs": [],
   "source": [
    "import dm_pix\n",
    "import einops"
   ]
  },
  {
   "cell_type": "code",
   "execution_count": null,
   "id": "1ece7f2b-124c-45dd-8c35-7c02965b3690",
   "metadata": {},
   "outputs": [],
   "source": []
  }
 ],
 "metadata": {
  "kernelspec": {
   "display_name": "Python [conda env:miniconda3-sci_jax_py39]",
   "language": "python",
   "name": "conda-env-miniconda3-sci_jax_py39-py"
  },
  "language_info": {
   "codemirror_mode": {
    "name": "ipython",
    "version": 3
   },
   "file_extension": ".py",
   "mimetype": "text/x-python",
   "name": "python",
   "nbconvert_exporter": "python",
   "pygments_lexer": "ipython3",
   "version": "3.9.7"
  }
 },
 "nbformat": 4,
 "nbformat_minor": 5
}
