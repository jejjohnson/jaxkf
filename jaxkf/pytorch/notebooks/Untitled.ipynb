{
 "cells": [
  {
   "cell_type": "code",
   "execution_count": null,
   "id": "5b143518-a5d6-48b5-a329-89f437e37aac",
   "metadata": {},
   "outputs": [],
   "source": []
  }
 ],
 "metadata": {
  "kernelspec": {
   "display_name": "Python [conda env:.conda-torch_cpu_py39]",
   "language": "python",
   "name": "conda-env-.conda-torch_cpu_py39-py"
  },
  "language_info": {
   "name": ""
  }
 },
 "nbformat": 4,
 "nbformat_minor": 5
}
