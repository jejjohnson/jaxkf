{
 "cells": [
  {
   "cell_type": "markdown",
   "id": "31838ab4-02d1-4272-9a20-543407d0fcd4",
   "metadata": {},
   "source": [
    "# Kalman Filter Walkthrough"
   ]
  },
  {
   "cell_type": "markdown",
   "id": "3b2bb552-e565-4601-91bc-c74b76d66c71",
   "metadata": {},
   "source": [
    "This notebook will walk through the Kalman Filter (KF) algorithm. It is a simple state-space model which makes some Gaussian assumptions about the transition dynamics and the emission dynamics. This results in a very simple model to use because all of the important quantities of interest (e.g. filtering, smoothing, and forecasting) are available in closed-form.\n",
    "\n",
    "**Resources**:\n",
    "\n",
    "* "
   ]
  },
  {
   "cell_type": "markdown",
   "id": "c73f2777-f998-42bf-be4f-9b21618de76e",
   "metadata": {},
   "source": [
    "## Model"
   ]
  },
  {
   "cell_type": "markdown",
   "id": "402d3a5f-13bb-4940-a48a-060c73f4e32f",
   "metadata": {},
   "source": [
    "**Transition Model**\n",
    "\n",
    "This model describes the transition dynamics between the different states at time $t$ and $t+1$.\n",
    "\n",
    "$$\n",
    "\\mathbf{z}_{t} = \\mathbf{A}_t \\mathbf{z}_{t-1} + \\mathbf{Q}_t\n",
    "$$\n",
    "\n",
    "Notice how it assumes a linear transition with an additive Gaussin noise assumption, $\\boldsymbol{\\epsilon}_{\\mathbf{z}_t} \\sim \\mathcal{N}(\\mathbf{0},\\mathbf{Q}_t)$. We can also rewrite this as a conditional distribution.\n",
    "\n",
    "$$\n",
    "p(\\mathbf{z}_{t}|\\mathbf{z}_{t-1}) = \\mathcal{N}(\\mathbf{z}_t|\\mathbf{A}_t\\mathbf{z}_{t-1}, \\mathbf{Q}_t)\n",
    "$$"
   ]
  },
  {
   "cell_type": "markdown",
   "id": "cfccb263-4791-4464-9f87-c698a6ab15ff",
   "metadata": {},
   "source": [
    "---\n",
    "**Observation Model**\n",
    "\n",
    "$$\n",
    "\\mathbf{x}_t = \\mathbf{C}_t\\mathbf{z}_t + \\mathbf{R}_t\n",
    "$$\n",
    "\n",
    "where can also rewrite this as a distribution:\n",
    "\n",
    "$$\n",
    "p(\\mathbf{x}_t|\\mathbf{z}_t) = \\mathcal{N}(\\mathbf{x}_t|\\mathbf{C}_t\\mathbf{z}_t, \\mathbf{R}_t)\n",
    "$$\n"
   ]
  },
  {
   "cell_type": "markdown",
   "id": "2e9c3e98-7d69-48ff-a99a-ec02ae5738a5",
   "metadata": {},
   "source": [
    "---\n",
    "**Free Parameters**\n",
    "\n",
    "In this case, we have the following free parameters, $\\boldsymbol{\\theta}_t$, in this model:\n",
    "\n",
    "$$\n",
    "\\boldsymbol{\\theta}_t = \\left\\{\\mathbf{A}_t, \\mathbf{Q}_t, \\mathbf{C}_t, \\mathbf{R}_t \\right\\}\n",
    "$$\n",
    "\n",
    "**Note**: we can assume the parameters are independent of time, $t$, which would provide us with a simpler model. This is called a *stationary* assumption which may be cheaper, but also invalid in some cases."
   ]
  },
  {
   "cell_type": "code",
   "execution_count": 1,
   "id": "8e741880-6420-4cfd-8edd-c2b6e28973cd",
   "metadata": {},
   "outputs": [],
   "source": [
    "import numpy as np\n",
    "from typing import NamedTuple\n",
    "from dataclasses import dataclass\n",
    "from scipy import stats\n",
    "from einops import repeat\n",
    "import matplotlib.pyplot as plt\n",
    "\n"
   ]
  },
  {
   "cell_type": "markdown",
   "id": "012abf85-73c8-4b5b-8f25-54d6564974d0",
   "metadata": {},
   "source": [
    "### Distribution"
   ]
  },
  {
   "cell_type": "markdown",
   "id": "d44a9260-c5cd-4a88-824a-682534bfffff",
   "metadata": {},
   "source": [
    "Kalman Filter Portions:\n",
    "\n",
    "* $A_t \\in \\mathbb{R}^{N_\\mathbf{z} \\times N_\\mathbf{z}}$\n",
    "* $R_t$ = `N_z x N_z` \n",
    "* $C_t$ = `N_x x N_z`\n",
    "* $Q_t$ = `N_x x N_x`"
   ]
  },
  {
   "cell_type": "code",
   "execution_count": 2,
   "id": "651dcf47-805c-4a62-a221-84dcaaa4793b",
   "metadata": {},
   "outputs": [],
   "source": [
    "@dataclass\n",
    "class KFDistribution:\n",
    "    transition_matrix : np.ndarray\n",
    "    transition_noise : np.ndarray\n",
    "    measurement_matrix : np.ndarray\n",
    "    measurement_noise : np.ndarray\n",
    "    \n",
    "    def predictive_mean(self, x: np.ndarray) -> np.ndarray:\n",
    "        return predictive_mean(x, self.transition_matrix)\n",
    "    \n",
    "    def predictive_cov(self, cov: np.ndarray) -> np.ndarray:\n",
    "        return predictive_cov(cov, self.transition_matrix, self.transition_noise)"
   ]
  },
  {
   "cell_type": "markdown",
   "id": "057600ac-a9f4-477f-bd4f-07a3392f29b0",
   "metadata": {},
   "source": [
    "### State"
   ]
  },
  {
   "cell_type": "code",
   "execution_count": 3,
   "id": "ffb9c3ae-a56b-4ebd-bbc7-a97d69aba776",
   "metadata": {},
   "outputs": [],
   "source": [
    "class KFState(NamedTuple):\n",
    "    mean : np.ndarray\n",
    "    cov : np.ndarray\n",
    "    "
   ]
  },
  {
   "cell_type": "markdown",
   "id": "7aa92f35-0fd6-4f5a-9b9b-9cecc8eb7dac",
   "metadata": {},
   "source": [
    "### Transition Model"
   ]
  },
  {
   "cell_type": "code",
   "execution_count": null,
   "id": "0fc04d62-f447-4235-8b3b-317d826607f5",
   "metadata": {},
   "outputs": [],
   "source": []
  },
  {
   "cell_type": "markdown",
   "id": "d45209c0-3516-4d1b-bc71-bc4918598d99",
   "metadata": {},
   "source": [
    "### Observation Model"
   ]
  },
  {
   "cell_type": "code",
   "execution_count": null,
   "id": "1862350e-bebe-4948-8e7e-acb61fd0b141",
   "metadata": {},
   "outputs": [],
   "source": []
  },
  {
   "cell_type": "markdown",
   "id": "36f715e0-bb05-40e7-863d-8a4d5320b5d4",
   "metadata": {},
   "source": [
    "### Predict Step"
   ]
  },
  {
   "cell_type": "markdown",
   "id": "4edbe924-8cbc-4120-bd2d-995646b2cc2c",
   "metadata": {},
   "source": [
    "$$\n",
    "\\begin{aligned}\n",
    "\\boldsymbol{\\mu}_t &= \\mathbf{A}_{t-1}\\boldsymbol{\\mu}_{t-1} \\\\\n",
    "\\boldsymbol{\\Sigma}_t &= \\mathbf{A}_{t-1}\\boldsymbol{\\Sigma}_{t-1}\\mathbf{A}_t^\\top + \\mathbf{Q}_t\n",
    "\\end{aligned}\n",
    "$$\n",
    "\n",
    "where:\n",
    "* `KalmanDist` $= \\mathcal{N}(\\boldsymbol{\\mu}_t, \\boldsymbol{\\Sigma}_t)$."
   ]
  },
  {
   "cell_type": "code",
   "execution_count": 4,
   "id": "7bab3966-3e32-41aa-944a-2288ffbeb82d",
   "metadata": {},
   "outputs": [],
   "source": [
    "def predict_step(state: KFState, dist: KFDistribution) -> KFState:\n",
    "    \"\"\"Prediction step in Kalman filter eqns\"\"\"\n",
    "    \n",
    "    # unroll variables\n",
    "    µ = state.mean\n",
    "    𝚺 = state.cov\n",
    "    F = dist.transition_matrix\n",
    "    Q = dist.transition_noise\n",
    "    \n",
    "    # predictive mean, µ = F µ\n",
    "    µ = F @ µ\n",
    "    \n",
    "    # predictive covariance, Σ = F Σ F' + Q\n",
    "    𝚺 = F @ 𝚺 @ F.T + Q\n",
    "    \n",
    "    state = KFState(mean=µ, cov=𝚺)\n",
    "    \n",
    "    return state\n",
    "\n",
    "def predictive_mean(mean: np.ndarray, transition: np.ndarray) -> np.ndarray:\n",
    "    \"\"\"predictive mean in update step\n",
    "    \n",
    "    µ = F µ\n",
    "    \"\"\"\n",
    "    \n",
    "    return transition @ mean\n",
    "\n",
    "def predictive_cov(cov: np.ndarray, transition: np.ndarray, noise: np.ndarray) -> np.ndarray:\n",
    "    \"\"\"predictive covariance in update step\n",
    "    \n",
    "    Σ = F Σ F' + Q\n",
    "    \"\"\"\n",
    "    return transition @ cov @ transition.T + noise"
   ]
  },
  {
   "cell_type": "markdown",
   "id": "3278bc9a-5646-442d-b561-149cfad2ac14",
   "metadata": {},
   "source": [
    "#### Testing (Univariate)"
   ]
  },
  {
   "cell_type": "code",
   "execution_count": 5,
   "id": "f98a3d69-ae8c-4704-ab3b-642b9cc36ce4",
   "metadata": {},
   "outputs": [
    {
     "name": "stdout",
     "output_type": "stream",
     "text": [
      "KFState(mean=array([30.]), cov=array([[31.]]))\n"
     ]
    }
   ],
   "source": [
    "# demo state\n",
    "mean = np.array([10])\n",
    "cov = np.array([3.0])\n",
    "test_state = KFState(mean=mean, cov=cov)\n",
    "\n",
    "\n",
    "# demo dist\n",
    "F = np.array([[3.0]])\n",
    "Q = np.array([[2**2]])\n",
    "H = np.array([[1.0]])\n",
    "R = np.array([[3.5**2]])\n",
    "\n",
    "test_dist = KFDistribution(\n",
    "    transition_matrix=F, transition_noise=Q,\n",
    "    measurement_matrix=H, measurement_noise=R\n",
    ")\n",
    "\n",
    "# update equation\n",
    "new_state = predict_step(test_state, test_dist)\n",
    "\n",
    "print(new_state)\n",
    "assert new_state.mean.shape == (1,)\n",
    "assert new_state.cov.shape == (1,1)"
   ]
  },
  {
   "cell_type": "code",
   "execution_count": 6,
   "id": "161ad96f-9a86-4d4c-9918-bad12dd4353e",
   "metadata": {},
   "outputs": [
    {
     "name": "stdout",
     "output_type": "stream",
     "text": [
      "KFState(mean=array([1., 0.]), cov=array([[1., 0.],\n",
      "       [0., 1.]]))\n"
     ]
    }
   ],
   "source": [
    "# initial state\n",
    "mean = np.array([1., 0.])\n",
    "cov = np.diag([1., 1.])\n",
    "test_state = KFState(mean=mean, cov=cov)\n",
    "\n",
    "# initial distribution\n",
    "F = np.eye((2))\n",
    "Q = np.diag([0., 0.])\n",
    "H = np.array([[1., 0.]])\n",
    "R = np.array([[1.,1.]])\n",
    "\n",
    "test_dist = KFDistribution(\n",
    "    transition_matrix=F, transition_noise=Q,\n",
    "    measurement_matrix=H, measurement_noise=R\n",
    ")\n",
    "    \n",
    "# predict step\n",
    "new_state = predict_step(test_state, test_dist)\n",
    "\n",
    "print(new_state)\n",
    "assert new_state.mean.shape == (2,)\n",
    "assert new_state.cov.shape == (2,2)"
   ]
  },
  {
   "cell_type": "markdown",
   "id": "1a05e116-2124-4e48-873f-332250e3fa3c",
   "metadata": {},
   "source": [
    "### Update Step"
   ]
  },
  {
   "cell_type": "markdown",
   "id": "aa95b632-65de-449d-a760-c6c2d20ef303",
   "metadata": {},
   "source": [
    "This is the measurement step which we can compute using Bayes rule like so.\n",
    "\n",
    "$$\n",
    "p(\\mathbf{z}_t|\\mathbf{x}_t,\\mathbf{x}_{1:t-1}) \\propto p(\\mathbf{x}_t|\\mathbf{z}_t)p(\\mathbf{z}_t|\\mathbf{z}_{1:t-1})\n",
    "$$\n",
    "\n",
    "This quantity is given by:\n",
    "\n",
    "$$\n",
    "\\begin{aligned}\n",
    "p(\\mathbf{z}_t|\\mathbf{x}_{1:t}) &= \\mathcal{N}(\\mathbf{z}_t|\\boldsymbol{\\mu}_t, \\boldsymbol{\\Sigma}_t)\n",
    "\\end{aligned}\n",
    "$$\n",
    "\n",
    "This is the dist. for the update step and it is given by these equations:\n",
    "\n",
    "$$\n",
    "\\begin{aligned}\n",
    "\\boldsymbol{\\mu}_t &= \\boldsymbol{\\mu}_{t|t-1} + \\mathbf{K}_t\\mathbf{r}_t \\\\\n",
    "\\boldsymbol{\\Sigma}_t &= \\left( \\mathbf{I} - \\mathbf{K}_t\\mathbf{C}_t \\right)\\boldsymbol{\\Sigma}_{t|t-1}\n",
    "\\end{aligned}\n",
    "$$\n",
    "\n",
    "where:\n",
    "* $K_t$ - Kalman Gain Matrix\n",
    "* $r_t$ - innovation/residual"
   ]
  },
  {
   "cell_type": "markdown",
   "id": "3b6dc654-b357-492b-9222-338ce96713f2",
   "metadata": {},
   "source": [
    "---\n",
    "**Residual**\n",
    "\n",
    "This quantity is the difference between our predicted observations and the actual observations. This is given by:\n",
    "\n",
    "$$\n",
    "\\begin{aligned}\n",
    "\\mathbf{r}_t &= \\mathbf{x}_t - \\hat{\\mathbf x}_t \\\\\n",
    "\\hat{\\mathbf x}_t &= \\mathbf{C}_t {\\boldsymbol \\mu}_{t|t-1}\n",
    "\\end{aligned}\n",
    "$$\n",
    "\n",
    "where:\n",
    "\n",
    "* $C_t$ - measurement matrix\n",
    "* ${\\boldsymbol \\mu}_{t|t-1}$ - mean from the predict step"
   ]
  },
  {
   "cell_type": "code",
   "execution_count": 7,
   "id": "27f2ce8d-8222-4d48-8051-b8a6ce014979",
   "metadata": {},
   "outputs": [],
   "source": [
    "\n",
    "def residual(obs: np.ndarray, state: KFState, dist: KFDistribution) -> np.ndarray:\n",
    "    \"\"\"Error (Residual) between measurement and predictions\"\"\"\n",
    "    # unroll variables\n",
    "    µ = state.mean\n",
    "    C = dist.measurement_matrix.T\n",
    "\n",
    "    # # predictive mean\n",
    "    # µ_pred =  @ mean\n",
    "\n",
    "    # difference\n",
    "    # print(C.shape, µ.shape)\n",
    "    obs_pred = C @ µ\n",
    "    # obs_pred = µ @ C\n",
    "    # print(obs_pred.shape)\n",
    "\n",
    "    # residual\n",
    "    res = obs - obs_pred\n",
    "\n",
    "    return res"
   ]
  },
  {
   "cell_type": "markdown",
   "id": "d2fdb07c-6b16-4823-80be-144f98f2eabc",
   "metadata": {},
   "source": [
    "---\n",
    "**Kalman Gain Matrix**\n",
    "\n",
    "$$\n",
    "\\begin{aligned}\n",
    "\\mathbf{K}_t &= \\boldsymbol{\\Sigma}_{t|t-1}C_t^\\top \\mathbf{S}_t^{-1} \\\\\n",
    "&= \\mathbf{C}_t \\boldsymbol{\\Sigma}_{t|t-1}\\mathbf{C}_t^\\top + \\mathbf{R}_t\n",
    "\\end{aligned}\n",
    "$$\n",
    "\n",
    "where can also use the matrix inversion lemma and rewrite the Kalman gain matrix.\n",
    "\n",
    "$$\n",
    "\\begin{aligned}\n",
    "\\mathbf{K}_t &= \\boldsymbol{\\Sigma}_{t|t-1} \\mathbf{C}^\\top \\left( \\mathbf{C}\\boldsymbol{\\Sigma}_{t|t-1} \\mathbf{C}^\\top + \\mathbf{R} \\right)^{-1} \\\\\n",
    "&= \\left( \\boldsymbol{\\Sigma}_{t|t-1}^{-1} + \\mathbf{C}^\\top \\mathbf{RC}\\right)^{-1}\\mathbf{C}^\\top \\mathbf{R}^{-1}\n",
    "\\end{aligned}\n",
    "$$\n",
    "\n",
    "We may get some computational gains this way because we could use the sparsity of the precision matrix, $\\boldsymbol \\Sigma^{-1}$, instead of the covariance matrix, $\\boldsymbol \\Sigma$. For now, we can use the standard method."
   ]
  },
  {
   "cell_type": "code",
   "execution_count": 8,
   "id": "3cb6998f-eb8a-4890-b6ee-596d3ee8dd12",
   "metadata": {},
   "outputs": [],
   "source": [
    "def kalman_gain_matrix(state: KFState, dist: KFDistribution)-> np.ndarray:\n",
    "    \n",
    "    # unroll variables\n",
    "    C = dist.measurement_matrix.T\n",
    "    R = dist.measurement_noise\n",
    "    𝚺 = state.cov\n",
    "    \n",
    "    # project uncertainty into measurement space\n",
    "    S = C @ 𝚺 @ C.T + R\n",
    "    # print(C.shape, 𝚺.shape, R.shape, S.shape)\n",
    "    \n",
    "    try: \n",
    "        K = 𝚺 @ C.T @ np.linalg.inv(S)\n",
    "    except:\n",
    "        K = 𝚺 @ C.T @ (1./S)\n",
    "    # print(\"Kalman Gain:\", K.shape)\n",
    "    return K"
   ]
  },
  {
   "cell_type": "markdown",
   "id": "706480e0-a080-4e49-8e3a-74d81904f3c5",
   "metadata": {},
   "source": [
    "---\n",
    "**Update Step**\n",
    "\n",
    "$$\n",
    "\\begin{aligned}\n",
    "p(\\mathbf{z}_t|\\mathbf{x}_{1:t}) &= \\mathcal{N}(\\mathbf{z}_t|\\boldsymbol{\\mu}_t, \\boldsymbol{\\Sigma}_t) \\\\\n",
    "\\boldsymbol{\\mu}_t &= \\boldsymbol{\\mu}_{t|t-1} + \\mathbf{K}_t\\mathbf{r}_t \\\\\n",
    "\\boldsymbol{\\Sigma}_t &= \\left( \\mathbf{I} - \\mathbf{K}_t\\mathbf{C}_t \\right)\\boldsymbol{\\Sigma}_{t|t-1}\n",
    "\\end{aligned}\n",
    "$$\n",
    "\n",
    "where:\n",
    "* $K_t$ - *Kalman Gain Matrix*\n",
    "* $r_t$ - *innovation/residual*\n",
    "\n",
    "\n",
    "**Note**: We can use a more numerically stable implementation for the final equation:\n",
    "\n",
    "$$\n",
    "\\begin{aligned}\n",
    "\\boldsymbol{\\Sigma}_t &= \\left( \\mathbf{I} - \\mathbf{K}_t\\mathbf{C}_t \\right)\\boldsymbol{\\Sigma}_{t|t-1} \\\\\n",
    "&= \\left( \\mathbf{I} - \\mathbf{K}_t\\mathbf{C}_t \\right)\\boldsymbol{\\Sigma}_{t|t-1} \\left( \\mathbf{I} - \\mathbf{K}_t\\mathbf{C}_t \\right)^\\top +  \\mathbf{K}_t\\mathbf{C}_t\\mathbf{K}_t^\\top\\\\\n",
    "\\end{aligned}\n",
    "$$\n"
   ]
  },
  {
   "cell_type": "code",
   "execution_count": 9,
   "id": "f8367cd9-d473-42b0-bbfb-edcad9590914",
   "metadata": {},
   "outputs": [],
   "source": [
    "\n",
    "def update_step(\n",
    "    obs: np.ndarray,\n",
    "    state: KFState, \n",
    "    dist: KFDistribution,\n",
    ") -> KFState:\n",
    "    \n",
    "    # unroll variables\n",
    "    C = dist.measurement_matrix.T\n",
    "    R = dist.measurement_noise\n",
    "    I = np.eye(C.shape[0])\n",
    "    µ = state.mean\n",
    "    𝚺 = state.cov\n",
    "    \n",
    "    # innovation/residual\n",
    "    r = residual(obs, state, dist)\n",
    "    \n",
    "    # kalman gain\n",
    "    K = kalman_gain_matrix(state, dist)\n",
    "    \n",
    "    # predict with residual scaled by Kalman gain\n",
    "    # print(µ.shape, K.shape, r.shape)\n",
    "    µ = repeat(µ, \"D -> D 1\")\n",
    "    µ = µ + K @ r\n",
    "    \n",
    "    µ = µ.squeeze()\n",
    "    \n",
    "    # update covariance\n",
    "    # print(K.shape, C.shape)\n",
    "    KC = K @ C\n",
    "    I_KC = np.eye(KC.shape[0]) - KC\n",
    "    𝚺 = I_KC @ 𝚺 @ I_KC.T + K @ R @ K.T\n",
    "    \n",
    "    \n",
    "    state = KFState(mean=µ.squeeze(), cov=𝚺)\n",
    "    \n",
    "    return state"
   ]
  },
  {
   "cell_type": "markdown",
   "id": "64ed29fe-79c3-4abe-aea5-751973afade5",
   "metadata": {},
   "source": [
    "#### Test Update Step (Univariate)"
   ]
  },
  {
   "cell_type": "code",
   "execution_count": 10,
   "id": "0a535592-d563-467f-b0f3-921a96d41c09",
   "metadata": {},
   "outputs": [
    {
     "name": "stdout",
     "output_type": "stream",
     "text": [
      "KFState(mean=array([30.]), cov=array([[31.]]))\n"
     ]
    },
    {
     "data": {
      "text/plain": [
       "KFState(mean=array(16.38150289), cov=array([[8.78034682]]))"
      ]
     },
     "execution_count": 10,
     "metadata": {},
     "output_type": "execute_result"
    }
   ],
   "source": [
    "# demo state\n",
    "mean = np.array([10])\n",
    "cov = np.array([3.0])\n",
    "test_state = KFState(mean=mean, cov=cov)\n",
    "\n",
    "\n",
    "# demo dist\n",
    "F = np.array([[3.0]])\n",
    "Q = np.array([[2**2]])\n",
    "H = np.array([[1.0]])\n",
    "R = np.array([[3.5**2]])\n",
    "\n",
    "test_dist = KFDistribution(\n",
    "    transition_matrix=F, transition_noise=Q,\n",
    "    measurement_matrix=H, measurement_noise=R\n",
    ")\n",
    "\n",
    "# update equation\n",
    "new_state = predict_step(test_state, test_dist)\n",
    "\n",
    "print(new_state)\n",
    "assert new_state.mean.shape == (1,)\n",
    "assert new_state.cov.shape == (1,1)\n",
    "\n",
    "# update step\n",
    "obs = np.array([11])\n",
    "update_state = update_step(obs, state=new_state, dist=test_dist)\n",
    "update_state"
   ]
  },
  {
   "cell_type": "markdown",
   "id": "0061f7c1-8213-4ba3-b6f5-06f4c1eb7d93",
   "metadata": {},
   "source": [
    "#### Test Update Step (Multivariate)"
   ]
  },
  {
   "cell_type": "code",
   "execution_count": 11,
   "id": "2cb2cab1-ac60-40ef-bcd8-f326884dee0f",
   "metadata": {},
   "outputs": [
    {
     "name": "stdout",
     "output_type": "stream",
     "text": [
      "Init: KFState(mean=array([1., 0.]), cov=array([[1., 0.],\n",
      "       [0., 1.]]))\n",
      "Predict: KFState(mean=array([1., 0.]), cov=array([[1., 0.],\n",
      "       [0., 1.]]))\n"
     ]
    },
    {
     "ename": "ValueError",
     "evalue": "matmul: Input operand 1 has a mismatch in its core dimension 0, with gufunc signature (n?,k),(k,m?)->(n?,m?) (size 2 is different from 1)",
     "output_type": "error",
     "traceback": [
      "\u001b[0;31m---------------------------------------------------------------------------\u001b[0m",
      "\u001b[0;31mValueError\u001b[0m                                Traceback (most recent call last)",
      "\u001b[0;32m/tmp/ipykernel_8239/3412469217.py\u001b[0m in \u001b[0;36m<module>\u001b[0;34m\u001b[0m\n\u001b[1;32m     26\u001b[0m \u001b[0;31m# update step\u001b[0m\u001b[0;34m\u001b[0m\u001b[0;34m\u001b[0m\u001b[0m\n\u001b[1;32m     27\u001b[0m \u001b[0mobs\u001b[0m \u001b[0;34m=\u001b[0m \u001b[0mnp\u001b[0m\u001b[0;34m.\u001b[0m\u001b[0marray\u001b[0m\u001b[0;34m(\u001b[0m\u001b[0;34m[\u001b[0m\u001b[0;36m1\u001b[0m\u001b[0;34m]\u001b[0m\u001b[0;34m)\u001b[0m\u001b[0;34m\u001b[0m\u001b[0;34m\u001b[0m\u001b[0m\n\u001b[0;32m---> 28\u001b[0;31m \u001b[0mnew_state\u001b[0m \u001b[0;34m=\u001b[0m \u001b[0mupdate_step\u001b[0m\u001b[0;34m(\u001b[0m\u001b[0mobs\u001b[0m\u001b[0;34m,\u001b[0m \u001b[0mstate\u001b[0m\u001b[0;34m=\u001b[0m\u001b[0mnew_state\u001b[0m\u001b[0;34m,\u001b[0m \u001b[0mdist\u001b[0m\u001b[0;34m=\u001b[0m\u001b[0mtest_dist\u001b[0m\u001b[0;34m)\u001b[0m\u001b[0;34m\u001b[0m\u001b[0;34m\u001b[0m\u001b[0m\n\u001b[0m\u001b[1;32m     29\u001b[0m \u001b[0;34m\u001b[0m\u001b[0m\n\u001b[1;32m     30\u001b[0m \u001b[0;34m\u001b[0m\u001b[0m\n",
      "\u001b[0;32m/tmp/ipykernel_8239/1554900570.py\u001b[0m in \u001b[0;36mupdate_step\u001b[0;34m(obs, state, dist)\u001b[0m\n\u001b[1;32m     13\u001b[0m \u001b[0;34m\u001b[0m\u001b[0m\n\u001b[1;32m     14\u001b[0m     \u001b[0;31m# innovation/residual\u001b[0m\u001b[0;34m\u001b[0m\u001b[0;34m\u001b[0m\u001b[0m\n\u001b[0;32m---> 15\u001b[0;31m     \u001b[0mr\u001b[0m \u001b[0;34m=\u001b[0m \u001b[0mresidual\u001b[0m\u001b[0;34m(\u001b[0m\u001b[0mobs\u001b[0m\u001b[0;34m,\u001b[0m \u001b[0mstate\u001b[0m\u001b[0;34m,\u001b[0m \u001b[0mdist\u001b[0m\u001b[0;34m)\u001b[0m\u001b[0;34m\u001b[0m\u001b[0;34m\u001b[0m\u001b[0m\n\u001b[0m\u001b[1;32m     16\u001b[0m \u001b[0;34m\u001b[0m\u001b[0m\n\u001b[1;32m     17\u001b[0m     \u001b[0;31m# kalman gain\u001b[0m\u001b[0;34m\u001b[0m\u001b[0;34m\u001b[0m\u001b[0m\n",
      "\u001b[0;32m/tmp/ipykernel_8239/3728882771.py\u001b[0m in \u001b[0;36mresidual\u001b[0;34m(obs, state, dist)\u001b[0m\n\u001b[1;32m     10\u001b[0m     \u001b[0;31m# difference\u001b[0m\u001b[0;34m\u001b[0m\u001b[0;34m\u001b[0m\u001b[0m\n\u001b[1;32m     11\u001b[0m     \u001b[0;31m# print(C.shape, µ.shape)\u001b[0m\u001b[0;34m\u001b[0m\u001b[0;34m\u001b[0m\u001b[0m\n\u001b[0;32m---> 12\u001b[0;31m     \u001b[0mobs_pred\u001b[0m \u001b[0;34m=\u001b[0m \u001b[0mC\u001b[0m \u001b[0;34m@\u001b[0m \u001b[0mµ\u001b[0m\u001b[0;34m\u001b[0m\u001b[0;34m\u001b[0m\u001b[0m\n\u001b[0m\u001b[1;32m     13\u001b[0m     \u001b[0;31m# obs_pred = µ @ C\u001b[0m\u001b[0;34m\u001b[0m\u001b[0;34m\u001b[0m\u001b[0m\n\u001b[1;32m     14\u001b[0m     \u001b[0;31m# print(obs_pred.shape)\u001b[0m\u001b[0;34m\u001b[0m\u001b[0;34m\u001b[0m\u001b[0m\n",
      "\u001b[0;31mValueError\u001b[0m: matmul: Input operand 1 has a mismatch in its core dimension 0, with gufunc signature (n?,k),(k,m?)->(n?,m?) (size 2 is different from 1)"
     ]
    }
   ],
   "source": [
    "# initial state\n",
    "mean = np.array([1., 0.])\n",
    "cov = np.diag([1., 1.])\n",
    "\n",
    "test_state = KFState(mean=mean, cov=cov)\n",
    "print(\"Init:\", test_state)\n",
    "\n",
    "# initial distribution\n",
    "F = np.eye((2))\n",
    "Q = np.diag([0., 0.])\n",
    "H = np.array([[1., 0.]])\n",
    "R = np.array([[1.]])[:, None]\n",
    "\n",
    "test_dist = KFDistribution(\n",
    "    transition_matrix=F, transition_noise=Q,\n",
    "    measurement_matrix=H, measurement_noise=R\n",
    ")\n",
    "    \n",
    "# predict step\n",
    "new_state = predict_step(test_state, test_dist)\n",
    "\n",
    "print(\"Predict:\", new_state)\n",
    "assert new_state.mean.shape == (2,)\n",
    "assert new_state.cov.shape == (2,2)\n",
    "\n",
    "# update step\n",
    "obs = np.array([1])\n",
    "new_state = update_step(obs, state=new_state, dist=test_dist)\n",
    "\n",
    "\n",
    "print(\"Update:\", new_state)\n",
    "assert new_state.mean.shape == (2,)\n",
    "assert new_state.cov.shape == (2,2)\n",
    "assert new_state.mean[0] == 1.0\n",
    "assert new_state.mean[1] == 0.0\n",
    "\n",
    "# test velocity predictions\n",
    "new_state = predict_step(new_state, test_dist)\n",
    "\n",
    "print(new_state)\n",
    "assert new_state.mean[0] == 1.0\n",
    "assert new_state.mean[1] == 0.0\n",
    "\n",
    "mean = new_state.mean\n",
    "mean[1] = 1.0\n",
    "new_state = KFState(mean=mean, cov=new_state.cov)"
   ]
  },
  {
   "cell_type": "markdown",
   "id": "3bb10133-7060-437f-af08-7c30c2f8915c",
   "metadata": {},
   "source": [
    "#### Test Update Step (Multivariate + Velocity)"
   ]
  },
  {
   "cell_type": "code",
   "execution_count": 12,
   "id": "bc7f9a19-a53c-46e6-909f-d65668af9fae",
   "metadata": {},
   "outputs": [
    {
     "name": "stdout",
     "output_type": "stream",
     "text": [
      "Init: KFState(mean=array([1., 1.]), cov=array([[1., 0.],\n",
      "       [0., 1.]]))\n",
      "KFState(mean=array([2., 1.]), cov=array([[2., 1.],\n",
      "       [1., 1.]]))\n",
      "KFState(mean=array([3., 1.]), cov=array([[5., 2.],\n",
      "       [2., 1.]]))\n"
     ]
    }
   ],
   "source": [
    "# initial state\n",
    "mean = np.array([1., 1.])\n",
    "cov = np.diag([1., 1.])\n",
    "\n",
    "init_state = KFState(mean=mean, cov=cov)\n",
    "print(\"Init:\", init_state)\n",
    "\n",
    "# initial distribution\n",
    "F = np.array([[1., 1.], [0, 1]])\n",
    "Q = np.diag([0., 0.])\n",
    "H = np.array([[1., 0.]])\n",
    "R = np.array([[1.]])\n",
    "\n",
    "test_dist = KFDistribution(\n",
    "    transition_matrix=F, transition_noise=Q,\n",
    "    measurement_matrix=H, measurement_noise=R\n",
    ")\n",
    "\n",
    "new_state = predict_step(init_state, test_dist)\n",
    "\n",
    "print(new_state)\n",
    "assert new_state.mean[0] == 2.0\n",
    "assert new_state.mean[1] == 1.0\n",
    "\n",
    "new_state = predict_step(new_state, test_dist)\n",
    "\n",
    "print(new_state)\n",
    "assert new_state.mean[0] == 3.0\n",
    "assert new_state.mean[1] == 1.0"
   ]
  },
  {
   "cell_type": "code",
   "execution_count": 13,
   "id": "5c7ff2d0-c70c-4d73-90a8-cdbd2656465f",
   "metadata": {},
   "outputs": [],
   "source": [
    "# change "
   ]
  },
  {
   "cell_type": "code",
   "execution_count": 14,
   "id": "531f52ec-ada8-4732-be3a-8522e387e99f",
   "metadata": {},
   "outputs": [],
   "source": [
    "# pip install filterpy"
   ]
  },
  {
   "cell_type": "code",
   "execution_count": 15,
   "id": "d9b1db77-1706-4a76-be56-0ba9e4ad0477",
   "metadata": {},
   "outputs": [],
   "source": [
    "# from filterpy.kalman import predict, update"
   ]
  },
  {
   "cell_type": "code",
   "execution_count": 16,
   "id": "f26a77a2-c62b-4bfb-b4e3-0d5bdd5fe7ac",
   "metadata": {},
   "outputs": [],
   "source": [
    "# x, P = predict(mean, P=cov, Q=Q)\n",
    "# x, P"
   ]
  },
  {
   "cell_type": "markdown",
   "id": "54abedc7-ba0e-4e42-9557-7c08e0cfeebd",
   "metadata": {},
   "source": [
    "## Example I - Noisy 1D Signal"
   ]
  },
  {
   "cell_type": "markdown",
   "id": "2c7c5b98-8672-4d88-80ca-5f5cf496cea6",
   "metadata": {},
   "source": [
    "\n",
    "$$\n",
    "\\begin{aligned}\n",
    "y_t &= x_t + \\epsilon_y\n",
    "\\end{aligned}\n",
    "$$\n",
    "\n",
    "where $\\epsilon_y \\sim \\mathcal{N}(0, \\sigma^2)$ and $t = [0, 100]$. \n",
    "\n",
    "So essentially, this is a trivial example where we have a straight line"
   ]
  },
  {
   "cell_type": "code",
   "execution_count": 17,
   "id": "b107bd0c-128c-4dd2-8b3f-158c9012d92e",
   "metadata": {},
   "outputs": [
    {
     "data": {
      "application/vnd.jupyter.widget-view+json": {
       "model_id": "bd0de87951614f13aea03d235720d381",
       "version_major": 2,
       "version_minor": 0
      },
      "text/plain": [
       "  0%|          | 0/100 [00:00<?, ?it/s]"
      ]
     },
     "metadata": {},
     "output_type": "display_data"
    }
   ],
   "source": [
    "from tqdm.notebook import trange\n",
    "\n",
    "time_steps = 100\n",
    "scale = 10\n",
    "\n",
    "true_observations = []\n",
    "noisy_observations = []\n",
    "\n",
    "for t in trange(time_steps):\n",
    "    # noisy signal\n",
    "    z = t + scale * np.random.randn()\n",
    "    \n",
    "    true_observations.append(t)\n",
    "    noisy_observations.append(z)\n",
    "    \n",
    "    "
   ]
  },
  {
   "cell_type": "code",
   "execution_count": 18,
   "id": "f67ba4c4-edb9-4525-96f0-076248ddd92b",
   "metadata": {},
   "outputs": [
    {
     "data": {
      "image/png": "[encoded data removed]",
      "text/plain": [
       "<Figure size 432x288 with 1 Axes>"
      ]
     },
     "metadata": {
      "needs_background": "light"
     },
     "output_type": "display_data"
    }
   ],
   "source": [
    "# plot the signal\n",
    "fig, ax = plt.subplots()\n",
    "ax.plot(true_observations, marker=\"\", linestyle=\"-\", label=\"True State\", color=\"k\")\n",
    "ax.plot(noisy_observations, marker=\".\", linestyle=\"\", label=\"Noisy Observations\", color=\"red\")\n",
    "ax.set(xlabel=\"Time\", ylabel=\"Signal\")\n",
    "plt.legend()\n",
    "plt.tight_layout()"
   ]
  },
  {
   "cell_type": "markdown",
   "id": "9e1e45cb-fd59-4261-a257-2b4483292ebe",
   "metadata": {},
   "source": [
    "---\n",
    "Like before, we can describe the dynamical system like so:\n",
    "\n",
    "$$\n",
    "\\begin{aligned}\n",
    "\\mathbf{z}_{t+1} &= \\mathbf{F}\\mathbf{z}_t + \\boldsymbol{\\epsilon}_\\mathbf{z} \\\\\n",
    "x_t &= \\mathbf{H}\\mathbf{z}_t + \\boldsymbol{\\epsilon}_x\n",
    "\\end{aligned}\n",
    "$$\n",
    "\n",
    "We can manually define the terms, $\\mathbf{F}$ and $\\mathbf{H}$, which represent the relationship between the variables. Here they will be\n",
    "\n",
    "$$\n",
    "\\begin{aligned}\n",
    "\\mathbf{F} &=\n",
    "\\begin{bmatrix}\n",
    "1 & 1 \\\\ 0 & 1\n",
    "\\end{bmatrix} \\\\\n",
    "\\mathbf{H} &=\n",
    "\\begin{bmatrix}\n",
    "1 & 0 \n",
    "\\end{bmatrix}\n",
    "\\end{aligned}\n",
    "$$\n",
    "\n",
    "Here, we assume that the state system is as follows:\n",
    "\n",
    "$$\n",
    "\\begin{aligned}\n",
    "\\frac{\\partial z^1}{\\partial t} &= z^1 + z^2 \\\\\n",
    "\\frac{\\partial z^2}{\\partial t} &= z^1\n",
    "\\end{aligned}\n",
    "$$\n",
    "\n",
    "and we assume that the observation is related like so:\n",
    "\n",
    "$$\n",
    "x = z^1\n",
    "$$\n",
    "\n",
    "So essentially, we have an augmented the state space dimension, $\\mathbf{z} \\in \\mathbb{R}^2$, which is higher than the observation space, $x \\in \\mathbb{R}^1$. Our assumption here is that there are higher order dynamics at play behind the scenes. \n"
   ]
  },
  {
   "cell_type": "code",
   "execution_count": 19,
   "id": "40fa74e9-1387-481a-93b9-21722a7c89ae",
   "metadata": {},
   "outputs": [
    {
     "name": "stdout",
     "output_type": "stream",
     "text": [
      "(2, 1)\n"
     ]
    },
    {
     "data": {
      "application/vnd.jupyter.widget-view+json": {
       "model_id": "1c62561ae6b8409d846abfce5165c27f",
       "version_major": 2,
       "version_minor": 0
      },
      "text/plain": [
       "  0%|          | 0/100 [00:00<?, ?it/s]"
      ]
     },
     "metadata": {},
     "output_type": "display_data"
    }
   ],
   "source": [
    "# initialize Kalman Filter\n",
    "dim_z = 2\n",
    "dim_x = 1\n",
    "\n",
    "\n",
    "# init transition model\n",
    "F = np.array([[1., 1.], [0., 1.]])   # state transition matrix\n",
    "Q = 1e-4 * np.eye((2))              # state uncertainty\n",
    "\n",
    "assert F.shape == (dim_z, dim_z)\n",
    "assert Q.shape == (dim_z, dim_z)\n",
    "\n",
    "# init emission model\n",
    "H = np.array([[1., 0.]]).T             # emission matrix\n",
    "print(H.shape)\n",
    "R = 5 * np.eye((1))                  # emission uncertainty\n",
    "\n",
    "assert H.shape == (dim_z, dim_x)\n",
    "assert R.shape == (dim_x, dim_x)\n",
    "\n",
    "# init KF Dist\n",
    "kf_dist = KFDistribution(\n",
    "    transition_matrix=F, transition_noise=Q,\n",
    "    measurement_matrix=H, measurement_noise=R\n",
    ")\n",
    "\n",
    "# init state\n",
    "init_mean = np.array([2., 0.])\n",
    "init_cov = np.eye(init_mean.shape[0])\n",
    "\n",
    "assert init_mean.shape == (dim_z,)\n",
    "assert init_cov.shape == (dim_z, dim_z)\n",
    "init_state = KFState(mean=init_mean, cov=init_cov)\n",
    "\n",
    "current_state = init_state\n",
    "\n",
    "observations = []\n",
    "states = []\n",
    "time_steps = 100\n",
    "# run the kalman filter\n",
    "with trange(time_steps) as pbar:\n",
    "    for t in pbar:\n",
    "        \n",
    "        # noisy signal\n",
    "        pbar.set_description(\"Running: Generating signal\")\n",
    "        obs = t + scale * np.random.randn(1,1)\n",
    "\n",
    "        observations.append(obs.squeeze())\n",
    "\n",
    "        # run update eqns\n",
    "        pbar.set_description(\"Runing: Update Equation\")\n",
    "        current_state = update_step(obs=obs, state=current_state, dist=kf_dist)\n",
    "        \n",
    "        # run predict eqns\n",
    "        pbar.set_description(\"Runing: Predict Equation\")\n",
    "        current_state = predict_step(state=current_state, dist=kf_dist)\n",
    "        \n",
    "        # keep the estimated state\n",
    "        states.append(current_state.mean[0])\n"
   ]
  },
  {
   "cell_type": "code",
   "execution_count": 20,
   "id": "83c604c6-4124-4d19-b470-9b8dc658e6ea",
   "metadata": {},
   "outputs": [
    {
     "data": {
      "image/png": "[encoded data removed]",
      "text/plain": [
       "<Figure size 432x288 with 1 Axes>"
      ]
     },
     "metadata": {
      "needs_background": "light"
     },
     "output_type": "display_data"
    }
   ],
   "source": [
    "# plot the signal\n",
    "fig, ax = plt.subplots()\n",
    "ax.plot(observations, label=\"Observations\", linewidth=2, linestyle=\"--\")\n",
    "ax.plot(states, label=\"KF State\", linewidth=2, )\n",
    "ax.plot([0,100], [0,100], label=\"True State\", linewidth=2, color=\"black\" )\n",
    "ax.set(xlabel=\"Time\", ylabel=\"Signal\")\n",
    "plt.legend()\n",
    "plt.tight_layout()\n",
    "plt.show()"
   ]
  },
  {
   "cell_type": "markdown",
   "id": "eb1ece59-9561-4102-aba9-30c4f7213fe8",
   "metadata": {},
   "source": [
    "As we can see, it does a fairly good job at getting the state."
   ]
  },
  {
   "cell_type": "markdown",
   "id": "620e5ffc-f2f4-42b2-8f31-45f9d31f9764",
   "metadata": {},
   "source": [
    "## Example II - Object Tracking"
   ]
  },
  {
   "cell_type": "markdown",
   "id": "12b2185a-2b47-4c4d-a5a8-1c44c056043d",
   "metadata": {},
   "source": [
    "In this example, we consider an object moving in a 2D plane. \n",
    "\n",
    "---\n",
    "\n",
    "#### State Transition Dynamics\n",
    "\n",
    "We assume that we can fully describe the state when we have the `(x,y)` coordinates of the position and the `(x,y)` velocity. So we can write this as:\n",
    "\n",
    "$$\n",
    "\\mathbf{z}_t = \n",
    "\\begin{bmatrix}\n",
    "z_t^1 \\\\ z_t^2 \\\\ \\dot{z}_t^1 \\\\ \\dot{z}_t^2\n",
    "\\end{bmatrix}\n",
    "$$\n",
    "\n",
    "where $z_t^d$ is the coordinate of the position and $\\dot{z}^d$ is the velocity. \n",
    "\n",
    "We can describe the dynamics of the system using the following system of equations:\n",
    "\n",
    "$$\n",
    "\\begin{aligned}\n",
    "z_t^1 &= z_{t-1}^1 + \\Delta_t \\dot{z}_t^1 + \\epsilon_t^1 \\\\\n",
    "z_t^2 &= z_{t-1}^2 + \\Delta_t \\dot{z}_t^2 + \\epsilon_t^2 \\\\\n",
    "\\dot{z}_t^1 &= \\dot{z}_{t-1}^1 + \\epsilon_t^3 \\\\\n",
    "\\dot{z}_t^2 &= \\dot{z}_{t-1}^2 + \\epsilon_t^4 \\\\\n",
    "\\end{aligned}\n",
    "$$\n",
    "\n",
    "This is a very simple formulation which takes a first order approximation to the change in position based on speed and we also assume constant velocity. Note, we also include some noise because we assume that some of the dynamics are noisy, i.e. there are random acceleration and position changes in the model. \n",
    "\n",
    "\n",
    "We can also put this into matrix formulation like so:\n",
    "\n",
    "$$\n",
    "\\mathbf{z}_t = \\mathbf{A}_t \\mathbf{z}_{t-1} + \\boldsymbol{\\epsilon}_t\n",
    "$$\n",
    "\n",
    "where:\n",
    "\n",
    "$$\n",
    "\\mathbf{A}_t = \n",
    "\\begin{bmatrix}\n",
    "1 & 0 & \\Delta_t & 0 \\\\\n",
    "0 & 1 & 0 & \\Delta_t \\\\\n",
    "0 & 0 & 1 & 0 \\\\\n",
    "0 & 0 & 0 & 1 \\\\\n",
    "\\end{bmatrix}, \\;\\; \\mathbf{A}_t \\in \\mathbb{R}^{4\\times 4}\n",
    "$$"
   ]
  },
  {
   "cell_type": "code",
   "execution_count": 37,
   "id": "a7aacf48-584e-4d6b-bec5-0f64a691bebc",
   "metadata": {},
   "outputs": [],
   "source": [
    "state_ndims = 4\n",
    "Δ = 1.0\n",
    "\n",
    "A = np.array([\n",
    "    [1, 0, Δ, 0], \n",
    "    [0, 1, 0, Δ], \n",
    "    [0, 0, 1, 0], \n",
    "    [0, 0, 0, 1]\n",
    "])\n",
    "R = np.eye(state_ndims)\n",
    "\n",
    "assert A.shape == (state_ndims, state_ndims)"
   ]
  },
  {
   "cell_type": "markdown",
   "id": "a137c76b-6e7a-4bae-85d9-127bb92599f2",
   "metadata": {},
   "source": [
    "---\n",
    "#### Emissions Model\n",
    "\n",
    "We can only fully observe the locations (not the velocities). So this will be a lower dimensional vector of size 2-D. The system of equations are as follows:\n",
    "\n",
    "$$\n",
    "\\begin{aligned}\n",
    "x_t^1 &= z_t^1 + \\delta_t^1 \\\\\n",
    "x_t^2 &= z_t^2 + \\delta_t^2 \\\\\n",
    "\\end{aligned}\n",
    "$$\n",
    "\n",
    "This is a very simple model where we assume we can extract the direct positions (plus some noise) from the state.\n",
    "\n",
    "We can write this in an abbreviated matrix formulation:\n",
    "\n",
    "$$\n",
    "\\mathbf{x}_t = \\mathbf{C}_t \\mathbf{z}_t + \\delta_t\n",
    "$$\n",
    "\n",
    "where:\n",
    "\n",
    "$$\n",
    "\\mathbf{C}_t = \n",
    "\\begin{bmatrix}\n",
    "1 & 0 & 0 & 0 \\\\\n",
    "0 & 1 & 0 & 0 \\\\\n",
    "\\end{bmatrix}, \\;\\; \\mathbf{C}_t \\in \\mathbb{R}^{2 \\times 4}\n",
    "$$\n"
   ]
  },
  {
   "cell_type": "code",
   "execution_count": 38,
   "id": "ba33cbfe-2a0a-44ff-942c-763683231a66",
   "metadata": {},
   "outputs": [],
   "source": [
    "obs_ndims = 2\n",
    "\n",
    "C = np.array([\n",
    "    [1, 0, 0, 0], \n",
    "    [0, 1, 0, 0]\n",
    "])\n",
    "Q = 0.01 * np.eye(obs_ndims)\n",
    "\n",
    "assert C.shape == (obs_ndims, state_ndims)\n",
    "assert Q.shape == (obs_ndims, obs_ndims)"
   ]
  },
  {
   "cell_type": "code",
   "execution_count": null,
   "id": "5f7ed1bf-6aa1-499d-9c9b-508533bf711c",
   "metadata": {},
   "outputs": [],
   "source": []
  },
  {
   "cell_type": "markdown",
   "id": "e288a2b1-4523-43b0-b2c6-574f6964daae",
   "metadata": {},
   "source": [
    "---\n",
    "\n",
    "**Prior**\n",
    "\n",
    "Typically we specify a wide prior (maximum entropy) if we have no strong assumptions. Many times this is often the least important aspect as this tends to get \"washed away\" as we acquire more observations. However, this can be very important in cases where we don't have many observations and can greatly speed up training and convergence.\n",
    "\n",
    "As with most things, we typically assume a Gaussian:\n",
    "\n",
    "$$\n",
    "p(\\mathbf{z}_0) = \\mathcal{N}(\\mathbf{z}_0| \\boldsymbol{\\mu}_0, \\boldsymbol{\\Sigma}_0)\n",
    "$$"
   ]
  },
  {
   "cell_type": "code",
   "execution_count": null,
   "id": "a06a67da-b76a-461f-9747-c8aa64374d4b",
   "metadata": {},
   "outputs": [],
   "source": []
  },
  {
   "cell_type": "markdown",
   "id": "77ff0c4a-6e3f-441b-84c4-b8ed59edc51a",
   "metadata": {},
   "source": [
    "## Marginal Likelihood"
   ]
  },
  {
   "cell_type": "markdown",
   "id": "e4a8c30f-3691-4f99-97d0-d9de8059fc64",
   "metadata": {},
   "source": [
    "We can compute the log-likelihood of the sequence, i.e. the likelihood that the parameters given fit the data seen/trained-on. This allows us to actually train the Kalman Filter given the data. The equation is given by:\n",
    "\n",
    "$$\n",
    "p(\\mathbf{x}_t) = \\sum_t \\log p(\\mathbf{x}_t|\\mathbf{x}_{1:t-1})\n",
    "$$\n",
    "\n",
    "We can write this probability distribution exactly because we know it is Gaussian distributed\n",
    "\n",
    "$$\n",
    "p(\\mathbf{x}_t|\\mathbf{x}_{1:t-1})= \\mathcal{N}(\\mathbf{C}_t \\boldsymbol{\\mu}_{t|t-1}, \\mathbf{S}_t)\n",
    "$$\n",
    "\n",
    "where:\n",
    "*  ${\\boldsymbol \\mu}_{t:t-1}$ - is the mean\n",
    "* \n"
   ]
  },
  {
   "cell_type": "code",
   "execution_count": null,
   "id": "b1c75f0b-1da2-4d55-8f67-4d0e85abbed3",
   "metadata": {},
   "outputs": [],
   "source": []
  },
  {
   "cell_type": "markdown",
   "id": "b71cac41-e8e1-4ea2-bd45-426a547a5768",
   "metadata": {},
   "source": [
    "## Posterior Predictive\n",
    "\n",
    "This is a one-step-ahead predictive density for the observations. It predicts the next time step using all of the previous observations. It is given by these equations:\n",
    "\n",
    "$$\n",
    "p(\\mathbf{x}_t|\\mathbf{x}_{1:t-1}) = \\int \\mathcal{N}(\\mathbf{x}_t|\\mathbf{Cz}_t, \\mathbf{R})\\mathcal{N}(\\mathbf{z}_t|\\boldsymbol{\\mu}_{t|t-1},\\boldsymbol{\\Sigma}_{t|t-1})d\\mathbf{z}_t\n",
    "$$"
   ]
  },
  {
   "cell_type": "code",
   "execution_count": 21,
   "id": "899684d6-a577-4189-9813-a955959e2208",
   "metadata": {},
   "outputs": [],
   "source": [
    "def forecast():\n",
    "    return None"
   ]
  },
  {
   "cell_type": "markdown",
   "id": "0dc59ae4-f73a-4938-afb5-0ede718d3d41",
   "metadata": {},
   "source": [
    "## Smoothing Algorithm"
   ]
  },
  {
   "cell_type": "markdown",
   "id": "8a4a8f9e-e619-4307-b2a2-2672c6a221e3",
   "metadata": {},
   "source": [
    "This is a message passing algorithm that propagates from right to left after everything has been observed.\n",
    "\n",
    "$$\n",
    "\\begin{aligned}\n",
    "p(\\mathbf{z}_t|\\mathbf{x}_{1:T}) &= \\mathcal{N}(\\mathbf{z}_t|\\boldsymbol{\\mu}_{t:T},\\boldsymbol{\\Sigma}_{t:T})\n",
    "\\end{aligned}\n",
    "$$\n",
    "\n",
    "This is given by these equations:\n",
    "\n",
    "$$\n",
    "\\begin{aligned}\n",
    "\\boldsymbol{\\mu}_{t|T} &= \\boldsymbol{\\mu}_{t|t} + \\mathbf{J}_t \\left(\\boldsymbol{\\mu}_{t+1|T} - \\boldsymbol{\\mu}_{t+1|t} \\right) \\\\\n",
    "\\boldsymbol{\\Sigma}_{t|T} &= \\boldsymbol{\\Sigma}_{t|t} + \\mathbf{J}_t \\left(\\boldsymbol{\\mu}_{t+1|T} - \\boldsymbol{\\mu}_{t+1|t} \\right) \\mathbf{J}_t^\\top \\\\\n",
    "\\mathbf{J}_t &= \\boldsymbol{\\Sigma}_{t|t} \\mathbf{A}_{t+1}^\\top \\boldsymbol{\\Sigma}_{t+1|t}^{-1}\n",
    "\\end{aligned}\n",
    "$$\n"
   ]
  },
  {
   "cell_type": "code",
   "execution_count": 22,
   "id": "c7dddb0e-80d5-47e3-a3ee-7ddf76723d42",
   "metadata": {},
   "outputs": [],
   "source": [
    "def rts_smoother(state, dist):\n",
    "    return None"
   ]
  },
  {
   "cell_type": "markdown",
   "id": "24bd1bb8-134e-44e5-ae79-ba3db9d3312f",
   "metadata": {},
   "source": [
    "## Model Class"
   ]
  },
  {
   "cell_type": "code",
   "execution_count": null,
   "id": "96cec7b4-caab-43c7-8075-f49fc807bec7",
   "metadata": {},
   "outputs": [],
   "source": [
    "def LGSSM:\n",
    "    def __init__(self):\n",
    "        pass\n",
    "    \n",
    "    def log_prob(self, x: np.ndarray) -> np.ndarray:\n",
    "        pass\n",
    "    \n",
    "    def sample(self):\n",
    "        pass\n",
    "    \n",
    "    def filter(self):\n",
    "        pass\n",
    "    \n",
    "    def update(self):\n",
    "        pass\n",
    "    \n",
    "    def predict(self):\n",
    "        pass\n",
    "    \n",
    "    def smooth(self):\n",
    "        pass\n",
    "    "
   ]
  },
  {
   "cell_type": "markdown",
   "id": "59b8a35f-c404-45eb-8947-0840cb94f590",
   "metadata": {},
   "source": [
    "## Application I - Object Tracking"
   ]
  },
  {
   "cell_type": "markdown",
   "id": "c1e5a78d-349a-42eb-88f1-547c0658b9c6",
   "metadata": {},
   "source": [
    "\n",
    "$$\n",
    "\\mathbf{z}_t = \\mathbf{A}_t \\mathbf{z}_{t-1} + \\boldsymbol{\\epsilon}_t\n",
    "$$\n",
    "\n",
    "We can explicitly define the system dynamics as so:\n",
    "\n",
    "$$\n",
    "\\begin{bmatrix}\n",
    "z^1_t \\\\ z^2_t \\\\ z^3_t \\\\ z^4_t\n",
    "\\end{bmatrix}\n",
    "$$"
   ]
  },
  {
   "cell_type": "markdown",
   "id": "74d9e3b3-1e4b-47a3-a883-42ffca281172",
   "metadata": {},
   "source": [
    "## Application II - Predator Prey Model"
   ]
  },
  {
   "cell_type": "markdown",
   "id": "90da0659-5bf6-47f7-afcb-8a75a84cb694",
   "metadata": {},
   "source": [
    "In this example, we are going to assume that we have a 3d vector, $\\mathbf{x} = \\{x^0, x^1, x^2\\}$, which describes the dynamics. The dynamics between every time step is given by:\n",
    "\n",
    "$$\n",
    "\\begin{aligned}\n",
    "\\frac{dx^0}{dt} &= -0.1x^0 + 0.2x^1 \\\\\n",
    "\\frac{dx^1}{dt} &= -0.2x^0 + x^2 \\\\\n",
    "\\frac{dx^2}{dt} &= 0\n",
    "\\end{aligned}\n",
    "$$"
   ]
  },
  {
   "cell_type": "markdown",
   "id": "9839cea9-1a8f-464e-8652-61e4648f08e0",
   "metadata": {},
   "source": [
    "---\n",
    "We can rewrite this as a discretized version like so:\n",
    "\n",
    "$$\n",
    "\\mathbf{x}_{t+1} = \\mathbf{F} \\mathbf{x}_t\n",
    "$$\n",
    "\n",
    "where: $\\mathbf{F}=\\begin{bmatrix} -0.1 & 0.2 & 0 \\\\ -0.2 & 0 & 1 \\\\ 0 & 0 & 0 \\end{bmatrix}$.\n"
   ]
  },
  {
   "cell_type": "code",
   "execution_count": null,
   "id": "aa959f23-a60e-4e23-94ac-e62e146b516d",
   "metadata": {},
   "outputs": [],
   "source": []
  }
 ],
 "metadata": {
  "kernelspec": {
   "display_name": "Python [conda env:.conda-sci_py38]",
   "language": "python",
   "name": "conda-env-.conda-sci_py38-py"
  },
  "language_info": {
   "codemirror_mode": {
    "name": "ipython",
    "version": 3
   },
   "file_extension": ".py",
   "mimetype": "text/x-python",
   "name": "python",
   "nbconvert_exporter": "python",
   "pygments_lexer": "ipython3",
   "version": "3.9.7"
  }
 },
 "nbformat": 4,
 "nbformat_minor": 5
}
