{
 "cells": [
  {
   "cell_type": "code",
   "execution_count": 1,
   "id": "98ef9a10-ff9c-4f36-a450-645a749a8bc0",
   "metadata": {},
   "outputs": [],
   "source": [
    "import sys, os\n",
    "from pyprojroot import here\n",
    "\n",
    "# spyder up to find the root\n",
    "root = here(project_files=[\".here\"])\n",
    "\n",
    "# append to path\n",
    "sys.path.append(str(root))\n",
    "\n",
    "%load_ext autoreload\n",
    "%autoreload 2"
   ]
  },
  {
   "cell_type": "code",
   "execution_count": 6,
   "id": "27f03046-5a99-4da3-92a4-c53bbb0b1c98",
   "metadata": {},
   "outputs": [],
   "source": [
    "import jax.numpy as jnp\n",
    "import matplotlib.pyplot as plt\n",
    "import _src.lgssm as ssm\n",
    "from jax import random\n",
    "\n",
    "plt.rcParams[\"axes.spines.right\"] = False\n",
    "plt.rcParams[\"axes.spines.top\"] = False"
   ]
  },
  {
   "cell_type": "code",
   "execution_count": 7,
   "id": "1361d4d8-46d3-4e28-af56-b4b592871796",
   "metadata": {},
   "outputs": [
    {
     "name": "stderr",
     "output_type": "stream",
     "text": [
      "WARNING:absl:No GPU/TPU found, falling back to CPU. (Set TF_CPP_MIN_LOG_LEVEL=0 and rerun for more info.)\n"
     ]
    }
   ],
   "source": [
    "num_timesteps = 80\n",
    "state_size = 4\n",
    "obs_size = 2\n",
    "mu0 = jnp.array([8, 5, 1, 0]).astype(float)\n",
    "Sigma0 = jnp.eye(state_size) * 0.0001\n",
    "\n",
    "step_std = 0.1\n",
    "noise_std = 0.5\n",
    "\n",
    "# transition_matrix = jnp.eye(state_size)\n",
    "dt = 0.1\n",
    "transition_matrix = jnp.array([\n",
    "    [1, 0, dt, 0],\n",
    "    [0, 1, 0, dt],\n",
    "    [0, 0, 1, 0],\n",
    "    [0, 0, 0, 1]\n",
    "])\n",
    "transition_noise = ssm.MultivariateNormal(jnp.zeros(state_size),\n",
    "                                      step_std ** 2 * jnp.eye(state_size))\n",
    "\n",
    "observation_matrix = jnp.array([\n",
    "    [1, 0, 0, 0],\n",
    "    [0, 1, 0, 0]\n",
    "])\n",
    "observation_noise = ssm.MultivariateNormal(jnp.zeros(obs_size),\n",
    "                                       noise_std ** 2 * jnp.eye(obs_size))\n",
    "\n",
    "initial_state_prior = ssm.MultivariateNormal(mu0, Sigma0)"
   ]
  },
  {
   "cell_type": "code",
   "execution_count": 8,
   "id": "00463c64-812a-4f78-90a6-ed9c2d30a12a",
   "metadata": {},
   "outputs": [],
   "source": [
    "kf = ssm.LinearGaussianStateSpaceModel(transition_matrix, transition_noise,\n",
    "                                       observation_matrix, observation_noise,\n",
    "                                       initial_state_prior)"
   ]
  },
  {
   "cell_type": "code",
   "execution_count": 19,
   "id": "ae34d2b4-652a-48db-bd80-accc3ae523de",
   "metadata": {},
   "outputs": [
    {
     "name": "stdout",
     "output_type": "stream",
     "text": [
      "CPU times: user 1.89 s, sys: 76.6 ms, total: 1.97 s\n",
      "Wall time: 1.89 s\n"
     ]
    }
   ],
   "source": [
    "%%time\n",
    "n_samples = 1\n",
    "key = random.PRNGKey(31415)\n",
    "state_samples, obs_samples = kf.sample(seed=key, sample_shape=n_samples, num_timesteps=num_timesteps)"
   ]
  },
  {
   "cell_type": "markdown",
   "id": "34acad53-8e95-4301-94c3-ac8b729688bf",
   "metadata": {},
   "source": [
    "### Forward Filter"
   ]
  },
  {
   "cell_type": "code",
   "execution_count": 20,
   "id": "36659ccc-6f98-4eb9-ad88-3dcb7ae0f73f",
   "metadata": {},
   "outputs": [
    {
     "name": "stdout",
     "output_type": "stream",
     "text": [
      "CPU times: user 1.21 s, sys: 48 ms, total: 1.26 s\n",
      "Wall time: 1.24 s\n"
     ]
    }
   ],
   "source": [
    "%%time\n",
    "log_probs, mu_hist, Sigma_hist, mu_cond_hist, Sigma_cond_hist = kf.forward_filter(obs_samples)"
   ]
  },
  {
   "cell_type": "markdown",
   "id": "98d4b7e4-845e-452e-8ab8-d2e359abe5b8",
   "metadata": {},
   "source": [
    "### Backwards Filter"
   ]
  },
  {
   "cell_type": "code",
   "execution_count": 21,
   "id": "fb287cb2-6701-4cfd-8f56-40b9f9fd0fae",
   "metadata": {},
   "outputs": [
    {
     "name": "stdout",
     "output_type": "stream",
     "text": [
      "CPU times: user 1.53 s, sys: 108 ms, total: 1.64 s\n",
      "Wall time: 1.55 s\n"
     ]
    }
   ],
   "source": [
    "%%time\n",
    "\n",
    "mu_hist_smooth, Sigma_hist_smooth = kf.backward_smoothing_pass(mu_hist, Sigma_hist, mu_cond_hist, Sigma_cond_hist)"
   ]
  },
  {
   "cell_type": "markdown",
   "id": "cc3605ec-0245-48ad-98d9-01cd791c1eb8",
   "metadata": {},
   "source": [
    "### (Alternative) Posterior Marginals"
   ]
  },
  {
   "cell_type": "code",
   "execution_count": 22,
   "id": "0f018c11-6460-43f1-8d0e-5df4d86561ad",
   "metadata": {},
   "outputs": [
    {
     "name": "stdout",
     "output_type": "stream",
     "text": [
      "CPU times: user 2.29 s, sys: 50 ms, total: 2.34 s\n",
      "Wall time: 2.33 s\n"
     ]
    }
   ],
   "source": [
    "%%time\n",
    "\n",
    "mu_hist_smooth, Sigma_hist_smooth = kf.posterior_marginals(obs_samples)"
   ]
  },
  {
   "cell_type": "markdown",
   "id": "70f25c9c-c06e-450d-a383-acea4584563d",
   "metadata": {},
   "source": [
    "### Log Probability"
   ]
  },
  {
   "cell_type": "code",
   "execution_count": 23,
   "id": "afacee5d-9cb1-4821-bf48-6d9f4415d97e",
   "metadata": {},
   "outputs": [
    {
     "name": "stdout",
     "output_type": "stream",
     "text": [
      "[-106.710464]\n"
     ]
    }
   ],
   "source": [
    "marginal_log_likelihood = jnp.sum(log_probs, axis=-1)\n",
    "\n",
    "print(marginal_log_likelihood)"
   ]
  },
  {
   "cell_type": "code",
   "execution_count": 24,
   "id": "f2449fe9-b244-4641-882c-229e72228a40",
   "metadata": {},
   "outputs": [
    {
     "name": "stdout",
     "output_type": "stream",
     "text": [
      "106.710464\n"
     ]
    }
   ],
   "source": [
    "print(-marginal_log_likelihood.mean())"
   ]
  },
  {
   "cell_type": "markdown",
   "id": "526ef371-7a6e-469c-a641-c4f1033531af",
   "metadata": {},
   "source": []
  },
  {
   "cell_type": "markdown",
   "id": "8e0f7887-ae8f-4be1-9da8-1b2f989b72b2",
   "metadata": {},
   "source": [
    "## Viz"
   ]
  },
  {
   "cell_type": "code",
   "execution_count": 25,
   "id": "f7d46166-d7d1-4b6a-a98d-0e051106a031",
   "metadata": {},
   "outputs": [
    {
     "data": {
      "image/png": "[encoded data removed]",
      "text/plain": [
       "<Figure size 1339.2x288 with 3 Axes>"
      ]
     },
     "metadata": {
      "needs_background": "light"
     },
     "output_type": "display_data"
    }
   ],
   "source": [
    "fig, ax = plt.subplots(1, 3, figsize=(6.2 * 3, 4))\n",
    "for n in range(n_samples):\n",
    "    p = ax[0].plot(*state_samples[n, :, [0, 1]], linewidth=2)\n",
    "    c = p[0].get_color()\n",
    "    ax[1].plot(*mu_hist[n, :, [0, 1]], linewidth=2, c=c)\n",
    "    ax[2].plot(*mu_hist_smooth[n, :, [0, 1]], linewidth=2, c=c)\n",
    "\n",
    "    for axi in ax:\n",
    "        axi.scatter(*obs_samples[n, :, [0, 1]], s=10, alpha=0.5, c=c)\n",
    "    ax[0].set_title(\"State Space\")\n",
    "    ax[1].set_title(\"Forwards-Pass\")\n",
    "    ax[2].set_title(\"Backwards-Pass\")\n",
    "\n",
    "plt.show()"
   ]
  },
  {
   "cell_type": "code",
   "execution_count": null,
   "id": "92d55dfe-255c-4b16-bf9a-d5a5c3de43df",
   "metadata": {},
   "outputs": [],
   "source": []
  }
 ],
 "metadata": {
  "kernelspec": {
   "display_name": "Python [conda env:.conda-jax_cpu_py39]",
   "language": "python",
   "name": "conda-env-.conda-jax_cpu_py39-py"
  },
  "language_info": {
   "codemirror_mode": {
    "name": "ipython",
    "version": 3
   },
   "file_extension": ".py",
   "mimetype": "text/x-python",
   "name": "python",
   "nbconvert_exporter": "python",
   "pygments_lexer": "ipython3",
   "version": "3.9.7"
  }
 },
 "nbformat": 4,
 "nbformat_minor": 5
}
